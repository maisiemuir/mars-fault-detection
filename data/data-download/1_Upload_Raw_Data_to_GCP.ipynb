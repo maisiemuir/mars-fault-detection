{
 "cells": [
  {
   "cell_type": "markdown",
   "id": "2a8cc50c-0ae5-4313-bd46-2586c18c9618",
   "metadata": {},
   "source": [
    "# Uploading the raw data onto Google Cloud Storage"
   ]
  },
  {
   "cell_type": "markdown",
   "id": "159938e5-4a91-45ba-b64f-19024e6afbe2",
   "metadata": {},
   "source": [
    "To upload data from a url to Cloud Storage, we do this through the UI. It points to the url of a .tsv file that contains a list of all the urls that we want to extract the data from. \n",
    "\n",
    "Therefore, we just need to make a .tsv file containing the urls of the data we want to upload.\n",
    "\n",
    "We can do this programatically below."
   ]
  },
  {
   "cell_type": "code",
   "execution_count": 1,
   "id": "78c91f3d-0c62-4d8a-908a-9c8d36fbd0c7",
   "metadata": {},
   "outputs": [],
   "source": [
    "import pandas as pd"
   ]
  },
  {
   "cell_type": "code",
   "execution_count": 2,
   "id": "9a00ad8e-7349-482f-b39f-5d27d790b527",
   "metadata": {},
   "outputs": [],
   "source": [
    "def generate_tsv(urls, file_name):\n",
    "    \"\"\"\n",
    "    urls: list\n",
    "    file_name : str (no ext)\n",
    "    \n",
    "    The function will upload the .tsv file to the tsv_files/ folder.\n",
    "    \"\"\"\n",
    "    df = pd.DataFrame()\n",
    "    df[\"TsvHttpData-1.0\"] = urls\n",
    "    df.to_csv(f\"tsv_files/{file_name}.tsv\", sep = \" \", index = False)"
   ]
  },
  {
   "cell_type": "code",
   "execution_count": 3,
   "id": "9c4f99a3-156e-48df-a331-a42b6e91372f",
   "metadata": {},
   "outputs": [],
   "source": [
    "#generate_tsv([\"example_url\"], \"test\")"
   ]
  },
  {
   "cell_type": "markdown",
   "id": "19738f8b-46e7-410a-a9e5-5437916e9c16",
   "metadata": {},
   "source": [
    "# 1. Testing on sample of 2 CTX data "
   ]
  },
  {
   "cell_type": "code",
   "execution_count": 4,
   "id": "558ef764-c9f6-40f4-87d6-3c3683d89c15",
   "metadata": {},
   "outputs": [],
   "source": [
    "urls = [\n",
    "    \"http://murray-lab.caltech.edu/CTX/V01/tiles/MurrayLab_GlobalCTXMosaic_V01_E-096_N40.zip\",\n",
    "    \"http://murray-lab.caltech.edu/CTX/V01/tiles/MurrayLab_GlobalCTXMosaic_V01_E-096_N36.zip\"\n",
    "]"
   ]
  },
  {
   "cell_type": "code",
   "execution_count": 5,
   "id": "d9a9115a-6867-4c84-8587-3b9ef68b974c",
   "metadata": {},
   "outputs": [],
   "source": [
    "generate_tsv(urls, \"ctx_sample_2\")"
   ]
  },
  {
   "cell_type": "code",
   "execution_count": null,
   "id": "46252450-0670-4a3d-973a-8e4ef2d3bb0b",
   "metadata": {},
   "outputs": [],
   "source": []
  }
 ],
 "metadata": {
  "environment": {
   "kernel": "python3",
   "name": "common-cpu.m109",
   "type": "gcloud",
   "uri": "gcr.io/deeplearning-platform-release/base-cpu:m109"
  },
  "kernelspec": {
   "display_name": "Python 3",
   "language": "python",
   "name": "python3"
  },
  "language_info": {
   "codemirror_mode": {
    "name": "ipython",
    "version": 3
   },
   "file_extension": ".py",
   "mimetype": "text/x-python",
   "name": "python",
   "nbconvert_exporter": "python",
   "pygments_lexer": "ipython3",
   "version": "3.10.11"
  }
 },
 "nbformat": 4,
 "nbformat_minor": 5
}
