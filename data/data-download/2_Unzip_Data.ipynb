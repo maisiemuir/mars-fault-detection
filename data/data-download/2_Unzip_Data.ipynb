{
 "cells": [
  {
   "cell_type": "markdown",
   "id": "a2a5b704-8a5a-4206-9d4c-8476feb22ff0",
   "metadata": {},
   "source": [
    "# Unzipping Data on GCP"
   ]
  },
  {
   "cell_type": "markdown",
   "id": "c1f42ea4-0975-4245-aca8-4af4c4b8e833",
   "metadata": {},
   "source": [
    "Since the CTX data (http://murray-lab.caltech.edu/CTX/V01/tiles/) is in .zip form, we first ingest the zip files on GCP, and then unzip them to extract the files."
   ]
  },
  {
   "cell_type": "code",
   "execution_count": null,
   "id": "23cfb0bb-a68a-4941-b221-f89a49dda591",
   "metadata": {},
   "outputs": [],
   "source": [
    "from google.cloud import storage\n",
    "from zipfile import ZipFile\n",
    "from zipfile import is_zipfile\n",
    "import io"
   ]
  },
  {
   "cell_type": "markdown",
   "id": "39b3b98d-a76d-4700-986c-846411dde8e9",
   "metadata": {},
   "source": [
    "# 1. Unzipping the CTX data (sample of 2)"
   ]
  },
  {
   "cell_type": "markdown",
   "id": "49c4f339-7f11-4e19-97e4-3ccef7b69478",
   "metadata": {},
   "source": [
    "http://murray-lab.caltech.edu/CTX/V01/tiles/"
   ]
  },
  {
   "cell_type": "code",
   "execution_count": null,
   "id": "d16f2881-5628-43b5-857d-788f81e2b1c6",
   "metadata": {},
   "outputs": [],
   "source": [
    "# Adapted from: https://stackoverflow.com/questions/49541026/how-do-i-unzip-a-zip-file-in-google-cloud-storage\n",
    "def zipextract_ctx(gs_zip_path, gs_unzip_folder):\n",
    "    \"\"\"\n",
    "    Unzips the CTX file from GCP, and puts the zipped .tif file\n",
    "    in the folder specified.\n",
    "    Please note: this function ignores everything that isn't a .tif file.\n",
    "    \n",
    "    \"\"\"\n",
    "    # Both paths must be in same bucket\n",
    "    \n",
    "    bucketname = gs_zip_path.split(\"/\")[2]\n",
    "    zipfilename_with_path = gs_zip_path.split(f\"{bucketname}/\")[1]\n",
    "    unzipfilename_with_path = gs_unzip_folder.split(f\"{bucketname}/\")[1]\n",
    "\n",
    "    storage_client = storage.Client()\n",
    "    bucket = storage_client.get_bucket(bucketname)\n",
    "\n",
    "    destination_blob_pathname = zipfilename_with_path\n",
    "\n",
    "    blob = bucket.blob(destination_blob_pathname)\n",
    "    zipbytes = io.BytesIO(blob.download_as_string())\n",
    "\n",
    "    if is_zipfile(zipbytes):\n",
    "        with ZipFile(zipbytes, 'r') as myzip:\n",
    "            for contentfilename in myzip.namelist():\n",
    "                # Taking .tif only\n",
    "                if contentfilename[-3:] == \"tif\":\n",
    "                    #print(f\"contentfilename: {contentfilename}\")\n",
    "                    contentfile = myzip.read(contentfilename)\n",
    "                    #print(f\"contentfile: {contentfile}\")\n",
    "                    contentfilename_save = contentfilename.split(\"/\")[-1]\n",
    "                    blob = bucket.blob(unzipfilename_with_path + \"/\" + contentfilename_save)\n",
    "                    blob.upload_from_string(contentfile)"
   ]
  },
  {
   "cell_type": "code",
   "execution_count": null,
   "id": "3d059da8-4421-4dd8-8e31-6fe45b8f7e1f",
   "metadata": {},
   "outputs": [],
   "source": [
    "# Gets all zip files in folder\n",
    "# https://stackoverflow.com/questions/22398898/google-cloud-storage-python-any-way-to-list-obj-in-certain-folder-in-gcs\n",
    "gs_zip_paths = []\n",
    "client = storage.Client()\n",
    "for blob in client.list_blobs('esg-satelite-data-warehouse', prefix='mars/features/ctx_sample_2/raw/murray-lab.caltech.edu/CTX/V01/tiles'):\n",
    "    gs_zip_path = f\"gs://esg-satelite-data-warehouse/{str(blob).split(', ')[1]}\"\n",
    "    gs_zip_paths.append(gs_zip_path)"
   ]
  },
  {
   "cell_type": "code",
   "execution_count": null,
   "id": "4c3b2351-24a9-4eac-9873-6585b487257c",
   "metadata": {},
   "outputs": [],
   "source": [
    "for gs_zip_path in gs_zip_paths:\n",
    "    zipextract_ctx(\n",
    "        gs_zip_path = gs_zip_path, \n",
    "        gs_unzip_folder = \"gs://esg-satelite-data-warehouse/mars/features/ctx_sample_2/raw_unzipped\"\n",
    "    )"
   ]
  },
  {
   "cell_type": "markdown",
   "id": "d06aca03-ac22-409e-ae17-962b03292ac0",
   "metadata": {},
   "source": [
    "# 2. Unzipping the CTX data for Tempe Terra"
   ]
  },
  {
   "cell_type": "code",
   "execution_count": null,
   "id": "2edb532c-fa82-4d3c-8e0a-b7c7f05df2f7",
   "metadata": {},
   "outputs": [],
   "source": [
    "# Gets all zip files in folder\n",
    "# https://stackoverflow.com/questions/22398898/google-cloud-storage-python-any-way-to-list-obj-in-certain-folder-in-gcs\n",
    "gs_zip_paths = []\n",
    "client = storage.Client()\n",
    "for blob in client.list_blobs('esg-satelite-data-warehouse', prefix='mars/features/ctx_tempe_terra/raw/murray-lab.caltech.edu/CTX/V01/tiles'):\n",
    "    gs_zip_path = f\"gs://esg-satelite-data-warehouse/{str(blob).split(', ')[1]}\"\n",
    "    gs_zip_paths.append(gs_zip_path)"
   ]
  },
  {
   "cell_type": "code",
   "execution_count": null,
   "id": "28f680fd-eee4-4821-b7e0-6ab16e679cbb",
   "metadata": {},
   "outputs": [
    {
     "name": "stdout",
     "output_type": "stream",
     "text": [
      "Successfully unzipped 1 of 66 files.\n",
      "Successfully unzipped 2 of 66 files.\n",
      "Successfully unzipped 3 of 66 files.\n",
      "Successfully unzipped 4 of 66 files.\n",
      "Successfully unzipped 5 of 66 files.\n",
      "Successfully unzipped 6 of 66 files.\n",
      "Successfully unzipped 7 of 66 files.\n",
      "Successfully unzipped 8 of 66 files.\n",
      "Successfully unzipped 9 of 66 files.\n",
      "Successfully unzipped 10 of 66 files.\n",
      "Successfully unzipped 11 of 66 files.\n",
      "Successfully unzipped 12 of 66 files.\n",
      "Successfully unzipped 13 of 66 files.\n",
      "Successfully unzipped 14 of 66 files.\n",
      "Successfully unzipped 15 of 66 files.\n",
      "Successfully unzipped 16 of 66 files.\n",
      "Successfully unzipped 17 of 66 files.\n",
      "Successfully unzipped 18 of 66 files.\n",
      "Successfully unzipped 19 of 66 files.\n",
      "Successfully unzipped 20 of 66 files.\n",
      "Successfully unzipped 21 of 66 files.\n",
      "Successfully unzipped 22 of 66 files.\n",
      "Successfully unzipped 23 of 66 files.\n",
      "Successfully unzipped 24 of 66 files.\n",
      "Successfully unzipped 25 of 66 files.\n",
      "Successfully unzipped 26 of 66 files.\n",
      "Successfully unzipped 27 of 66 files.\n",
      "Successfully unzipped 28 of 66 files.\n",
      "Successfully unzipped 29 of 66 files.\n",
      "Successfully unzipped 30 of 66 files.\n",
      "Successfully unzipped 31 of 66 files.\n",
      "Successfully unzipped 32 of 66 files.\n",
      "Successfully unzipped 33 of 66 files.\n",
      "Successfully unzipped 34 of 66 files.\n",
      "Successfully unzipped 35 of 66 files.\n",
      "Successfully unzipped 36 of 66 files.\n",
      "Successfully unzipped 37 of 66 files.\n",
      "Successfully unzipped 38 of 66 files.\n",
      "Successfully unzipped 39 of 66 files.\n",
      "Successfully unzipped 40 of 66 files.\n",
      "Successfully unzipped 41 of 66 files.\n",
      "Successfully unzipped 42 of 66 files.\n",
      "Successfully unzipped 43 of 66 files.\n",
      "Successfully unzipped 44 of 66 files.\n",
      "Successfully unzipped 45 of 66 files.\n",
      "Successfully unzipped 46 of 66 files.\n",
      "Successfully unzipped 47 of 66 files.\n",
      "Successfully unzipped 48 of 66 files.\n",
      "Successfully unzipped 49 of 66 files.\n",
      "Successfully unzipped 50 of 66 files.\n",
      "Successfully unzipped 51 of 66 files.\n",
      "Successfully unzipped 52 of 66 files.\n",
      "Successfully unzipped 53 of 66 files.\n",
      "Successfully unzipped 54 of 66 files.\n",
      "Successfully unzipped 55 of 66 files.\n",
      "Successfully unzipped 56 of 66 files.\n",
      "Successfully unzipped 57 of 66 files.\n",
      "Successfully unzipped 58 of 66 files.\n",
      "Successfully unzipped 59 of 66 files.\n",
      "Successfully unzipped 60 of 66 files.\n",
      "Successfully unzipped 61 of 66 files.\n",
      "Successfully unzipped 62 of 66 files.\n",
      "Successfully unzipped 63 of 66 files.\n",
      "Successfully unzipped 64 of 66 files.\n",
      "Successfully unzipped 65 of 66 files.\n",
      "Successfully unzipped 66 of 66 files.\n"
     ]
    }
   ],
   "source": [
    "i = 1\n",
    "for gs_zip_path in gs_zip_paths:\n",
    "    zipextract_ctx(\n",
    "        gs_zip_path = gs_zip_path, \n",
    "        gs_unzip_folder = \"gs://esg-satelite-data-warehouse/mars/features/ctx_tempe_terra/raw_unzipped_tif\"\n",
    "    )\n",
    "    print(f\"Successfully unzipped {i} of 66 files.\")\n",
    "    i+=1"
   ]
  }
 ],
 "metadata": {
  "environment": {
   "kernel": "python3",
   "name": "common-cpu.m109",
   "type": "gcloud",
   "uri": "gcr.io/deeplearning-platform-release/base-cpu:m109"
  },
  "kernelspec": {
   "display_name": "Python 3",
   "language": "python",
   "name": "python3"
  },
  "language_info": {
   "codemirror_mode": {
    "name": "ipython",
    "version": 3
   },
   "file_extension": ".py",
   "mimetype": "text/x-python",
   "name": "python",
   "nbconvert_exporter": "python",
   "pygments_lexer": "ipython3",
   "version": "3.10.11"
  }
 },
 "nbformat": 4,
 "nbformat_minor": 5
}
