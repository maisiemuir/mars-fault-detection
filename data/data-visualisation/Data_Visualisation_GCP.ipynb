{
 "cells": [
  {
   "cell_type": "markdown",
   "id": "713d52c6-45da-4e94-a519-32c1b9e615f1",
   "metadata": {},
   "source": [
    "# Data Visualisation"
   ]
  },
  {
   "cell_type": "markdown",
   "id": "09009e40-fdab-4b30-a18e-f339211a23b9",
   "metadata": {},
   "source": [
    "The goal of this notebook is to visualise the Mars fault line labels, which are in the form of a shapefile.\n",
    "\n",
    "The extra challenge of this is the fact that the geometry of the shapefile is a Martian geometry (MARS2000). This geometry is projected, and so the geometry is in x,y coordinate pair format.\n",
    "\n",
    "Ideally this visualisation is in the form of an interactive map on top of a Martian basemap. Even more ideally, this basemap corresponds to the map used to derive the fault lines in the first place so that everything lines up nicely."
   ]
  },
  {
   "cell_type": "markdown",
   "id": "9a6ea508-ce19-49ff-954f-b9b89bc76731",
   "metadata": {},
   "source": [
    "## 1. Config"
   ]
  },
  {
   "cell_type": "code",
   "execution_count": null,
   "id": "cd5d9eb9-04ac-42e7-9f42-67629bd31b8d",
   "metadata": {},
   "outputs": [],
   "source": [
    "import geopandas as gpd\n",
    "import folium\n",
    "import shapely\n",
    "import os\n",
    "import pyproj\n",
    "import pycrs"
   ]
  },
  {
   "cell_type": "markdown",
   "id": "1364b46f-9830-436d-86e9-6511526a39da",
   "metadata": {},
   "source": [
    "## 2. Data Loading"
   ]
  },
  {
   "cell_type": "code",
   "execution_count": null,
   "id": "2f793055-da8c-4502-b025-261d656d9ad9",
   "metadata": {},
   "outputs": [],
   "source": [
    "labels = gpd.read_file(\"gs://esg-satelite-data-warehouse/mars/mars_labels/Orlov_TempeTerra_fault_catalogue.shp\")"
   ]
  },
  {
   "cell_type": "code",
   "execution_count": null,
   "id": "59b462c9-2da1-44a1-afd7-3ef79920e24a",
   "metadata": {},
   "outputs": [],
   "source": [
    "labels.head(1)"
   ]
  },
  {
   "cell_type": "markdown",
   "id": "dc05ed0d-21b4-4c42-85aa-9533ca14029e",
   "metadata": {},
   "source": [
    "## 3. Plotting Using Folium"
   ]
  },
  {
   "cell_type": "code",
   "execution_count": null,
   "id": "b69c30a1-36cd-4607-bb8f-550ae710679b",
   "metadata": {},
   "outputs": [],
   "source": [
    "os.environ[\"PROJ_IGNORE_CELESTIAL_BODY\"] = \"YES\""
   ]
  },
  {
   "cell_type": "markdown",
   "id": "e0fc8085-db2c-49dd-9306-62616224411c",
   "metadata": {},
   "source": [
    "The following code cell is not used but here for reference.\n",
    "\n",
    "- We can load in the projection file associated with the shapefile we have and create a transformer.\n",
    "- This transformer allows us to convert the x,y coordinate pairs into lat/long coordinates (or back if we wish).\n",
    "- The problem with this is that the lat/long pairs are **Martian** lat/long pairs. A particular latitude on Mars is a difference distance from the meridian when compared to the same latitude on Earth, due to differences in planet diameter.\n",
    "- Therefore this approach is not useful."
   ]
  },
  {
   "cell_type": "code",
   "execution_count": null,
   "id": "b1ff19f6-ca4f-4ce2-9ea8-42882e651bd4",
   "metadata": {},
   "outputs": [],
   "source": [
    "# crs = pycrs.load.from_file(\"projection.prj\")\n",
    "# proj4 = crs.to_proj4()\n",
    "# p = pyproj.Proj(proj4)\n",
    "\n",
    "# labels[\"geometry\"] = labels.geometry.map(lambda polygon: shapely.ops.transform(lambda x, y: p(x, y, inverse=True), polygon))"
   ]
  },
  {
   "cell_type": "markdown",
   "id": "98b57b55-9325-4eaf-b641-ee3befb2d376",
   "metadata": {},
   "source": [
    "We need to convert our Martian data into an Earth-based projection. This is because our visualisation tooling only supports Earth projections.\n",
    "\n",
    "The goal therefore is to map the Martian points that we have onto an Earth-sized sphere. Thankfully, this is actually quite straightforward. We use the EPSG:4236 projection here which is in lat/long format."
   ]
  },
  {
   "cell_type": "code",
   "execution_count": null,
   "id": "bb2d0bad-058a-4e1f-b317-df53d0d5d0ea",
   "metadata": {},
   "outputs": [],
   "source": [
    "labels = labels.to_crs(\"epsg:4326\")"
   ]
  },
  {
   "cell_type": "code",
   "execution_count": null,
   "id": "8b8d80fa-00c9-4410-8d66-ddd40fd1ea68",
   "metadata": {},
   "outputs": [],
   "source": [
    "labels.head(1)"
   ]
  },
  {
   "cell_type": "markdown",
   "id": "8a200299-9a20-4a5b-ada2-2573927db92a",
   "metadata": {},
   "source": [
    "Now we can produce the map.\n",
    "\n",
    "- The basemap we are using is from ArcGIS: https://www.arcgis.com/home/item.html?id=07b33bb3067747abbebd1ce34c29816e\n",
    "- This is a colourised basemap, actually derived from this data: https://astrogeology.usgs.gov/search/map/Mars/Topography/HRSC_MOLA_Blend/Mars_HRSC_MOLA_BlendDEM_Global_200mp_v2\n",
    "\n",
    "It turns out, this data is ultimately one of the features used to derive the fault lines in the first place. So this is ideal."
   ]
  },
  {
   "cell_type": "markdown",
   "id": "0f914245-0924-424a-8764-30877d10de68",
   "metadata": {},
   "source": [
    "We also need to make sure we set the CRS to be the same as our data (4326) and that of the basemap (?)."
   ]
  },
  {
   "cell_type": "code",
   "execution_count": null,
   "id": "bb58f866-d850-4655-9feb-ec61ad11512a",
   "metadata": {},
   "outputs": [],
   "source": [
    "Map = folium.Map(\n",
    "    tiles=\"https://astro.arcgis.com/arcgis/rest/services/OnMars/MColorDEM/MapServer/tile/{z}/{y}/{x}.png\", \n",
    "    crs=\"EPSG4326\",\n",
    "    attr=\"Basemap from: https://www.openplanetary.org/opm/basemaps\"\n",
    ")"
   ]
  },
  {
   "cell_type": "markdown",
   "id": "1f0599f8-133f-4e0b-9ca4-8ab31ca51333",
   "metadata": {},
   "source": [
    "Setting an appropriate default zoom."
   ]
  },
  {
   "cell_type": "code",
   "execution_count": null,
   "id": "3c1ece77-e8c4-4363-8f39-906acea5d897",
   "metadata": {},
   "outputs": [],
   "source": [
    "x1, y1, x2, y2 = labels[\"geometry\"].total_bounds\n",
    "Map.fit_bounds([[y1, x1], [y2, x2]])"
   ]
  },
  {
   "cell_type": "markdown",
   "id": "e2c8a0c3-154a-4215-b716-dec978e46828",
   "metadata": {},
   "source": [
    "And adding our fault lines."
   ]
  },
  {
   "cell_type": "code",
   "execution_count": null,
   "id": "6c086123-1dcb-435c-b0d5-aa9c41a2b6d0",
   "metadata": {},
   "outputs": [],
   "source": [
    "_ = folium.GeoJson(labels[\"geometry\"]).add_to(Map)"
   ]
  },
  {
   "cell_type": "code",
   "execution_count": null,
   "id": "35751a68-a883-4ad2-bdfe-2326faba1847",
   "metadata": {},
   "outputs": [],
   "source": [
    "Map"
   ]
  }
 ],
 "metadata": {
  "environment": {
   "kernel": "python3",
   "name": "common-cpu.m109",
   "type": "gcloud",
   "uri": "gcr.io/deeplearning-platform-release/base-cpu:m109"
  },
  "kernelspec": {
   "display_name": "Python 3",
   "language": "python",
   "name": "python3"
  },
  "language_info": {
   "codemirror_mode": {
    "name": "ipython",
    "version": 3
   },
   "file_extension": ".py",
   "mimetype": "text/x-python",
   "name": "python",
   "nbconvert_exporter": "python",
   "pygments_lexer": "ipython3",
   "version": "3.10.11"
  }
 },
 "nbformat": 4,
 "nbformat_minor": 5
}
