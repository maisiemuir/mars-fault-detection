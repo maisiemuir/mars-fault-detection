{
 "cells": [
  {
   "cell_type": "markdown",
   "id": "62062cc7-e570-4531-994a-1705df2af41c",
   "metadata": {},
   "source": [
    "# Data Processing on Google Earth Engine"
   ]
  },
  {
   "cell_type": "markdown",
   "id": "36c1148d-d1d5-4410-8206-e734ed76e154",
   "metadata": {},
   "source": [
    "This notebook shows...\n",
    "- data processing on Google Earth Engine\n",
    "- exporting to GCP as TensorFlow objects"
   ]
  },
  {
   "cell_type": "markdown",
   "id": "6b92c77f-de43-48dd-beb6-20d173085186",
   "metadata": {},
   "source": [
    "# 1. Config"
   ]
  },
  {
   "cell_type": "code",
   "execution_count": 14,
   "id": "9d3945a2-a9d9-4222-bd42-7b3a556a5891",
   "metadata": {},
   "outputs": [],
   "source": [
    "import ee\n",
    "import geopandas as gpd\n",
    "import tensorflow as tf\n",
    "import folium"
   ]
  },
  {
   "cell_type": "code",
   "execution_count": 2,
   "id": "8e17317e-cf92-423b-8ffc-b1a328895f46",
   "metadata": {},
   "outputs": [],
   "source": [
    "ee.Initialize()"
   ]
  },
  {
   "cell_type": "code",
   "execution_count": 3,
   "id": "8895dcce-7e27-48ab-b73a-ef32bef261bb",
   "metadata": {},
   "outputs": [],
   "source": [
    "# Required to export images\n",
    "# When we export an image, we export everything within a pre-defined region\n",
    "# We just set the region to be the world (the below)\n",
    "# Note that we aren't sure why we have to use 88 instead of 90 - might have come from Sara!\n",
    "GEOMETRY_WORLD = ee.Geometry.Polygon(\n",
    "    [\n",
    "        [-180, 88],\n",
    "        [180, 88],\n",
    "        [180, -88],\n",
    "        [-180, -88],\n",
    "    ],\n",
    "    None,\n",
    "    False\n",
    ")"
   ]
  },
  {
   "cell_type": "code",
   "execution_count": 15,
   "id": "af34a17a-199d-4585-be18-9e6b6573ac18",
   "metadata": {},
   "outputs": [],
   "source": [
    "# Creating add_ee_layer function\n",
    "# This allows us to visualise EE objects on a Folium map\n",
    "def add_ee_layer(self, ee_image_object, vis_params, name):\n",
    "    map_id_dict = ee_image_object.getMapId(vis_params)\n",
    "    folium.raster_layers.TileLayer(\n",
    "        tiles = map_id_dict['tile_fetcher'].url_format,\n",
    "        attr = 'Map Data &copy; <a href=\"https://earthengine.google.com/\">Google Earth Engine</a>',\n",
    "        name = name,\n",
    "        overlay = True,\n",
    "        control = True\n",
    "    ).add_to(self)\n",
    "\n",
    "folium.Map.add_ee_layer = add_ee_layer"
   ]
  },
  {
   "cell_type": "markdown",
   "id": "413e71f4-e6e8-4019-8363-6b3cd8645111",
   "metadata": {},
   "source": [
    "# 2. Data Processing"
   ]
  },
  {
   "cell_type": "markdown",
   "id": "ffb01963-389c-4d7b-8d8b-6e200c844fb7",
   "metadata": {},
   "source": [
    "## 2.1. Fault labels"
   ]
  },
  {
   "cell_type": "markdown",
   "id": "38c8aee0-b210-47c6-97f2-94ef261e0419",
   "metadata": {},
   "source": [
    "Here we will turn the vectors into a raster (image of 1s and 0s where 1 indicates a fault and 0 indicates no fault)."
   ]
  },
  {
   "cell_type": "code",
   "execution_count": 4,
   "id": "b7aebf1c-965c-4d9a-98d4-8a5af2fef6b9",
   "metadata": {},
   "outputs": [],
   "source": [
    "# Read in data from EE\n",
    "faultline_vectors = ee.FeatureCollection(\"projects/esg-satelite/assets/mars/labels/faults/pre/faults\")"
   ]
  },
  {
   "cell_type": "code",
   "execution_count": null,
   "id": "2e073dfb-4d4d-4b8f-9861-85d7b8145dae",
   "metadata": {},
   "outputs": [],
   "source": [
    "# Add a columns of ones \n",
    "# This assigns each geometry (each fault/vector) to the value 1\n",
    "# and assigns every other space to nothing (which we will fix later)\n",
    "def add_column(feature):\n",
    "    return feature.set({\"Value\": 1})\n",
    "\n",
    "faultline_vectors_with_ones = faultline_vectors.map(add_column)"
   ]
  },
  {
   "cell_type": "code",
   "execution_count": null,
   "id": "39f70c94-3f53-4ba1-b45e-55f6779b19c3",
   "metadata": {},
   "outputs": [],
   "source": [
    "faultline_im = (\n",
    "    # Convert to image\n",
    "    faultline_vectors_with_ones.reduceToImage(\n",
    "        properties=[\"Value\"],\n",
    "        reducer=ee.Reducer.first()\n",
    "    )\n",
    "    # Change band name \"first\"  to \"FAULTLINE\" \n",
    "    .select([\"first\"], [\"FAULTLINE\"])\n",
    "    # Unmask, which changes all non-fault pixels to have value 0\n",
    "    .unmask(0)\n",
    ")"
   ]
  },
  {
   "cell_type": "code",
   "execution_count": null,
   "id": "4536c38d-6e7c-49c7-b815-17cb29e128dc",
   "metadata": {},
   "outputs": [],
   "source": [
    "# Export to EE\n",
    "# NOTE: There is a crs parameter that can be assigned here\n",
    "# NOTE: We can play around with different scales (scale might require the crs being assigned)\n",
    "task = ee.batch.Export.image.toAsset(\n",
    "    faultline_im,\n",
    "    description = \"Faultline_image\",\n",
    "    assetId=\"projects/esg-satelite/assets/mars/labels/faults/post/faults_raster\",\n",
    "    region=GEOMETRY_WORLD,\n",
    "    scale=1000,\n",
    "    maxPixels=1e11 \n",
    "    # TODO: There is a crs parameter that can be assigned here?\n",
    ")"
   ]
  },
  {
   "cell_type": "code",
   "execution_count": null,
   "id": "abd82a8f-d5c4-4c0d-a988-266dbc7a87db",
   "metadata": {},
   "outputs": [],
   "source": [
    "#task.start()"
   ]
  },
  {
   "cell_type": "markdown",
   "id": "8c66af18-e300-41e6-83a6-7b9001ac8ac9",
   "metadata": {},
   "source": [
    "## 2.2. HRSC Images (sample of 3 only)"
   ]
  },
  {
   "cell_type": "markdown",
   "id": "88ba50d5-46ae-49ae-a8bd-526624cbd2c6",
   "metadata": {},
   "source": [
    "Here we will do two things\n",
    "- Remove the black band from each image\n",
    "- Mosaic the images together (i.e. flatten them into one image)"
   ]
  },
  {
   "cell_type": "code",
   "execution_count": 5,
   "id": "543d6dec-7706-49dd-a65c-20f9266784ba",
   "metadata": {},
   "outputs": [],
   "source": [
    "# Read in data from EE\n",
    "mars_hrsc_sample = ee.ImageCollection(\"projects/esg-satelite/assets/mars/features/hrsc_sample_3/pre/hrsc_sample\")"
   ]
  },
  {
   "cell_type": "code",
   "execution_count": 6,
   "id": "5d104cbb-a035-4e88-bed8-4bcedaee2ba2",
   "metadata": {},
   "outputs": [],
   "source": [
    "# Renaming the band from \"b1\" to HRSC\n",
    "mars_hrsc_sample = mars_hrsc_sample.select([\"b1\"], [\"HRSC\"])"
   ]
  },
  {
   "cell_type": "code",
   "execution_count": 7,
   "id": "f81845f0-10ac-4b90-8016-75c1325a59ce",
   "metadata": {},
   "outputs": [],
   "source": [
    "# Removes black band\n",
    "# Applies a mask that keeps only the parts that have value greater than (\"gt\") 0\n",
    "# Note that black is 0\n",
    "def pixel_mask(image):\n",
    "    return image.updateMask((image.select(\"HRSC\").gt(0)))\n",
    "\n",
    "mars_hrsc_filtered = mars_hrsc_sample.map(pixel_mask)"
   ]
  },
  {
   "cell_type": "code",
   "execution_count": 8,
   "id": "69a3735f-f32e-4aa3-9254-65c5f6a5391b",
   "metadata": {},
   "outputs": [],
   "source": [
    "# Mosaics the image collection\n",
    "mars_hrsc_mosaic = mars_hrsc_filtered.mosaic()"
   ]
  },
  {
   "cell_type": "code",
   "execution_count": null,
   "id": "b6df1ef3-1706-4350-b471-7fe69a264753",
   "metadata": {},
   "outputs": [],
   "source": [
    "# This is the code we used to check whether the black bands were actually 0\n",
    "# TODO: What does this code do again? Forgotton!\n",
    "# region = mars_hrsc_sample.geometry()\n",
    "# maxReducer = ee.Reducer.min()\n",
    "# print(mars_hrsc_mosaic.reduceRegion(maxReducer, region, 300, bestEffort=True).getInfo())"
   ]
  },
  {
   "cell_type": "code",
   "execution_count": 9,
   "id": "222a3bef-6ed2-4e6b-9bf2-3193a7e84db3",
   "metadata": {},
   "outputs": [],
   "source": [
    "# Export to EE\n",
    "# NOTE: There is a crs parameter that can be assigned here\n",
    "# NOTE: We can play around with different scales (scale might require the crs being assigned)\n",
    "task = ee.batch.Export.image.toAsset(\n",
    "    mars_hrsc_mosaic,\n",
    "    description = \"HRSC_Image\",\n",
    "    assetId=\"projects/esg-satelite/assets/mars/features/hrsc_sample_3/post/hrsc_sample\",\n",
    "    region=GEOMETRY_WORLD,\n",
    "    scale=1000,\n",
    "    maxPixels=1e11\n",
    ")"
   ]
  },
  {
   "cell_type": "code",
   "execution_count": 10,
   "id": "47755901-b962-4122-bd89-1c7b24e807b5",
   "metadata": {},
   "outputs": [],
   "source": [
    "task.start()"
   ]
  },
  {
   "cell_type": "markdown",
   "id": "f8bf1aa0-4b1a-44db-8049-0cfc4a744a3a",
   "metadata": {},
   "source": [
    "## 2.3. CTX (Sample of 2 only)"
   ]
  },
  {
   "cell_type": "code",
   "execution_count": 18,
   "id": "56d642a2-a079-4593-820b-2bfde183ac78",
   "metadata": {},
   "outputs": [],
   "source": [
    "# Read in data from EE\n",
    "ctx_sample = ee.ImageCollection(\"projects/esg-satelite/assets/mars/features/ctx_sample_2/pre/ctx_sample\")"
   ]
  },
  {
   "cell_type": "code",
   "execution_count": 11,
   "id": "b973ccdc-843e-46a8-9604-080870cbcddd",
   "metadata": {},
   "outputs": [
    {
     "data": {
      "text/plain": [
       "['b1']"
      ]
     },
     "execution_count": 11,
     "metadata": {},
     "output_type": "execute_result"
    }
   ],
   "source": [
    "# Printing band name\n",
    "ctx_sample.first().bandNames().getInfo()"
   ]
  },
  {
   "cell_type": "code",
   "execution_count": 12,
   "id": "ebdd6a54-f9a1-4bd4-bde2-875fa44e38fa",
   "metadata": {},
   "outputs": [],
   "source": [
    "# Renaming the band from \"b1\" to HRSC\n",
    "ctx_sample = ctx_sample.select([\"b1\"], [\"CTX\"])"
   ]
  },
  {
   "cell_type": "code",
   "execution_count": 19,
   "id": "4193723b-aed7-4fbe-a7df-41556bb633f2",
   "metadata": {},
   "outputs": [
    {
     "data": {
      "text/html": [
       "<div style=\"width:100%;\"><div style=\"position:relative;width:100%;height:0;padding-bottom:60%;\"><span style=\"color:#565656\">Make this Notebook Trusted to load map: File -> Trust Notebook</span><iframe srcdoc=\"&lt;!DOCTYPE html&gt;\n",
       "&lt;html&gt;\n",
       "&lt;head&gt;\n",
       "    \n",
       "    &lt;meta http-equiv=&quot;content-type&quot; content=&quot;text/html; charset=UTF-8&quot; /&gt;\n",
       "    \n",
       "        &lt;script&gt;\n",
       "            L_NO_TOUCH = false;\n",
       "            L_DISABLE_3D = false;\n",
       "        &lt;/script&gt;\n",
       "    \n",
       "    &lt;style&gt;html, body {width: 100%;height: 100%;margin: 0;padding: 0;}&lt;/style&gt;\n",
       "    &lt;style&gt;#map {position:absolute;top:0;bottom:0;right:0;left:0;}&lt;/style&gt;\n",
       "    &lt;script src=&quot;https://cdn.jsdelivr.net/npm/leaflet@1.9.3/dist/leaflet.js&quot;&gt;&lt;/script&gt;\n",
       "    &lt;script src=&quot;https://code.jquery.com/jquery-1.12.4.min.js&quot;&gt;&lt;/script&gt;\n",
       "    &lt;script src=&quot;https://cdn.jsdelivr.net/npm/bootstrap@5.2.2/dist/js/bootstrap.bundle.min.js&quot;&gt;&lt;/script&gt;\n",
       "    &lt;script src=&quot;https://cdnjs.cloudflare.com/ajax/libs/Leaflet.awesome-markers/2.0.2/leaflet.awesome-markers.js&quot;&gt;&lt;/script&gt;\n",
       "    &lt;link rel=&quot;stylesheet&quot; href=&quot;https://cdn.jsdelivr.net/npm/leaflet@1.9.3/dist/leaflet.css&quot;/&gt;\n",
       "    &lt;link rel=&quot;stylesheet&quot; href=&quot;https://cdn.jsdelivr.net/npm/bootstrap@5.2.2/dist/css/bootstrap.min.css&quot;/&gt;\n",
       "    &lt;link rel=&quot;stylesheet&quot; href=&quot;https://netdna.bootstrapcdn.com/bootstrap/3.0.0/css/bootstrap.min.css&quot;/&gt;\n",
       "    &lt;link rel=&quot;stylesheet&quot; href=&quot;https://cdn.jsdelivr.net/npm/@fortawesome/fontawesome-free@6.2.0/css/all.min.css&quot;/&gt;\n",
       "    &lt;link rel=&quot;stylesheet&quot; href=&quot;https://cdnjs.cloudflare.com/ajax/libs/Leaflet.awesome-markers/2.0.2/leaflet.awesome-markers.css&quot;/&gt;\n",
       "    &lt;link rel=&quot;stylesheet&quot; href=&quot;https://cdn.jsdelivr.net/gh/python-visualization/folium/folium/templates/leaflet.awesome.rotate.min.css&quot;/&gt;\n",
       "    \n",
       "            &lt;meta name=&quot;viewport&quot; content=&quot;width=device-width,\n",
       "                initial-scale=1.0, maximum-scale=1.0, user-scalable=no&quot; /&gt;\n",
       "            &lt;style&gt;\n",
       "                #map_ba5f344c6ad442ad392cfbe3fd12e7b9 {\n",
       "                    position: relative;\n",
       "                    width: 100.0%;\n",
       "                    height: 100.0%;\n",
       "                    left: 0.0%;\n",
       "                    top: 0.0%;\n",
       "                }\n",
       "                .leaflet-container { font-size: 1rem; }\n",
       "            &lt;/style&gt;\n",
       "        \n",
       "&lt;/head&gt;\n",
       "&lt;body&gt;\n",
       "    \n",
       "    \n",
       "            &lt;div class=&quot;folium-map&quot; id=&quot;map_ba5f344c6ad442ad392cfbe3fd12e7b9&quot; &gt;&lt;/div&gt;\n",
       "        \n",
       "&lt;/body&gt;\n",
       "&lt;script&gt;\n",
       "    \n",
       "    \n",
       "            var map_ba5f344c6ad442ad392cfbe3fd12e7b9 = L.map(\n",
       "                &quot;map_ba5f344c6ad442ad392cfbe3fd12e7b9&quot;,\n",
       "                {\n",
       "                    center: [0, 0],\n",
       "                    crs: L.CRS.EPSG3857,\n",
       "                    zoom: 1,\n",
       "                    zoomControl: true,\n",
       "                    preferCanvas: false,\n",
       "                }\n",
       "            );\n",
       "\n",
       "            \n",
       "\n",
       "        \n",
       "    \n",
       "            var tile_layer_ca05f4e2d6581425d2619fb795dd3038 = L.tileLayer(\n",
       "                &quot;https://{s}.tile.openstreetmap.org/{z}/{x}/{y}.png&quot;,\n",
       "                {&quot;attribution&quot;: &quot;Data by \\u0026copy; \\u003ca target=\\&quot;_blank\\&quot; href=\\&quot;http://openstreetmap.org\\&quot;\\u003eOpenStreetMap\\u003c/a\\u003e, under \\u003ca target=\\&quot;_blank\\&quot; href=\\&quot;http://www.openstreetmap.org/copyright\\&quot;\\u003eODbL\\u003c/a\\u003e.&quot;, &quot;detectRetina&quot;: false, &quot;maxNativeZoom&quot;: 18, &quot;maxZoom&quot;: 18, &quot;minZoom&quot;: 0, &quot;noWrap&quot;: false, &quot;opacity&quot;: 1, &quot;subdomains&quot;: &quot;abc&quot;, &quot;tms&quot;: false}\n",
       "            ).addTo(map_ba5f344c6ad442ad392cfbe3fd12e7b9);\n",
       "        \n",
       "    \n",
       "            var tile_layer_78a062b8c21ec8af847366450d834ae1 = L.tileLayer(\n",
       "                &quot;https://earthengine.googleapis.com/v1alpha/projects/earthengine-legacy/maps/9d143c96e5f204f65a8c039797900290-55b65f159b22b6e7afe279fdc2f04c66/tiles/{z}/{x}/{y}&quot;,\n",
       "                {&quot;attribution&quot;: &quot;Map Data \\u0026copy; \\u003ca href=\\&quot;https://earthengine.google.com/\\&quot;\\u003eGoogle Earth Engine\\u003c/a\\u003e&quot;, &quot;detectRetina&quot;: false, &quot;maxNativeZoom&quot;: 18, &quot;maxZoom&quot;: 18, &quot;minZoom&quot;: 0, &quot;noWrap&quot;: false, &quot;opacity&quot;: 1, &quot;subdomains&quot;: &quot;abc&quot;, &quot;tms&quot;: false}\n",
       "            ).addTo(map_ba5f344c6ad442ad392cfbe3fd12e7b9);\n",
       "        \n",
       "    \n",
       "            var tile_layer_e5e412959e6c7ebbc2c57edb87ccdf54 = L.tileLayer(\n",
       "                &quot;https://earthengine.googleapis.com/v1alpha/projects/earthengine-legacy/maps/03842a8132fe485b0ea132bd22601b23-02c03f0402563f5cbde6419cd1e25c6e/tiles/{z}/{x}/{y}&quot;,\n",
       "                {&quot;attribution&quot;: &quot;Map Data \\u0026copy; \\u003ca href=\\&quot;https://earthengine.google.com/\\&quot;\\u003eGoogle Earth Engine\\u003c/a\\u003e&quot;, &quot;detectRetina&quot;: false, &quot;maxNativeZoom&quot;: 18, &quot;maxZoom&quot;: 18, &quot;minZoom&quot;: 0, &quot;noWrap&quot;: false, &quot;opacity&quot;: 1, &quot;subdomains&quot;: &quot;abc&quot;, &quot;tms&quot;: false}\n",
       "            ).addTo(map_ba5f344c6ad442ad392cfbe3fd12e7b9);\n",
       "        \n",
       "    \n",
       "            var layer_control_e2338d21a782dd9c3e0c833b336a0eef = {\n",
       "                base_layers : {\n",
       "                    &quot;openstreetmap&quot; : tile_layer_ca05f4e2d6581425d2619fb795dd3038,\n",
       "                },\n",
       "                overlays :  {\n",
       "                    &quot;CTX&quot; : tile_layer_78a062b8c21ec8af847366450d834ae1,\n",
       "                    &quot;faults&quot; : tile_layer_e5e412959e6c7ebbc2c57edb87ccdf54,\n",
       "                },\n",
       "            };\n",
       "            L.control.layers(\n",
       "                layer_control_e2338d21a782dd9c3e0c833b336a0eef.base_layers,\n",
       "                layer_control_e2338d21a782dd9c3e0c833b336a0eef.overlays,\n",
       "                {&quot;autoZIndex&quot;: true, &quot;collapsed&quot;: true, &quot;position&quot;: &quot;topright&quot;}\n",
       "            ).addTo(map_ba5f344c6ad442ad392cfbe3fd12e7b9);\n",
       "        \n",
       "&lt;/script&gt;\n",
       "&lt;/html&gt;\" style=\"position:absolute;width:100%;height:100%;left:0;top:0;border:none !important;\" allowfullscreen webkitallowfullscreen mozallowfullscreen></iframe></div></div>"
      ],
      "text/plain": [
       "<folium.folium.Map at 0x7fa5d9709c90>"
      ]
     },
     "execution_count": 19,
     "metadata": {},
     "output_type": "execute_result"
    }
   ],
   "source": [
    "faultline_vectors = ee.FeatureCollection(\"projects/esg-satelite/assets/mars/labels/faults/pre/faults\")\n",
    "\n",
    "Map = folium.Map()\n",
    "\n",
    "Map.add_ee_layer(\n",
    "    ctx_sample,\n",
    "    {},\n",
    "    \"CTX\"\n",
    ")\n",
    "\n",
    "Map.add_ee_layer(\n",
    "    faultline_vectors,\n",
    "    {\"color\":\"red\"},\n",
    "    \"faults\"\n",
    ")\n",
    "\n",
    "_ = folium.LayerControl().add_to(Map)\n",
    "\n",
    "Map"
   ]
  },
  {
   "cell_type": "code",
   "execution_count": null,
   "id": "dbdf9b40-a004-45b7-a60f-76ea6cef8119",
   "metadata": {},
   "outputs": [],
   "source": []
  }
 ],
 "metadata": {
  "environment": {
   "kernel": "python3",
   "name": "common-cpu.m109",
   "type": "gcloud",
   "uri": "gcr.io/deeplearning-platform-release/base-cpu:m109"
  },
  "kernelspec": {
   "display_name": "Python 3",
   "language": "python",
   "name": "python3"
  },
  "language_info": {
   "codemirror_mode": {
    "name": "ipython",
    "version": 3
   },
   "file_extension": ".py",
   "mimetype": "text/x-python",
   "name": "python",
   "nbconvert_exporter": "python",
   "pygments_lexer": "ipython3",
   "version": "3.10.11"
  }
 },
 "nbformat": 4,
 "nbformat_minor": 5
}
