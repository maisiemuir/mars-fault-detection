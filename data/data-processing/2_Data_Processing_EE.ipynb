{
 "cells": [
  {
   "cell_type": "markdown",
   "id": "62062cc7-e570-4531-994a-1705df2af41c",
   "metadata": {},
   "source": [
    "# Data Processing on Google Earth Engine"
   ]
  },
  {
   "cell_type": "markdown",
   "id": "36c1148d-d1d5-4410-8206-e734ed76e154",
   "metadata": {},
   "source": [
    "This notebook shows...\n",
    "- data processing on Google Earth Engine\n",
    "- exporting to GCP as TensorFlow objects"
   ]
  },
  {
   "cell_type": "markdown",
   "id": "6b92c77f-de43-48dd-beb6-20d173085186",
   "metadata": {},
   "source": [
    "# 1. Config"
   ]
  },
  {
   "cell_type": "code",
   "execution_count": null,
   "id": "9d3945a2-a9d9-4222-bd42-7b3a556a5891",
   "metadata": {},
   "outputs": [],
   "source": [
    "import ee\n",
    "import geopandas as gpd\n",
    "import tensorflow as tf"
   ]
  },
  {
   "cell_type": "code",
   "execution_count": null,
   "id": "8e17317e-cf92-423b-8ffc-b1a328895f46",
   "metadata": {},
   "outputs": [],
   "source": [
    "ee.Initialize()"
   ]
  },
  {
   "cell_type": "code",
   "execution_count": null,
   "id": "8895dcce-7e27-48ab-b73a-ef32bef261bb",
   "metadata": {},
   "outputs": [],
   "source": [
    "# Required to export images\n",
    "# When we export an image, we export everything within a pre-defined region\n",
    "# We just set the region to be the world (the below)\n",
    "# Note that we aren't sure why we have to use 88 instead of 90 - might have come from Sara!\n",
    "GEOMETRY_WORLD = ee.Geometry.Polygon(\n",
    "    [\n",
    "        [-180, 88],\n",
    "        [180, 88],\n",
    "        [180, -88],\n",
    "        [-180, -88],\n",
    "    ],\n",
    "    None,\n",
    "    False\n",
    ")"
   ]
  },
  {
   "cell_type": "markdown",
   "id": "413e71f4-e6e8-4019-8363-6b3cd8645111",
   "metadata": {},
   "source": [
    "# 2. Data Processing"
   ]
  },
  {
   "cell_type": "markdown",
   "id": "ffb01963-389c-4d7b-8d8b-6e200c844fb7",
   "metadata": {},
   "source": [
    "## 2.1. Fault labels"
   ]
  },
  {
   "cell_type": "markdown",
   "id": "38c8aee0-b210-47c6-97f2-94ef261e0419",
   "metadata": {},
   "source": [
    "Here we will turn the vectors into a raster (image of 1s and 0s where 1 indicates a fault and 0 indicates no fault)."
   ]
  },
  {
   "cell_type": "code",
   "execution_count": null,
   "id": "b7aebf1c-965c-4d9a-98d4-8a5af2fef6b9",
   "metadata": {},
   "outputs": [],
   "source": [
    "# Read in data from EE\n",
    "faultline_vectors = ee.FeatureCollection(\"projects/esg-satelite/assets/mars/labels/faultlines\")"
   ]
  },
  {
   "cell_type": "code",
   "execution_count": null,
   "id": "2e073dfb-4d4d-4b8f-9861-85d7b8145dae",
   "metadata": {},
   "outputs": [],
   "source": [
    "# Add a columns of ones \n",
    "# This assigns each geometry (each fault/vector) to the value 1\n",
    "# and assigns every other space to nothing (which we will fix later)\n",
    "def add_column(feature):\n",
    "    return feature.set({\"Value\": 1})\n",
    "\n",
    "faultline_vectors_with_ones = faultline_vectors.map(add_column)"
   ]
  },
  {
   "cell_type": "code",
   "execution_count": null,
   "id": "39f70c94-3f53-4ba1-b45e-55f6779b19c3",
   "metadata": {},
   "outputs": [],
   "source": [
    "faultline_im = (\n",
    "    # Convert to image\n",
    "    faultline_vectors_with_ones.reduceToImage(\n",
    "        properties=[\"Value\"],\n",
    "        reducer=ee.Reducer.first()\n",
    "    )\n",
    "    # Change band name \"first\"  to \"FAULTLINE\" \n",
    "    .select([\"first\"], [\"FAULTLINE\"])\n",
    "    # Unmask, which changes all non-fault pixels to have value 0\n",
    "    .unmask(0)\n",
    ")"
   ]
  },
  {
   "cell_type": "code",
   "execution_count": null,
   "id": "4536c38d-6e7c-49c7-b815-17cb29e128dc",
   "metadata": {},
   "outputs": [],
   "source": [
    "# Export to EE\n",
    "# NOTE: There is a crs parameter that can be assigned here\n",
    "# NOTE: We can play around with different scales (scale might require the crs being assigned)\n",
    "task = ee.batch.Export.image.toAsset(\n",
    "    faultline_im,\n",
    "    description = \"Faultline_image\",\n",
    "    assetId=\"projects/esg-satelite/assets/mars/labels/faultlines_raster\",\n",
    "    region=GEOMETRY_WORLD,\n",
    "    scale=1000,\n",
    "    maxPixels=1e11 \n",
    "    # TODO: There is a crs parameter that can be assigned here?\n",
    ")"
   ]
  },
  {
   "cell_type": "code",
   "execution_count": null,
   "id": "abd82a8f-d5c4-4c0d-a988-266dbc7a87db",
   "metadata": {},
   "outputs": [],
   "source": [
    "#task.start()"
   ]
  },
  {
   "cell_type": "markdown",
   "id": "8c66af18-e300-41e6-83a6-7b9001ac8ac9",
   "metadata": {},
   "source": [
    "## 2.2. HRSC Images (sample of 3 only)"
   ]
  },
  {
   "cell_type": "markdown",
   "id": "88ba50d5-46ae-49ae-a8bd-526624cbd2c6",
   "metadata": {},
   "source": [
    "Here we will do two things\n",
    "- Remove the black band from each image\n",
    "- Mosaic the images together (i.e. flatten them into one image)"
   ]
  },
  {
   "cell_type": "code",
   "execution_count": null,
   "id": "543d6dec-7706-49dd-a65c-20f9266784ba",
   "metadata": {},
   "outputs": [],
   "source": [
    "# Read in data from EE\n",
    "mars_hrsc_sample = ee.ImageCollection(\"projects/esg-satelite/assets/mars/mars_express_hrsc_example\")"
   ]
  },
  {
   "cell_type": "code",
   "execution_count": null,
   "id": "5d104cbb-a035-4e88-bed8-4bcedaee2ba2",
   "metadata": {},
   "outputs": [],
   "source": [
    "# Renaming the band from \"b1\" to HRSC\n",
    "mars_hrsc_sample = mars_hrsc_sample.select([\"b1\"], [\"HRSC\"])"
   ]
  },
  {
   "cell_type": "code",
   "execution_count": null,
   "id": "f81845f0-10ac-4b90-8016-75c1325a59ce",
   "metadata": {},
   "outputs": [],
   "source": [
    "# Removes black band\n",
    "# Applies a mask that keeps only the parts that have value greater than (\"gt\") 0\n",
    "# Note that black is 0\n",
    "def pixel_mask(image):\n",
    "    return image.updateMask((image.select(\"HRSC\").gt(0)))\n",
    "\n",
    "mars_hrsc_filtered = mars_hrsc_sample.map(pixel_mask)"
   ]
  },
  {
   "cell_type": "code",
   "execution_count": null,
   "id": "69a3735f-f32e-4aa3-9254-65c5f6a5391b",
   "metadata": {},
   "outputs": [],
   "source": [
    "# Mosaics the image collection\n",
    "mars_hrsc_mosaic = mars_hrsc_filtered.mosaic()"
   ]
  },
  {
   "cell_type": "code",
   "execution_count": null,
   "id": "b6df1ef3-1706-4350-b471-7fe69a264753",
   "metadata": {},
   "outputs": [],
   "source": [
    "# This is the code we used to check whether the black bands were actually 0\n",
    "# TODO: What does this code do again? Forgotton!\n",
    "# region = mars_hrsc_sample.geometry()\n",
    "# maxReducer = ee.Reducer.min()\n",
    "# print(mars_hrsc_mosaic.reduceRegion(maxReducer, region, 300, bestEffort=True).getInfo())"
   ]
  },
  {
   "cell_type": "code",
   "execution_count": null,
   "id": "222a3bef-6ed2-4e6b-9bf2-3193a7e84db3",
   "metadata": {},
   "outputs": [],
   "source": [
    "# Export to EE\n",
    "# NOTE: There is a crs parameter that can be assigned here\n",
    "# NOTE: We can play around with different scales (scale might require the crs being assigned)\n",
    "task = ee.batch.Export.image.toAsset(\n",
    "    mars_hrsc_mosaic,\n",
    "    description = \"HRSC_Image\",\n",
    "    assetId=\"projects/esg-satelite/assets/mars/features/post/hrsc_sample\",\n",
    "    region=GEOMETRY_WORLD,\n",
    "    scale=1000,\n",
    "    maxPixels=1e11\n",
    ")"
   ]
  },
  {
   "cell_type": "code",
   "execution_count": null,
   "id": "47755901-b962-4122-bd89-1c7b24e807b5",
   "metadata": {},
   "outputs": [],
   "source": [
    "# task.start()"
   ]
  }
 ],
 "metadata": {
  "environment": {
   "kernel": "python3",
   "name": "common-cpu.m109",
   "type": "gcloud",
   "uri": "gcr.io/deeplearning-platform-release/base-cpu:m109"
  },
  "kernelspec": {
   "display_name": "Python 3",
   "language": "python",
   "name": "python3"
  },
  "language_info": {
   "codemirror_mode": {
    "name": "ipython",
    "version": 3
   },
   "file_extension": ".py",
   "mimetype": "text/x-python",
   "name": "python",
   "nbconvert_exporter": "python",
   "pygments_lexer": "ipython3",
   "version": "3.10.11"
  }
 },
 "nbformat": 4,
 "nbformat_minor": 5
}
