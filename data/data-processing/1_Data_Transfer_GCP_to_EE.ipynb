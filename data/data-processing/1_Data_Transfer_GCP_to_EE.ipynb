{
 "cells": [
  {
   "cell_type": "markdown",
   "id": "5dc97bcc-32d6-40aa-bcb1-7555aed60212",
   "metadata": {},
   "source": [
    "# Transferring Data from Google Cloud Storage to Google Earth Engine"
   ]
  },
  {
   "cell_type": "markdown",
   "id": "a161ab7d-b9c7-443a-85bb-207f7f4736d1",
   "metadata": {},
   "source": [
    "Once we have uploaded the raw data files to Google Cloud Storage, we want to move them onto Google Earth Engine so that we can perform data processing (i.e. generating train, validation and test sets for modelling and so on).\n",
    "\n",
    "This notebook shows how to transfer data from Google Cloud Storage to GEE."
   ]
  },
  {
   "cell_type": "code",
   "execution_count": null,
   "id": "8c6b0ce4-7b6d-42c2-9336-ba0438a2093f",
   "metadata": {},
   "outputs": [],
   "source": [
    "#Q to self: why did we have to transform the CRS of the labels data but not the .tif files?"
   ]
  },
  {
   "cell_type": "markdown",
   "id": "fefda0ac-b943-42ad-b002-52b92d2d7875",
   "metadata": {},
   "source": [
    "# 1. Config"
   ]
  },
  {
   "cell_type": "code",
   "execution_count": 13,
   "id": "0b9e8eb0-7da8-4af5-9d50-6a145bfce2d7",
   "metadata": {},
   "outputs": [],
   "source": [
    "import subprocess\n",
    "import geopandas as gpd\n",
    "import os\n",
    "from google.cloud import storage\n",
    "import glob\n",
    "import shutil\n",
    "import pathlib"
   ]
  },
  {
   "cell_type": "code",
   "execution_count": 14,
   "id": "e16bdeff-58c1-4b74-be0e-a9d4a33ad4b5",
   "metadata": {},
   "outputs": [],
   "source": [
    "def transform_crs(gs_path, gs_processed_path, crs = \"epsg:3857\"):\n",
    "    \"\"\"\n",
    "    This function takes a shapefile from Google Cloud Storage, transforms it to a new\n",
    "    coordinate reference system (crs), and re-writes it. \n",
    "    It performs and intermediate step where it writes the files locally, but removes these after.\n",
    "    \n",
    "    gs_path : str\n",
    "        Path to Google Cloud Storage where the shapefile (.shp) is.\n",
    "        INCLUDE EXTENSION .shp\n",
    "    gs_processed_path : str\n",
    "        Path to Google Cloud Storage where the processed files will be written.\n",
    "        DO NOT INCLUDE EXTENSION.\n",
    "    crs : str\n",
    "        The coordinate reference system (crs) the transform the shapefile to.\n",
    "    \"\"\"\n",
    "    \n",
    "    # Set environment variable\n",
    "    os.environ[\"PROJ_IGNORE_CELESTIAL_BODY\"] = \"YES\"\n",
    "    \n",
    "    # Read data from GS\n",
    "    data = gpd.read_file(gs_path)\n",
    "    \n",
    "    # Transform CRS\n",
    "    data_new_crs = data.set_crs(crs, allow_override=True)\n",
    "    \n",
    "    # Add to local folder \"out/\"\n",
    "    local_folder = pathlib.Path(\"out\")\n",
    "    local_folder.mkdir(exist_ok=True) #exist_ok=False was causing error???\n",
    "    data_new_crs.to_file(\"out/data.shp\") # Note: this will output all the other files too! e.g. .prj\n",
    "\n",
    "    \n",
    "    # Move all files from local to Cloud Storage\n",
    "    bucket = gs_processed_path.split(\"//\")[1].split(\"/\")[0]\n",
    "    path_in_bucket = gs_processed_path.split(f\"{bucket}/\")[1]\n",
    "    for file in glob.glob(\"out/*\"):\n",
    "        extension = file.split(\".\")[-1]\n",
    "        client = storage.Client()\n",
    "        bucket = client.get_bucket(bucket)\n",
    "        blob = bucket.blob(f\"{path_in_bucket}.{extension}\")\n",
    "        blob.upload_from_filename(f\"out/data.{extension}\")\n",
    "    shutil.rmtree(\"out\")"
   ]
  },
  {
   "cell_type": "code",
   "execution_count": 15,
   "id": "27875cdc-4c23-4beb-ab74-fe4912a2548f",
   "metadata": {},
   "outputs": [],
   "source": [
    "def transfer_from_gcs_to_gee(gs_path, ee_path, data_type):\n",
    "    \"\"\"\n",
    "    Moves data from Google Cloud Storage to Google Earth Engine.\n",
    "    \n",
    "    gs_path : str\n",
    "        Path to file in Google Cloud Storage.\n",
    "        INCLUDE EXTENSION.\n",
    "    ee_path : str\n",
    "        Path for file to be written in Google Earth Engine.\n",
    "        DO NOT INCLUDE EXTENSION.\n",
    "    data_type : str\n",
    "        \"table\" for .shp, \"image\" for .tif\n",
    "    \"\"\"\n",
    "    \n",
    "    result = subprocess.run(\n",
    "        [\n",
    "            \"earthengine\",\n",
    "            \"upload\",\n",
    "            data_type,\n",
    "            f\"--asset_id={ee_path}\",\n",
    "            f\"{gs_path}\"\n",
    "        ],\n",
    "        capture_output=True,\n",
    "        check=True,\n",
    "    )\n",
    "    print(result.stdout.decode())\n",
    "    print(result.stderr.decode())"
   ]
  },
  {
   "cell_type": "markdown",
   "id": "5efeb0f9-8099-4286-9ed3-ce282d335be6",
   "metadata": {},
   "source": [
    "# 2. Fault labels data"
   ]
  },
  {
   "cell_type": "markdown",
   "id": "0a6fa2c1-dc66-4e65-9591-39f4c3e30ecb",
   "metadata": {},
   "source": [
    "Our labels data is in the form of a shapefile (.shp), which contains lots of vectors, where each vector is one fault."
   ]
  },
  {
   "cell_type": "markdown",
   "id": "2c8b4146-8e95-46c9-b0cd-dddd32e14b34",
   "metadata": {},
   "source": [
    "## 2.1. Transform the CRS of the data"
   ]
  },
  {
   "cell_type": "code",
   "execution_count": 4,
   "id": "50f85ea3-8a76-4bed-9adf-eda641859631",
   "metadata": {},
   "outputs": [],
   "source": [
    "transform_crs(\n",
    "    gs_path = \"gs://esg-satelite-data-warehouse/mars/labels/faults/raw/faults.shp\", \n",
    "    gs_processed_path = \"gs://esg-satelite-data-warehouse/mars/labels/faults/processed/faults\"\n",
    ")"
   ]
  },
  {
   "cell_type": "code",
   "execution_count": 5,
   "id": "75aea574-4711-4332-ad39-22c8260d4193",
   "metadata": {},
   "outputs": [],
   "source": [
    "labels = gpd.read_file(\"gs://esg-satelite-data-warehouse/mars/labels/faults/processed/faults.shp\")"
   ]
  },
  {
   "cell_type": "code",
   "execution_count": 6,
   "id": "1222a1fa-f06b-4101-9961-246d124b1ba5",
   "metadata": {},
   "outputs": [
    {
     "data": {
      "text/plain": [
       "<Projected CRS: EPSG:3857>\n",
       "Name: WGS 84 / Pseudo-Mercator\n",
       "Axis Info [cartesian]:\n",
       "- X[east]: Easting (metre)\n",
       "- Y[north]: Northing (metre)\n",
       "Area of Use:\n",
       "- name: World between 85.06°S and 85.06°N.\n",
       "- bounds: (-180.0, -85.06, 180.0, 85.06)\n",
       "Coordinate Operation:\n",
       "- name: Popular Visualisation Pseudo-Mercator\n",
       "- method: Popular Visualisation Pseudo Mercator\n",
       "Datum: World Geodetic System 1984 ensemble\n",
       "- Ellipsoid: WGS 84\n",
       "- Prime Meridian: Greenwich"
      ]
     },
     "execution_count": 6,
     "metadata": {},
     "output_type": "execute_result"
    }
   ],
   "source": [
    "labels.crs"
   ]
  },
  {
   "cell_type": "markdown",
   "id": "cdce27f3-30f9-4b81-83d6-4a4b25d6d819",
   "metadata": {},
   "source": [
    "## 2.2. Transfer from GCS to GEE"
   ]
  },
  {
   "cell_type": "code",
   "execution_count": 9,
   "id": "20233b44-dcaf-46b4-b552-4227dcd000f6",
   "metadata": {},
   "outputs": [
    {
     "name": "stdout",
     "output_type": "stream",
     "text": [
      "Started upload task with ID: AP44L5FNX23DPD56VR452FRN\n",
      "\n",
      "\n"
     ]
    }
   ],
   "source": [
    "transfer_from_gcs_to_gee(\n",
    "    gs_path = \"gs://esg-satelite-data-warehouse/mars/labels/faults/processed/faults.shp\", \n",
    "    ee_path = \"projects/esg-satelite/assets/mars/labels/faults/pre/faults\",\n",
    "    data_type = \"table\"\n",
    ")"
   ]
  },
  {
   "cell_type": "markdown",
   "id": "44100c39-e792-43df-a20c-8b39b69dfe70",
   "metadata": {},
   "source": [
    "# 2.3. Uploading the original faults.shp from GCS to EE (now CRS transformation)"
   ]
  },
  {
   "cell_type": "markdown",
   "id": "933f05f2-9695-4420-85d4-03774ccb8bde",
   "metadata": {},
   "source": [
    "- Done mainly since Folium plots are slightly off - want to check that it isn't an issue with the CRS."
   ]
  },
  {
   "cell_type": "code",
   "execution_count": null,
   "id": "f91e7666-d2fb-4566-92c8-fd5e9be98664",
   "metadata": {},
   "outputs": [
    {
     "name": "stdout",
     "output_type": "stream",
     "text": [
      "Started upload task with ID: ARRQ2635Y3Q4H4D4PWHW5CAA\n",
      "\n",
      "\n"
     ]
    }
   ],
   "source": [
    "transfer_from_gcs_to_gee(\n",
    "    gs_path = \"gs://esg-satelite-data-warehouse/mars/labels/faults/raw/faults.shp\", \n",
    "    ee_path = \"projects/esg-satelite/assets/mars/labels/faults_orig_crs/pre/faults\",\n",
    "    data_type = \"table\"\n",
    ")"
   ]
  },
  {
   "cell_type": "markdown",
   "id": "4226ee61-5073-4586-adc5-5a694c75f7d5",
   "metadata": {},
   "source": [
    "# 3. Elevation data"
   ]
  },
  {
   "cell_type": "markdown",
   "id": "970fe10f-ad56-4222-bef6-67365bc7b55f",
   "metadata": {},
   "source": [
    "- https://astrogeology.usgs.gov/search/map/Mars/Topography/HRSC_MOLA_Blend/Mars_HRSC_MOLA_BlendDEM_Global_200mp\n",
    "- Uploaded the data onto GCP originally using a .tsv file."
   ]
  },
  {
   "cell_type": "markdown",
   "id": "0f22e179-3875-4835-bbbd-554b404eb499",
   "metadata": {},
   "source": [
    "## 3.1. Transfer from GCS to GEE"
   ]
  },
  {
   "cell_type": "code",
   "execution_count": null,
   "id": "538ad4eb-7470-4f90-b5f2-a37eeb8c078f",
   "metadata": {},
   "outputs": [],
   "source": [
    "transfer_from_gcs_to_gee(\n",
    "    gs_path = \"gs://esg-satelite-data-warehouse/mars/features/elevation/raw/Mars_HRSC_MOLA_BlendDEM_Global_200mp_v2.tif\", \n",
    "    ee_path = \"projects/esg-satelite/assets/mars/features/elevation/pre/elevation\"\n",
    "    data_type = \"image\"\n",
    ")"
   ]
  },
  {
   "cell_type": "markdown",
   "id": "bff52e81-c874-443c-a50f-e9392d521746",
   "metadata": {},
   "source": [
    "# 4. HRSC Images (sample of 3 only)"
   ]
  },
  {
   "cell_type": "markdown",
   "id": "a9951405-5e46-43b7-8d78-69ca30bb323a",
   "metadata": {},
   "source": [
    "- https://ode.rsl.wustl.edu/mars/mapsearch (Mars Express > HRSC > Derived > Version 3 Map Projected Reduced Data Record).\n",
    "- Uploaded the sample of 3 images onto GCP manually as Claire sent some samples via email, and retrieving the data online is not straightforward."
   ]
  },
  {
   "cell_type": "markdown",
   "id": "731f6667-b132-4f8d-b7dc-3dc64b109b2a",
   "metadata": {},
   "source": [
    "**VERY IMPORTANT NOTE**: All of the images below were moved to an EE *image collection*. This had to be manually made first on EE. So, when we do processin gon the image collection, we simply use the path `projects/esg-satelite/assets/mars/mars_express_hrsc_example` (i.e. with no \"image_x\" appended)."
   ]
  },
  {
   "cell_type": "code",
   "execution_count": null,
   "id": "bba5705d-281c-4336-b4ed-dc80d9db98ac",
   "metadata": {},
   "outputs": [],
   "source": [
    "# As these were in separate .tif files, they have to be moved individually\n",
    "gs_paths = [\n",
    "    \"gs://esg-satelite-data-warehouse/mars/features/hrsc_sample_3/raw/h1462_nd3_Merc_clip.tif\",\n",
    "    \"gs://esg-satelite-data-warehouse/mars/features/hrsc_sample_3/raw/h1495_nd3_Merc_clip.tif\",\n",
    "    \"gs://esg-satelite-data-warehouse/mars/features/hrsc_sample_3/raw/h8304_nd3_Merc.tif\"\n",
    "]\n",
    "ee_paths = [f\"projects/esg-satelite/assets/mars/features/hrsc_sample_3/pre/hrsc_sample/image_{x}\" for x in range(len(gs_paths))]\n",
    "\n",
    "for gs_path, ee_path in zip(gs_paths,ee_paths):\n",
    "    transfer_from_gcs_to_gee(\n",
    "        gs_path = gs_path,\n",
    "        ee_path = ee_path,\n",
    "        data_type = \"image\"\n",
    "    )"
   ]
  },
  {
   "cell_type": "markdown",
   "id": "a25e7768-a497-426f-b733-d904ae62bb24",
   "metadata": {},
   "source": [
    "# 5. CTX Images (sample of 1 only)"
   ]
  },
  {
   "cell_type": "markdown",
   "id": "e023feb3-d22f-4c0a-b3b9-6ec46bbdc519",
   "metadata": {},
   "source": [
    "- http://murray-lab.caltech.edu/CTX/V01/tiles/"
   ]
  },
  {
   "cell_type": "code",
   "execution_count": null,
   "id": "eec019ef-38d8-44ff-a8a7-5a6c9e2fd391",
   "metadata": {},
   "outputs": [],
   "source": [
    "# Get paths of all tif files\n",
    "gs_paths = []\n",
    "ee_paths = []\n",
    "ee_path_base = \"projects/esg-satelite/assets/mars/features/ctx_sample_2/pre/ctx_sample\"\n",
    "client = storage.Client()\n",
    "for blob in client.list_blobs('esg-satelite-data-warehouse', prefix='mars/features/ctx_sample_2/raw_unzipped'):\n",
    "    gs_path = f\"gs://esg-satelite-data-warehouse/{str(blob).split(', ')[1]}\"\n",
    "    if gs_path[-3:] == \"tif\":\n",
    "        gs_paths.append(gs_path)\n",
    "        file_name_no_ext = gs_path.split(\"raw_unzipped/\")[1].split(\".tif\")[0]\n",
    "        ee_paths.append(f\"{ee_path_base}/{file_name_no_ext}\" )"
   ]
  },
  {
   "cell_type": "code",
   "execution_count": null,
   "id": "3132b318-e6ec-4a43-a178-256e291dfb3c",
   "metadata": {},
   "outputs": [
    {
     "name": "stdout",
     "output_type": "stream",
     "text": [
      "Started upload task with ID: N3M2TRFL2VM5ICOEUZ45MNWY\n",
      "\n",
      "\n",
      "Started upload task with ID: IVPHKJUYIA37DDYAYVZ5BPH5\n",
      "\n",
      "\n"
     ]
    }
   ],
   "source": [
    "for gs_path, ee_path in zip(gs_paths,ee_paths):\n",
    "    transfer_from_gcs_to_gee(\n",
    "        gs_path = gs_path,\n",
    "        ee_path = ee_path,\n",
    "        data_type = \"image\"\n",
    "    )"
   ]
  },
  {
   "cell_type": "markdown",
   "id": "02250f81-c17e-48a0-b516-7e7673024f24",
   "metadata": {},
   "source": [
    "# 6. CTX Images (all of Tempe Terra)"
   ]
  },
  {
   "cell_type": "markdown",
   "id": "193be3a8-a55f-4efa-ab84-cc154afe0cba",
   "metadata": {},
   "source": [
    "- http://murray-lab.caltech.edu/CTX/V01/tiles/"
   ]
  },
  {
   "cell_type": "code",
   "execution_count": null,
   "id": "41ea43b4-5025-454f-8129-66d5d6c029b8",
   "metadata": {},
   "outputs": [],
   "source": [
    "# Get paths of all tif files\n",
    "gs_paths = []\n",
    "ee_paths = []\n",
    "ee_path_base = \"projects/esg-satelite/assets/mars/features/ctx_tempe_terra/pre/ctx_tempe_terra\"\n",
    "client = storage.Client()\n",
    "for blob in client.list_blobs('esg-satelite-data-warehouse', prefix='mars/features/ctx_tempe_terra/raw_unzipped_tif'):\n",
    "    gs_path = f\"gs://esg-satelite-data-warehouse/{str(blob).split(', ')[1]}\"\n",
    "    if gs_path[-3:] == \"tif\":\n",
    "        gs_paths.append(gs_path)\n",
    "        file_name_no_ext = gs_path.split(\"raw_unzipped_tif/\")[1].split(\".tif\")[0]\n",
    "        ee_paths.append(f\"{ee_path_base}/{file_name_no_ext}\" )"
   ]
  },
  {
   "cell_type": "code",
   "execution_count": null,
   "id": "9d3a470e-89e3-409b-9dbf-b5737124bd55",
   "metadata": {},
   "outputs": [
    {
     "name": "stdout",
     "output_type": "stream",
     "text": [
      "Started upload task with ID: 4B72DMNPDUDTM5RO5XIGNLBP\n",
      "\n",
      "\n",
      "Uploaded image 1 of 66 to Earth Engine.\n",
      "Started upload task with ID: HYYWHWHQEKVWPYJ25P6QAZOL\n",
      "\n",
      "\n",
      "Uploaded image 2 of 66 to Earth Engine.\n",
      "Started upload task with ID: WLKGWP2QX76W3HAVLBX4JHMO\n",
      "\n",
      "\n",
      "Uploaded image 3 of 66 to Earth Engine.\n",
      "Started upload task with ID: U5DOBTMQ2BGDIYD4GCUY7DRK\n",
      "\n",
      "\n",
      "Uploaded image 4 of 66 to Earth Engine.\n",
      "Started upload task with ID: YISCPG6MB7GZWNG7SHNZNCG5\n",
      "\n",
      "\n",
      "Uploaded image 5 of 66 to Earth Engine.\n",
      "Started upload task with ID: AHIEBM45QZXLRK2VCNLJZCX6\n",
      "\n",
      "\n",
      "Uploaded image 6 of 66 to Earth Engine.\n",
      "Started upload task with ID: KLDJQ2FAX2SEZ6POIERFEDUB\n",
      "\n",
      "\n",
      "Uploaded image 7 of 66 to Earth Engine.\n",
      "Started upload task with ID: P46UI4W4R6PEKR4RIPYASFXO\n",
      "\n",
      "\n",
      "Uploaded image 8 of 66 to Earth Engine.\n",
      "Started upload task with ID: JDHS2KR54JHMJ2E7O4RRN6TC\n",
      "\n",
      "\n",
      "Uploaded image 9 of 66 to Earth Engine.\n",
      "Started upload task with ID: JQW3VD5USH2DTZCUUXQ5MFAA\n",
      "\n",
      "\n",
      "Uploaded image 10 of 66 to Earth Engine.\n",
      "Started upload task with ID: ACN2QHTOLXQVAXLPSW4RWB6U\n",
      "\n",
      "\n",
      "Uploaded image 11 of 66 to Earth Engine.\n",
      "Started upload task with ID: ZPT7RTNQK72NV5SE2SBTCB3Z\n",
      "\n",
      "\n",
      "Uploaded image 12 of 66 to Earth Engine.\n",
      "Started upload task with ID: 7VSJ63DN3NKSKCCRZ3EKFPR2\n",
      "\n",
      "\n",
      "Uploaded image 13 of 66 to Earth Engine.\n",
      "Started upload task with ID: R7PZA3NHR5GYNZ4JS4OSET6D\n",
      "\n",
      "\n",
      "Uploaded image 14 of 66 to Earth Engine.\n",
      "Started upload task with ID: Z5TAXX4QTUK7RL27A5SB5ZPR\n",
      "\n",
      "\n",
      "Uploaded image 15 of 66 to Earth Engine.\n",
      "Started upload task with ID: SSJ4OG75D5JVXROMKQHJ4V7N\n",
      "\n",
      "\n",
      "Uploaded image 16 of 66 to Earth Engine.\n",
      "Started upload task with ID: 2IOH7JOVLY7VJHC6A5ZBGV7K\n",
      "\n",
      "\n",
      "Uploaded image 17 of 66 to Earth Engine.\n",
      "Started upload task with ID: IMKISNWWIHXGSFFN3ECJNWHS\n",
      "\n",
      "\n",
      "Uploaded image 18 of 66 to Earth Engine.\n",
      "Started upload task with ID: BJWTVMJRSPLDTTRIIEXAZDCW\n",
      "\n",
      "\n",
      "Uploaded image 19 of 66 to Earth Engine.\n",
      "Started upload task with ID: BYVNGCHCCVIRDQEYNC6ZLHKH\n",
      "\n",
      "\n",
      "Uploaded image 20 of 66 to Earth Engine.\n",
      "Started upload task with ID: KXTM5UGT2KZ44XC4WIRAP5WX\n",
      "\n",
      "\n",
      "Uploaded image 21 of 66 to Earth Engine.\n",
      "Started upload task with ID: RXVC6PGM25MJFU5LYFIOUIKD\n",
      "\n",
      "\n",
      "Uploaded image 22 of 66 to Earth Engine.\n",
      "Started upload task with ID: PSLL4HNEDIAWE37LUF7CS4IW\n",
      "\n",
      "\n",
      "Uploaded image 23 of 66 to Earth Engine.\n",
      "Started upload task with ID: 65K4ZSWAQCHZQUAFJTY7LGEB\n",
      "\n",
      "\n",
      "Uploaded image 24 of 66 to Earth Engine.\n"
     ]
    }
   ],
   "source": [
    "i = 1\n",
    "for gs_path, ee_path in zip(gs_paths,ee_paths):\n",
    "    transfer_from_gcs_to_gee(\n",
    "        gs_path = gs_path,\n",
    "        ee_path = ee_path,\n",
    "        data_type = \"image\"\n",
    "    )\n",
    "    print(f\"Uploaded image {i} of 66 to Earth Engine.\")\n",
    "    i+=1"
   ]
  },
  {
   "cell_type": "markdown",
   "id": "bf3c0889-f4d4-4bff-bef1-ee1988eff3f7",
   "metadata": {},
   "source": [
    "# 7. THEMIS Mosaic"
   ]
  },
  {
   "cell_type": "markdown",
   "id": "01c6f8fb-301b-4580-9b24-cde0844b893c",
   "metadata": {},
   "source": [
    "- https://astrogeology.usgs.gov/search/map/Mars/Odyssey/THEMIS-IR-Mosaic-ASU/Mars_MO_THEMIS-IR-Day_mosaic_global_100m_v12"
   ]
  },
  {
   "cell_type": "code",
   "execution_count": null,
   "id": "d27da16e-2497-4f86-a7ed-14b065dd89ed",
   "metadata": {},
   "outputs": [
    {
     "name": "stdout",
     "output_type": "stream",
     "text": [
      "Started upload task with ID: XUO5IHGXMMXNHGOULAEN6OMM\n",
      "\n",
      "\n"
     ]
    }
   ],
   "source": [
    "transfer_from_gcs_to_gee(\n",
    "    gs_path = \"gs://esg-satelite-data-warehouse/mars/features/themis_mosaic/raw/planetarymaps.usgs.gov/mosaic/Mars_MO_THEMIS-IR-Day_mosaic_global_100m_v12.tif\",\n",
    "    ee_path = \"projects/esg-satelite/assets/mars/features/themis_mosaic/pre/themis_mosaic\",\n",
    "    data_type = \"image\"\n",
    ")"
   ]
  },
  {
   "cell_type": "markdown",
   "id": "513e6a62-90f9-4cdd-bb40-580ee37dd7ae",
   "metadata": {},
   "source": [
    "# 8. THEMIS Samples 4"
   ]
  },
  {
   "cell_type": "markdown",
   "id": "26d45afe-e9ee-4f8d-ae38-48ebfc62e3b9",
   "metadata": {},
   "source": [
    " - Four samples of the THEMIS IR Day data.\n",
    " - Taken from the samples that Claire sent."
   ]
  },
  {
   "cell_type": "code",
   "execution_count": null,
   "id": "74f63be2-4f81-43bf-99fc-96adeaaf2168",
   "metadata": {},
   "outputs": [
    {
     "name": "stdout",
     "output_type": "stream",
     "text": [
      "Started upload task with ID: AZJ6ZZSAUKRZHOOPEO2AKSBX\n",
      "\n",
      "\n",
      "Started upload task with ID: 4RPAC4EEXVB3Q6O6AD2YGC5F\n",
      "\n",
      "\n",
      "Started upload task with ID: FM6K3OTMJHPJURUZHT44LOCE\n",
      "\n",
      "\n",
      "Started upload task with ID: TVQ3QN264DFRGG3N2MURSCQ3\n",
      "\n",
      "\n"
     ]
    }
   ],
   "source": [
    "# As these were in separate .tif files, they have to be moved individually\n",
    "gs_paths = [\n",
    "    \"gs://esg-satelite-data-warehouse/mars/features/themis_sample_4/raw/THEMIS_DayIR_ControlledMosaic_Arcadia_30N240E_100mpp.tif\",\n",
    "    \"gs://esg-satelite-data-warehouse/mars/features/themis_sample_4/raw/THEMIS_DayIR_ControlledMosaic_LunaePalus_00N270E_100mpp.tif\",\n",
    "    \"gs://esg-satelite-data-warehouse/mars/features/themis_sample_4/raw/THEMIS_DayIR_ControlledMosaic_MareAcidalium_30N300E_100mpp.tif\",\n",
    "    \"gs://esg-satelite-data-warehouse/mars/features/themis_sample_4/raw/THEMIS_DayIR_ControlledMosaic_Tharsis_000N225E_100mpp.tif\"\n",
    "]\n",
    "\n",
    "ee_paths = [f\"projects/esg-satelite/assets/mars/features/themis_sample_4/pre/themis_sample/image_{x}\" for x in range(len(gs_paths))]\n",
    "\n",
    "for gs_path, ee_path in zip(gs_paths,ee_paths):\n",
    "    transfer_from_gcs_to_gee(\n",
    "        gs_path = gs_path,\n",
    "        ee_path = ee_path,\n",
    "        data_type = \"image\"\n",
    "    )"
   ]
  },
  {
   "cell_type": "markdown",
   "id": "38133e4d-a06e-4433-beef-8fadd68b3ac2",
   "metadata": {},
   "source": [
    "# 8. THEMIS EPSG:3857 Sample of 1"
   ]
  },
  {
   "cell_type": "code",
   "execution_count": 17,
   "id": "323f43ec-bef4-465c-b342-55e615a67f1a",
   "metadata": {},
   "outputs": [
    {
     "name": "stdout",
     "output_type": "stream",
     "text": [
      "Started upload task with ID: XGOXFR32WLEVVBDIZRJOPXSK\n",
      "\n",
      "\n"
     ]
    }
   ],
   "source": [
    "transfer_from_gcs_to_gee(\n",
    "    gs_path = \"gs://esg-satelite-data-warehouse/mars/features/themis_sample_epsg3857/raw/themis_sample_epsg3857.tif\",\n",
    "    ee_path = \"projects/esg-satelite/assets/mars/features/themis_epsg3857_sample/pre/themis_epsg3857_sample\",\n",
    "    data_type = \"image\"\n",
    ")\n"
   ]
  },
  {
   "cell_type": "code",
   "execution_count": null,
   "id": "e957753c-0248-4580-91e8-9fdf3728b09c",
   "metadata": {},
   "outputs": [],
   "source": []
  }
 ],
 "metadata": {
  "environment": {
   "kernel": "python3",
   "name": "tf2-gpu.2-11.m111",
   "type": "gcloud",
   "uri": "gcr.io/deeplearning-platform-release/tf2-gpu.2-11:m111"
  },
  "kernelspec": {
   "display_name": "Python 3",
   "language": "python",
   "name": "python3"
  },
  "language_info": {
   "codemirror_mode": {
    "name": "ipython",
    "version": 3
   },
   "file_extension": ".py",
   "mimetype": "text/x-python",
   "name": "python",
   "nbconvert_exporter": "python",
   "pygments_lexer": "ipython3",
   "version": "3.10.12"
  }
 },
 "nbformat": 4,
 "nbformat_minor": 5
}
