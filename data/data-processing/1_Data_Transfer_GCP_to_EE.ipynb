{
 "cells": [
  {
   "cell_type": "markdown",
   "id": "5dc97bcc-32d6-40aa-bcb1-7555aed60212",
   "metadata": {},
   "source": [
    "# Transferring Data from Google Cloud Storage to Google Earth Engine"
   ]
  },
  {
   "cell_type": "markdown",
   "id": "a161ab7d-b9c7-443a-85bb-207f7f4736d1",
   "metadata": {},
   "source": [
    "Once we have uploaded the raw data files to Google Cloud Storage, we want to move them onto Google Earth Engine so that we can perform data processing (i.e. generating train, validation and test sets for modelling and so on).\n",
    "\n",
    "This notebook shows how to transfer data from Google Cloud Storage to GEE."
   ]
  },
  {
   "cell_type": "code",
   "execution_count": null,
   "id": "8c6b0ce4-7b6d-42c2-9336-ba0438a2093f",
   "metadata": {},
   "outputs": [],
   "source": [
    "#Q to self: why did we have to transform the CRS of the labels data but not the .tif files?"
   ]
  },
  {
   "cell_type": "markdown",
   "id": "fefda0ac-b943-42ad-b002-52b92d2d7875",
   "metadata": {},
   "source": [
    "# 1. Config"
   ]
  },
  {
   "cell_type": "code",
   "execution_count": null,
   "id": "0b9e8eb0-7da8-4af5-9d50-6a145bfce2d7",
   "metadata": {},
   "outputs": [],
   "source": [
    "import subprocess\n",
    "import geopandas as gpd\n",
    "import os\n",
    "from google.cloud import storage\n",
    "import glob\n",
    "import shutil\n",
    "import pathlib"
   ]
  },
  {
   "cell_type": "code",
   "execution_count": null,
   "id": "e16bdeff-58c1-4b74-be0e-a9d4a33ad4b5",
   "metadata": {},
   "outputs": [],
   "source": [
    "def transform_crs(gs_path, gs_processed_path, crs = \"epsg:4326\"):\n",
    "    \"\"\"\n",
    "    This function takes a shapefile from Google Cloud Storage, transforms it to a new\n",
    "    coordinate reference system (crs), and re-writes it. \n",
    "    It performs and intermediate step where it writes the files locally, but removes these after.\n",
    "    \n",
    "    gs_path : str\n",
    "        Path to Google Cloud Storage where the shapefile (.shp) is.\n",
    "        INCLUDE EXTENSION .shp\n",
    "    gs_processed_path : str\n",
    "        Path to Google Cloud Storage where the processed files will be written.\n",
    "        DO NOT INCLUDE EXTENSION.\n",
    "    crs : str\n",
    "        The coordinate reference system (crs) the transform the shapefile to.\n",
    "    \"\"\"\n",
    "    \n",
    "    # Set environment variable\n",
    "    os.environ[\"PROJ_IGNORE_CELESTIAL_BODY\"] = \"YES\"\n",
    "    \n",
    "    # Read data from GS\n",
    "    data = gpd.read_file(gs_path)\n",
    "    \n",
    "    # Transform CRS\n",
    "    data_new_crs = data.to_crs(crs)\n",
    "    \n",
    "    # Add to local folder \"out/\"\n",
    "    local_folder = pathlib.Path(\"out\")\n",
    "    local_folder.mkdir(exist_ok=False)\n",
    "    data_new_crs.to_file(\"out/data.shp\") # Note: this will output all the other files too! e.g. .prj\n",
    "\n",
    "    \n",
    "    # Move all files from local to Cloud Storage\n",
    "    bucket = gs_processed_path.split(\"//\")[1].split(\"/\")[0]\n",
    "    path_in_bucket = gs_processed_path.split(f\"{bucket}/\")[1]\n",
    "    for file in glob.glob(\"out/*\"):\n",
    "        extension = file.split(\".\")[-1]\n",
    "        client = storage.Client()\n",
    "        bucket = client.get_bucket(bucket)\n",
    "        blob = bucket.blob(f\"{path_in_bucket}.{extension}\")\n",
    "        blob.upload_from_filename(f\"out/data.{extension}\")\n",
    "    shutil.rmtree(\"out\")"
   ]
  },
  {
   "cell_type": "code",
   "execution_count": null,
   "id": "27875cdc-4c23-4beb-ab74-fe4912a2548f",
   "metadata": {},
   "outputs": [],
   "source": [
    "def transfer_from_gcs_to_gee(gs_path, ee_path, data_type):\n",
    "    \"\"\"\n",
    "    Moves data from Google Cloud Storage to Google Earth Engine.\n",
    "    \n",
    "    gs_path : str\n",
    "        Path to file in Google Cloud Storage.\n",
    "        INCLUDE EXTENSION.\n",
    "    ee_path : str\n",
    "        Path for file to be written in Google Earth Engine.\n",
    "        DO NOT INCLUDE EXTENSION.\n",
    "    data_type : str\n",
    "        \"table\" for .shp, \"image\" for .tif\n",
    "    \"\"\"\n",
    "    \n",
    "    result = subprocess.run(\n",
    "        [\n",
    "            \"earthengine\",\n",
    "            \"upload\",\n",
    "            data_type,\n",
    "            f\"--asset_id={ee_path}\",\n",
    "            f\"{gs_path}\"\n",
    "        ],\n",
    "        capture_output=True,\n",
    "        check=True,\n",
    "    )\n",
    "    print(result.stdout.decode())\n",
    "    print(result.stderr.decode())"
   ]
  },
  {
   "cell_type": "markdown",
   "id": "5efeb0f9-8099-4286-9ed3-ce282d335be6",
   "metadata": {},
   "source": [
    "# 2. Fault labels data"
   ]
  },
  {
   "cell_type": "markdown",
   "id": "0a6fa2c1-dc66-4e65-9591-39f4c3e30ecb",
   "metadata": {},
   "source": [
    "Our labels data is in the form of a shapefile (.shp), which contains lots of vectors, where each vector is one fault."
   ]
  },
  {
   "cell_type": "markdown",
   "id": "2c8b4146-8e95-46c9-b0cd-dddd32e14b34",
   "metadata": {},
   "source": [
    "## 2.1. Transform the CRS of the data"
   ]
  },
  {
   "cell_type": "code",
   "execution_count": null,
   "id": "41d7126f-ce94-41d8-b23b-a0742694ec9d",
   "metadata": {},
   "outputs": [],
   "source": [
    "transform_crs(\n",
    "    gs_path = \"gs://esg-satelite-data-warehouse/mars/mars_labels/Orlov_TempeTerra_fault_catalogue.shp\", \n",
    "    gs_processed_path = \"gs://esg-satelite-data-warehouse/mars/mars_labels_processed/faultlines\"\n",
    ")"
   ]
  },
  {
   "cell_type": "markdown",
   "id": "cdce27f3-30f9-4b81-83d6-4a4b25d6d819",
   "metadata": {},
   "source": [
    "## 2.2. Transfer from GCS to GEE"
   ]
  },
  {
   "cell_type": "code",
   "execution_count": null,
   "id": "20233b44-dcaf-46b4-b552-4227dcd000f6",
   "metadata": {},
   "outputs": [],
   "source": [
    "transfer_from_gcs_to_gee(\n",
    "    gs_path = \"gs://esg-satelite-data-warehouse/mars/mars_labels_processed/faultlines.shp\", \n",
    "    ee_path = \"projects/esg-satelite/assets/mars/labels/faultlines\",\n",
    "    data_type = \"table\"\n",
    ")"
   ]
  },
  {
   "cell_type": "markdown",
   "id": "4226ee61-5073-4586-adc5-5a694c75f7d5",
   "metadata": {},
   "source": [
    "# 3. Elevation data"
   ]
  },
  {
   "cell_type": "markdown",
   "id": "970fe10f-ad56-4222-bef6-67365bc7b55f",
   "metadata": {},
   "source": [
    "- https://astrogeology.usgs.gov/search/map/Mars/Topography/HRSC_MOLA_Blend/Mars_HRSC_MOLA_BlendDEM_Global_200mp\n",
    "- Uploaded the data onto GCP originally using a .tsv file."
   ]
  },
  {
   "cell_type": "markdown",
   "id": "0f22e179-3875-4835-bbbd-554b404eb499",
   "metadata": {},
   "source": [
    "## 3.1. Transfer from GCS to GEE"
   ]
  },
  {
   "cell_type": "code",
   "execution_count": null,
   "id": "538ad4eb-7470-4f90-b5f2-a37eeb8c078f",
   "metadata": {},
   "outputs": [],
   "source": [
    "transfer_from_gcs_to_gee(\n",
    "    gs_path = \"gs://esg-satelite-data-warehouse/mars/planetarymaps.usgs.gov/mosaic/Mars/HRSC_MOLA_Blend/Mars_HRSC_MOLA_BlendDEM_Global_200mp_v2.tif\", \n",
    "    ee_path = \"projects/esg-satelite/assets/mars/elevation/elevation_data\"\n",
    "    data_type = \"image\"\n",
    ")"
   ]
  },
  {
   "cell_type": "markdown",
   "id": "bff52e81-c874-443c-a50f-e9392d521746",
   "metadata": {},
   "source": [
    "# 4. HRSC Images (sample of 3 only)"
   ]
  },
  {
   "cell_type": "markdown",
   "id": "a9951405-5e46-43b7-8d78-69ca30bb323a",
   "metadata": {},
   "source": [
    "- https://ode.rsl.wustl.edu/mars/mapsearch (Mars Express > HRSC > Derived > Version 3 Map Projected Reduced Data Record).\n",
    "- Uploaded the sample of 3 images onto GCP manually as Claire sent some samples via email, and retrieving the data online is not straightforward."
   ]
  },
  {
   "cell_type": "markdown",
   "id": "731f6667-b132-4f8d-b7dc-3dc64b109b2a",
   "metadata": {},
   "source": [
    "**VERY IMPORTANT NOTE**: All of the images below were moved to an EE *image collection*. This had to be manually made first on EE. So, when we do processin gon the image collection, we simply use the path `projects/esg-satelite/assets/mars/mars_express_hrsc_example` (i.e. with no \"image_x\" appended)."
   ]
  },
  {
   "cell_type": "code",
   "execution_count": null,
   "id": "bba5705d-281c-4336-b4ed-dc80d9db98ac",
   "metadata": {},
   "outputs": [],
   "source": [
    "# As these were in separate .tif files, they have to be moved individually\n",
    "gs_paths = [\n",
    "    \"gs://esg-satelite-data-warehouse/mars/mars_express_hrsc_example/h1462_nd3_Merc_clip.tif\",\n",
    "    \"gs://esg-satelite-data-warehouse/mars/mars_express_hrsc_example/h1495_nd3_Merc_clip.tif\",\n",
    "    \"gs://esg-satelite-data-warehouse/mars/mars_express_hrsc_example/h8304_nd3_Merc.tif\"\n",
    "]\n",
    "ee_paths = [f\"projects/esg-satelite/assets/mars/mars_express_hrsc_example/image_{x}\" for x in range(len(gs_paths))]\n",
    "\n",
    "for gs_path, ee_path in zip(gs_paths,ee_paths):\n",
    "    transfer_from_gcs_to_gee(\n",
    "        gs_path = gs_path,\n",
    "        ee_path = ee_path,\n",
    "        data_type = \"image\"\n",
    "    )"
   ]
  }
 ],
 "metadata": {
  "environment": {
   "kernel": "python3",
   "name": "common-cpu.m109",
   "type": "gcloud",
   "uri": "gcr.io/deeplearning-platform-release/base-cpu:m109"
  },
  "kernelspec": {
   "display_name": "Python 3",
   "language": "python",
   "name": "python3"
  },
  "language_info": {
   "codemirror_mode": {
    "name": "ipython",
    "version": 3
   },
   "file_extension": ".py",
   "mimetype": "text/x-python",
   "name": "python",
   "nbconvert_exporter": "python",
   "pygments_lexer": "ipython3",
   "version": "3.10.11"
  }
 },
 "nbformat": 4,
 "nbformat_minor": 5
}
