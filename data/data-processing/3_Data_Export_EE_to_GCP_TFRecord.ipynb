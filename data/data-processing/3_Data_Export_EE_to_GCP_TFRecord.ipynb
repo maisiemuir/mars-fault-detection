{
 "cells": [
  {
   "cell_type": "markdown",
   "id": "0d7a57cb-2366-4729-84c2-295449840c87",
   "metadata": {},
   "source": [
    "# Exporting Data from Google Earth Engine as TensorFlow Records"
   ]
  },
  {
   "cell_type": "markdown",
   "id": "3a3399a5-cce0-4311-800e-d11eb8bcc03f",
   "metadata": {},
   "source": [
    "This notebook is still a **work in progress**."
   ]
  },
  {
   "cell_type": "markdown",
   "id": "dadbf335-9e9a-4886-bc90-386192bcc2c8",
   "metadata": {},
   "source": [
    "# 1. Config"
   ]
  },
  {
   "cell_type": "code",
   "execution_count": null,
   "id": "02bb4425-f0dd-4141-adc6-e9a6fc5707c4",
   "metadata": {},
   "outputs": [],
   "source": [
    "import ee\n",
    "import folium\n",
    "import geopandas as gpd\n",
    "import tensorflow as tf"
   ]
  },
  {
   "cell_type": "code",
   "execution_count": null,
   "id": "b936a0f3-b2c6-41a8-9fa5-dad4694aad1a",
   "metadata": {},
   "outputs": [],
   "source": [
    "ee.Initialize()"
   ]
  },
  {
   "cell_type": "code",
   "execution_count": null,
   "id": "f295114b-0532-4f48-99d6-05b39f2cc2e4",
   "metadata": {},
   "outputs": [],
   "source": [
    "BANDS = [\"HRSC\"]\n",
    "RESPONSE = \"FAULTLINE\"\n",
    "FEATURES = BANDS + [RESPONSE]\n",
    "\n",
    "KERNEL_SIZE = 64\n",
    "COLUMNS = [\n",
    "    tf.io.FixedLenFeature(shape=[KERNEL_SIZE, KERNEL_SIZE], dtype=tf.float32) for _ in FEATURES\n",
    "]\n",
    "FEATURES_DICT = dict(zip(FEATURES, COLUMNS))"
   ]
  },
  {
   "cell_type": "markdown",
   "id": "e12f76ee-4602-4a2b-9716-082b4893b9d7",
   "metadata": {},
   "source": [
    "# 2. Data"
   ]
  },
  {
   "cell_type": "code",
   "execution_count": null,
   "id": "6ebcdb38-4390-47ea-825d-421777f8eb27",
   "metadata": {},
   "outputs": [],
   "source": [
    "# Get data\n",
    "faultlines_raster = ee.Image(\"projects/esg-satelite/assets/mars/labels/faultlines_raster\")\n",
    "# hrsc_sample = ee.Image(\"projects/esg-satelite/assets/mars/features/post/hrsc_sample\")"
   ]
  },
  {
   "cell_type": "code",
   "execution_count": null,
   "id": "d1df01f3-04fd-48c7-a186-a1741e22cb8a",
   "metadata": {},
   "outputs": [],
   "source": [
    "# Create stack\n",
    "image_stack = ee.Image.cat(\n",
    "    [\n",
    "        faultlines_raster,\n",
    "        hrsc_sample\n",
    "    ]\n",
    ")"
   ]
  },
  {
   "cell_type": "code",
   "execution_count": null,
   "id": "1de8b376-260e-4d20-9f89-9e687bda2352",
   "metadata": {},
   "outputs": [],
   "source": [
    "# NOTE: Not sure why we do this \n",
    "image_stack = image_stack.float()"
   ]
  },
  {
   "cell_type": "code",
   "execution_count": null,
   "id": "0ec3846d-b4f4-4f59-92ad-1189e703a1dc",
   "metadata": {},
   "outputs": [],
   "source": [
    "# Makes a 64x64 tensor of 1s\n",
    "# This is because we want, for each pixel, to take every 64x64 pixel around that one\n",
    "# The 1s just mean we aren't applying any kind of transformation\n",
    "ee_list = ee.List.repeat(1,KERNEL_SIZE)\n",
    "ee_lists = ee.List.repeat(ee_list,KERNEL_SIZE)\n",
    "kernel = ee.Kernel.fixed(KERNEL_SIZE, KERNEL_SIZE, ee_lists)"
   ]
  },
  {
   "cell_type": "code",
   "execution_count": null,
   "id": "ccecc606-66ca-4986-978a-d37e883326b0",
   "metadata": {},
   "outputs": [],
   "source": [
    "# Makes a feature collection of \"patches\" which are regions (geometries) of different sets of data\n",
    "# You might have a train, validation, and test patch, for example\n",
    "PATCHES_JSON = {\n",
    "  \"type\": \"FeatureCollection\",\n",
    "  \"features\": [\n",
    "    {\n",
    "      \"type\":\"Feature\",\n",
    "      \"properties\": {},\n",
    "      \"geometry\": {\n",
    "        \"coordinates\": [\n",
    "          [\n",
    "            [\n",
    "              -75.69403257726853,\n",
    "              45.43314727092101\n",
    "            ],\n",
    "            [\n",
    "              -75.69403257726853,\n",
    "              41.20493154723766\n",
    "            ],\n",
    "            [\n",
    "              -69.91084889191063,\n",
    "              41.20493154723766\n",
    "            ],\n",
    "            [\n",
    "              -69.91084889191063,\n",
    "              45.43314727092101\n",
    "            ],\n",
    "            [\n",
    "              -75.69403257726853,\n",
    "              45.43314727092101\n",
    "            ]\n",
    "          ]\n",
    "        ],\n",
    "        \"type\": \"Polygon\"\n",
    "      }\n",
    "    }\n",
    "  ]\n",
    "}\n",
    "\n",
    "PATCHES = ee.FeatureCollection(PATCHES_JSON)"
   ]
  },
  {
   "cell_type": "code",
   "execution_count": null,
   "id": "4e6a0a7a-0b9a-4037-9431-d0d44431c222",
   "metadata": {},
   "outputs": [],
   "source": [
    "# I am not convinced we apply the kernel in this code! Please can we check this.\n",
    "# Kernel should be applied to create \"image_stack_neighbours\" which should\n",
    "# have 64x64 tensor at every pixel. Then, the below function should sample and take\n",
    "# 1000 of those pixels at random (i.e. 1000 64x64 images) "
   ]
  },
  {
   "cell_type": "code",
   "execution_count": null,
   "id": "d0a33176-feab-4abf-bb92-cd9c4426d553",
   "metadata": {},
   "outputs": [],
   "source": [
    "# We have set the numPixels to 1000\n",
    "#\n",
    "\n",
    "patch_list = PATCHES.toList(PATCHES.size())\n",
    "task_list = []\n",
    "\n",
    "# Extracts feature from the feature collection, and gets the geom property\n",
    "for geometry_index in range(PATCHES.size().getInfo()):\n",
    "    image_stack_sample = image_stack_neighbours.sample(\n",
    "        region=ee.Feature(patch_list.get(geometry_index)).geometry(),\n",
    "        scale=1000,\n",
    "        numPixels=1000,\n",
    "        seed=123\n",
    "    )\n",
    "\n",
    "    desc = f\"Features and Labels for region: {geometry_index}\"\n",
    "    task = ee.batch.Export.table.toCloudStorage(\n",
    "        collection=image_stack_sample,\n",
    "        description=desc,\n",
    "        bucket=\"esg-satelite-data-warehouse\",\n",
    "        fileNamePrefix=f\"mars/modelling/modelling_data_{geometry_index}\",\n",
    "        fileFormat = \"TFRecord\"\n",
    "    )\n",
    "    task_list.append(task)"
   ]
  },
  {
   "cell_type": "code",
   "execution_count": null,
   "id": "13065048-b71f-4477-a448-dad49557cb91",
   "metadata": {},
   "outputs": [],
   "source": [
    "# Check the number of samples received.\n",
    "# It should be\n",
    "image_stack_sample.size().getInfo()"
   ]
  },
  {
   "cell_type": "code",
   "execution_count": null,
   "id": "8ab3f4fc-0f71-444e-abcb-5861824f49ba",
   "metadata": {},
   "outputs": [],
   "source": [
    "# for task in task_list:\n",
    "#     task.start()"
   ]
  }
 ],
 "metadata": {
  "environment": {
   "kernel": "python3",
   "name": "common-cpu.m109",
   "type": "gcloud",
   "uri": "gcr.io/deeplearning-platform-release/base-cpu:m109"
  },
  "kernelspec": {
   "display_name": "Python 3",
   "language": "python",
   "name": "python3"
  },
  "language_info": {
   "codemirror_mode": {
    "name": "ipython",
    "version": 3
   },
   "file_extension": ".py",
   "mimetype": "text/x-python",
   "name": "python",
   "nbconvert_exporter": "python",
   "pygments_lexer": "ipython3",
   "version": "3.10.11"
  }
 },
 "nbformat": 4,
 "nbformat_minor": 5
}
