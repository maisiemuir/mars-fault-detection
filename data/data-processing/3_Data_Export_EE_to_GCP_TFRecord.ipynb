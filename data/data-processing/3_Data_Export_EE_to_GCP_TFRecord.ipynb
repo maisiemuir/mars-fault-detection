{
 "cells": [
  {
   "cell_type": "markdown",
   "id": "0d7a57cb-2366-4729-84c2-295449840c87",
   "metadata": {},
   "source": [
    "# Exporting Data from Google Earth Engine as TensorFlow Records"
   ]
  },
  {
   "cell_type": "markdown",
   "id": "3a3399a5-cce0-4311-800e-d11eb8bcc03f",
   "metadata": {},
   "source": [
    "This notebook is still a **work in progress**."
   ]
  },
  {
   "cell_type": "markdown",
   "id": "dadbf335-9e9a-4886-bc90-386192bcc2c8",
   "metadata": {},
   "source": [
    "# 1. Config"
   ]
  },
  {
   "cell_type": "code",
   "execution_count": 1,
   "id": "02bb4425-f0dd-4141-adc6-e9a6fc5707c4",
   "metadata": {},
   "outputs": [
    {
     "name": "stderr",
     "output_type": "stream",
     "text": [
      "2023-09-08 13:27:14.506255: I tensorflow/core/platform/cpu_feature_guard.cc:193] This TensorFlow binary is optimized with oneAPI Deep Neural Network Library (oneDNN) to use the following CPU instructions in performance-critical operations:  AVX2 FMA\n",
      "To enable them in other operations, rebuild TensorFlow with the appropriate compiler flags.\n",
      "2023-09-08 13:27:15.313720: W tensorflow/compiler/xla/stream_executor/platform/default/dso_loader.cc:64] Could not load dynamic library 'libnvinfer.so.7'; dlerror: libnvinfer.so.7: cannot open shared object file: No such file or directory; LD_LIBRARY_PATH: /usr/local/cuda/lib64:/usr/local/nccl2/lib:/usr/local/cuda/extras/CUPTI/lib64\n",
      "2023-09-08 13:27:15.313822: W tensorflow/compiler/xla/stream_executor/platform/default/dso_loader.cc:64] Could not load dynamic library 'libnvinfer_plugin.so.7'; dlerror: libnvinfer_plugin.so.7: cannot open shared object file: No such file or directory; LD_LIBRARY_PATH: /usr/local/cuda/lib64:/usr/local/nccl2/lib:/usr/local/cuda/extras/CUPTI/lib64\n",
      "2023-09-08 13:27:15.313831: W tensorflow/compiler/tf2tensorrt/utils/py_utils.cc:38] TF-TRT Warning: Cannot dlopen some TensorRT libraries. If you would like to use Nvidia GPU with TensorRT, please make sure the missing libraries mentioned above are installed properly.\n"
     ]
    }
   ],
   "source": [
    "import ee\n",
    "import folium\n",
    "import geopandas as gpd\n",
    "import tensorflow as tf"
   ]
  },
  {
   "cell_type": "code",
   "execution_count": 2,
   "id": "26f2d7e8-5e60-466e-8bc8-414d8afb5969",
   "metadata": {},
   "outputs": [],
   "source": [
    "# Creating add_ee_layer function\n",
    "# This allows us to visualise EE objects on a Folium map\n",
    "def add_ee_layer(self, ee_image_object, vis_params, name):\n",
    "    map_id_dict = ee_image_object.getMapId(vis_params)\n",
    "    folium.raster_layers.TileLayer(\n",
    "        tiles = map_id_dict['tile_fetcher'].url_format,\n",
    "        attr = 'Map Data &copy; <a href=\"https://earthengine.google.com/\">Google Earth Engine</a>',\n",
    "        name = name,\n",
    "        overlay = True,\n",
    "        control = True\n",
    "    ).add_to(self)\n",
    "\n",
    "folium.Map.add_ee_layer = add_ee_layer"
   ]
  },
  {
   "cell_type": "code",
   "execution_count": 3,
   "id": "dbad65f7-8da8-4041-8e66-6ce1407aa71d",
   "metadata": {},
   "outputs": [],
   "source": [
    "# ee.Authenticate()"
   ]
  },
  {
   "cell_type": "code",
   "execution_count": 4,
   "id": "b936a0f3-b2c6-41a8-9fa5-dad4694aad1a",
   "metadata": {},
   "outputs": [],
   "source": [
    "ee.Initialize()"
   ]
  },
  {
   "cell_type": "code",
   "execution_count": 5,
   "id": "f295114b-0532-4f48-99d6-05b39f2cc2e4",
   "metadata": {},
   "outputs": [],
   "source": [
    "BANDS = [\"b1\"]\n",
    "RESPONSE = \"FAULTLINE\"\n",
    "FEATURES = BANDS + [RESPONSE]\n",
    "\n",
    "KERNEL_SIZE = 128\n",
    "COLUMNS = [\n",
    "    tf.io.FixedLenFeature(shape=[KERNEL_SIZE, KERNEL_SIZE], dtype=tf.float32) for _ in FEATURES\n",
    "]\n",
    "FEATURES_DICT = dict(zip(FEATURES, COLUMNS))"
   ]
  },
  {
   "cell_type": "markdown",
   "id": "e12f76ee-4602-4a2b-9716-082b4893b9d7",
   "metadata": {
    "tags": []
   },
   "source": [
    "# 2. Data"
   ]
  },
  {
   "cell_type": "code",
   "execution_count": 6,
   "id": "6ebcdb38-4390-47ea-825d-421777f8eb27",
   "metadata": {},
   "outputs": [],
   "source": [
    "# Get data\n",
    "themis_tempe_terra = ee.Image(\"projects/esg-satelite/assets/mars/features/themis_epsg3857_sample/pre/themis_epsg3857_sample\")\n",
    "faultline_vectors = ee.FeatureCollection(\"projects/esg-satelite/assets/mars/labels/faults/pre/faults\")"
   ]
  },
  {
   "cell_type": "code",
   "execution_count": 7,
   "id": "04bc23bd-7c83-4842-a899-3a9fbd132a1f",
   "metadata": {},
   "outputs": [],
   "source": [
    "# Add a columns of ones \n",
    "# This assigns each geometry (each fault/vector) to the value 1\n",
    "# and assigns every other space to nothing (which we will fix later)\n",
    "def add_column(feature):\n",
    "    return feature.set({\"Value\": 1})\n",
    "\n",
    "faultline_vectors_with_ones = faultline_vectors.map(add_column)\n",
    "\n",
    "faultlines_raster = (\n",
    "    # Convert to image\n",
    "    faultline_vectors_with_ones.reduceToImage(\n",
    "        properties=[\"Value\"],\n",
    "        reducer=ee.Reducer.first()\n",
    "    )\n",
    "    # Change band name \"first\"  to \"FAULTLINE\" \n",
    "    .select([\"first\"], [\"FAULTLINE\"])\n",
    "    # Unmask, which changes all non-fault pixels to have value 0\n",
    "    .unmask(0)\n",
    ")"
   ]
  },
  {
   "cell_type": "code",
   "execution_count": 8,
   "id": "232f74b1-b1fb-4c0a-8d0b-dbd0336ce0e7",
   "metadata": {},
   "outputs": [],
   "source": [
    "# Apply line detection algo to data for another layer\n",
    "canny = ee.Algorithms.CannyEdgeDetector(\n",
    "    image = themis_tempe_terra,\n",
    "    threshold = 200,\n",
    "    sigma = 1\n",
    ").select([\"b1\"],[\"CANNY\"])"
   ]
  },
  {
   "cell_type": "code",
   "execution_count": 9,
   "id": "d1df01f3-04fd-48c7-a186-a1741e22cb8a",
   "metadata": {},
   "outputs": [],
   "source": [
    "# Create stack\n",
    "image_stack = ee.Image.cat(\n",
    "    [\n",
    "        faultlines_raster,\n",
    "        # canny,\n",
    "        themis_tempe_terra\n",
    "    ]\n",
    ")"
   ]
  },
  {
   "cell_type": "code",
   "execution_count": 10,
   "id": "1de8b376-260e-4d20-9f89-9e687bda2352",
   "metadata": {},
   "outputs": [],
   "source": [
    "# NOTE: Not sure why we do this \n",
    "image_stack = image_stack.float()"
   ]
  },
  {
   "cell_type": "code",
   "execution_count": 11,
   "id": "0ec3846d-b4f4-4f59-92ad-1189e703a1dc",
   "metadata": {},
   "outputs": [],
   "source": [
    "# Makes a 64x64 tensor of 1s\n",
    "# This is because we want, for each pixel, to take every 64x64 pixel around that one\n",
    "# The 1s just mean we aren't applying any kind of transformation\n",
    "ee_list = ee.List.repeat(1,KERNEL_SIZE)\n",
    "ee_lists = ee.List.repeat(ee_list,KERNEL_SIZE)\n",
    "kernel = ee.Kernel.fixed(KERNEL_SIZE, KERNEL_SIZE, ee_lists)\n",
    "\n",
    "image_stack_neighbours = image_stack.neighborhoodToArray(kernel)"
   ]
  },
  {
   "cell_type": "code",
   "execution_count": 12,
   "id": "ccecc606-66ca-4986-978a-d37e883326b0",
   "metadata": {},
   "outputs": [],
   "source": [
    "# Makes a feature collection of \"patches\" which are regions (geometries) of different sets of data\n",
    "# You might have a train, validation, and test patch, for example\n",
    "PATCHES_JSON = {\n",
    "  \"type\": \"FeatureCollection\",\n",
    "  \"features\": [\n",
    "    {\n",
    "      \"type\": \"Feature\",\n",
    "      \"properties\": {},\n",
    "      \"geometry\": {\n",
    "        \"coordinates\": [\n",
    "          [\n",
    "            [\n",
    "              -33.918757526645976,\n",
    "              26.49222375015387\n",
    "            ],\n",
    "            [\n",
    "              -40.26040404499685,\n",
    "              26.49222375015387\n",
    "            ],\n",
    "            [\n",
    "              -40.26040404499685,\n",
    "              20.974775529401086\n",
    "            ],\n",
    "            [\n",
    "              -33.918757526645976,\n",
    "              20.974775529401086\n",
    "            ],\n",
    "            [\n",
    "              -33.918757526645976,\n",
    "              26.49222375015387\n",
    "            ]\n",
    "          ]\n",
    "        ],\n",
    "        \"type\": \"Polygon\"\n",
    "      }\n",
    "    },\n",
    "    {\n",
    "      \"type\": \"Feature\",\n",
    "      \"properties\": {},\n",
    "      \"geometry\": {\n",
    "        \"coordinates\": [\n",
    "          [\n",
    "            [\n",
    "              -41.00986944735257,\n",
    "              20.362429056777785\n",
    "            ],\n",
    "            [\n",
    "              -47.34052480491607,\n",
    "              20.362429056777785\n",
    "            ],\n",
    "            [\n",
    "              -47.34052480491607,\n",
    "              14.877329446085028\n",
    "            ],\n",
    "            [\n",
    "              -41.00986944735257,\n",
    "              14.877329446085028\n",
    "            ],\n",
    "            [\n",
    "              -41.00986944735257,\n",
    "              20.362429056777785\n",
    "            ]\n",
    "          ]\n",
    "        ],\n",
    "        \"type\": \"Polygon\"\n",
    "      }\n",
    "    },\n",
    "    {\n",
    "      \"type\": \"Feature\",\n",
    "      \"properties\": {},\n",
    "      \"geometry\": {\n",
    "        \"coordinates\": [\n",
    "          [\n",
    "            [\n",
    "              -44.52875162673706,\n",
    "              24.15410327553623\n",
    "            ],\n",
    "            [\n",
    "              -44.52875162673706,\n",
    "              21.604066258136825\n",
    "            ],\n",
    "            [\n",
    "              -41.448118490651126,\n",
    "              21.604066258136825\n",
    "            ],\n",
    "            [\n",
    "              -41.448118490651126,\n",
    "              24.15410327553623\n",
    "            ],\n",
    "            [\n",
    "              -44.52875162673706,\n",
    "              24.15410327553623\n",
    "            ]\n",
    "          ]\n",
    "        ],\n",
    "        \"type\": \"Polygon\"\n",
    "      }\n",
    "    }\n",
    "  ]\n",
    "}\n",
    "PATCHES = ee.FeatureCollection(PATCHES_JSON)"
   ]
  },
  {
   "cell_type": "code",
   "execution_count": 13,
   "id": "fd0ea833-69bd-40ed-ae46-10164a00d5e9",
   "metadata": {},
   "outputs": [],
   "source": [
    "# Map = folium.Map()\n",
    "\n",
    "# Map.add_ee_layer(\n",
    "#     themis_tempe_terra,\n",
    "#     {},\n",
    "#     \"Mars THEMIS\"\n",
    "# )\n",
    "\n",
    "# Map.add_ee_layer(\n",
    "#     faultlines_raster.updateMask(faultlines_raster.eq(1)),\n",
    "#     {\"min\": 0, \"max\": 1},\n",
    "#     \"Fault Lines\"\n",
    "# )\n",
    "\n",
    "# Map.add_ee_layer(\n",
    "#     PATCHES,\n",
    "#     {},\n",
    "#     \"Regions\"\n",
    "# )\n",
    "\n",
    "# _ = folium.LayerControl().add_to(Map)\n",
    "\n",
    "# Map"
   ]
  },
  {
   "cell_type": "code",
   "execution_count": 14,
   "id": "d0a33176-feab-4abf-bb92-cd9c4426d553",
   "metadata": {},
   "outputs": [],
   "source": [
    "# We have set the numPixels to 1000\n",
    "patch_list = PATCHES.toList(PATCHES.size())\n",
    "\n",
    "task_list = []\n",
    "number_of_shards = 100\n",
    "sample_size = 1000\n",
    "names = [\"train\", \"val\", \"test\"]\n",
    "\n",
    "# Extracts feature from the feature collection, and gets the geom property\n",
    "for geometry_index in range(PATCHES.size().getInfo()):\n",
    "    \n",
    "    image_stack_sample = ee.FeatureCollection([])\n",
    "    for i in range(number_of_shards):\n",
    "        \n",
    "        sample = image_stack_neighbours.sample(\n",
    "            region=ee.Feature(patch_list.get(geometry_index)).geometry(),\n",
    "            scale=500,\n",
    "            numPixels=sample_size/number_of_shards,\n",
    "            seed=i\n",
    "        )\n",
    "        image_stack_sample = image_stack_sample.merge(sample)\n",
    "        \n",
    "    desc = f\"Features and Labels for region: {names[geometry_index]}\"\n",
    "    task = ee.batch.Export.table.toCloudStorage(\n",
    "        collection=image_stack_sample,\n",
    "        description=desc,\n",
    "        bucket=\"esg-satelite-data-warehouse\",\n",
    "        fileNamePrefix=f\"mars/modelling/themis_tempeterra_epsg3857_v1/modelling_data_{names[geometry_index]}\",\n",
    "        fileFormat = \"TFRecord\"\n",
    "    )\n",
    "    task_list.append(task)"
   ]
  },
  {
   "cell_type": "code",
   "execution_count": 15,
   "id": "8ab3f4fc-0f71-444e-abcb-5861824f49ba",
   "metadata": {},
   "outputs": [],
   "source": [
    "for task in task_list:\n",
    "    task.start()"
   ]
  },
  {
   "cell_type": "code",
   "execution_count": 17,
   "id": "e7f25e03-3c2c-4286-9c39-78980fcc13cf",
   "metadata": {},
   "outputs": [
    {
     "data": {
      "text/plain": [
       "{'state': 'RUNNING',\n",
       " 'description': 'Features and Labels for region: train',\n",
       " 'creation_timestamp_ms': 1694179639538,\n",
       " 'update_timestamp_ms': 1694179649402,\n",
       " 'start_timestamp_ms': 1694179649367,\n",
       " 'task_type': 'EXPORT_FEATURES',\n",
       " 'attempt': 1,\n",
       " 'id': 'PQAPWTQ2UCSQIXCA46XVGLI7',\n",
       " 'name': 'projects/earthengine-legacy/operations/PQAPWTQ2UCSQIXCA46XVGLI7'}"
      ]
     },
     "execution_count": 17,
     "metadata": {},
     "output_type": "execute_result"
    }
   ],
   "source": [
    "task_list[0].status()"
   ]
  },
  {
   "cell_type": "code",
   "execution_count": null,
   "id": "be080386-5bfa-4a26-8b5c-649f0f400083",
   "metadata": {},
   "outputs": [],
   "source": []
  }
 ],
 "metadata": {
  "environment": {
   "kernel": "python3",
   "name": "tf2-gpu.2-11.m107",
   "type": "gcloud",
   "uri": "gcr.io/deeplearning-platform-release/tf2-gpu.2-11:m107"
  },
  "kernelspec": {
   "display_name": "Python 3 (ipykernel)",
   "language": "python",
   "name": "python3"
  },
  "language_info": {
   "codemirror_mode": {
    "name": "ipython",
    "version": 3
   },
   "file_extension": ".py",
   "mimetype": "text/x-python",
   "name": "python",
   "nbconvert_exporter": "python",
   "pygments_lexer": "ipython3",
   "version": "3.7.12"
  }
 },
 "nbformat": 4,
 "nbformat_minor": 5
}
