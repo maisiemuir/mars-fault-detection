{
 "cells": [
  {
   "cell_type": "markdown",
   "id": "0d7a57cb-2366-4729-84c2-295449840c87",
   "metadata": {},
   "source": [
    "# Exporting Data from Google Earth Engine as TensorFlow Records"
   ]
  },
  {
   "cell_type": "markdown",
   "id": "3a3399a5-cce0-4311-800e-d11eb8bcc03f",
   "metadata": {},
   "source": [
    "This notebook is still a **work in progress**."
   ]
  },
  {
   "cell_type": "markdown",
   "id": "dadbf335-9e9a-4886-bc90-386192bcc2c8",
   "metadata": {},
   "source": [
    "# 1. Config"
   ]
  },
  {
   "cell_type": "code",
   "execution_count": 2,
   "id": "02bb4425-f0dd-4141-adc6-e9a6fc5707c4",
   "metadata": {},
   "outputs": [
    {
     "name": "stderr",
     "output_type": "stream",
     "text": [
      "2023-08-18 15:26:02.507789: I tensorflow/core/platform/cpu_feature_guard.cc:193] This TensorFlow binary is optimized with oneAPI Deep Neural Network Library (oneDNN) to use the following CPU instructions in performance-critical operations:  AVX2 FMA\n",
      "To enable them in other operations, rebuild TensorFlow with the appropriate compiler flags.\n",
      "2023-08-18 15:26:05.472516: W tensorflow/compiler/xla/stream_executor/platform/default/dso_loader.cc:64] Could not load dynamic library 'libnvinfer.so.7'; dlerror: libnvinfer.so.7: cannot open shared object file: No such file or directory; LD_LIBRARY_PATH: /usr/local/cuda/lib64:/usr/local/nccl2/lib:/usr/local/cuda/extras/CUPTI/lib64\n",
      "2023-08-18 15:26:05.472639: W tensorflow/compiler/xla/stream_executor/platform/default/dso_loader.cc:64] Could not load dynamic library 'libnvinfer_plugin.so.7'; dlerror: libnvinfer_plugin.so.7: cannot open shared object file: No such file or directory; LD_LIBRARY_PATH: /usr/local/cuda/lib64:/usr/local/nccl2/lib:/usr/local/cuda/extras/CUPTI/lib64\n",
      "2023-08-18 15:26:05.472651: W tensorflow/compiler/tf2tensorrt/utils/py_utils.cc:38] TF-TRT Warning: Cannot dlopen some TensorRT libraries. If you would like to use Nvidia GPU with TensorRT, please make sure the missing libraries mentioned above are installed properly.\n"
     ]
    }
   ],
   "source": [
    "import ee\n",
    "import folium\n",
    "import geopandas as gpd\n",
    "import tensorflow as tf"
   ]
  },
  {
   "cell_type": "code",
   "execution_count": 11,
   "id": "26f2d7e8-5e60-466e-8bc8-414d8afb5969",
   "metadata": {},
   "outputs": [],
   "source": [
    "# Creating add_ee_layer function\n",
    "# This allows us to visualise EE objects on a Folium map\n",
    "def add_ee_layer(self, ee_image_object, vis_params, name):\n",
    "    map_id_dict = ee_image_object.getMapId(vis_params)\n",
    "    folium.raster_layers.TileLayer(\n",
    "        tiles = map_id_dict['tile_fetcher'].url_format,\n",
    "        attr = 'Map Data &copy; <a href=\"https://earthengine.google.com/\">Google Earth Engine</a>',\n",
    "        name = name,\n",
    "        overlay = True,\n",
    "        control = True\n",
    "    ).add_to(self)\n",
    "\n",
    "folium.Map.add_ee_layer = add_ee_layer"
   ]
  },
  {
   "cell_type": "code",
   "execution_count": 3,
   "id": "b936a0f3-b2c6-41a8-9fa5-dad4694aad1a",
   "metadata": {},
   "outputs": [],
   "source": [
    "ee.Initialize()"
   ]
  },
  {
   "cell_type": "code",
   "execution_count": 41,
   "id": "f295114b-0532-4f48-99d6-05b39f2cc2e4",
   "metadata": {},
   "outputs": [],
   "source": [
    "BANDS = [\"b1\", \"CANNY\"]\n",
    "RESPONSE = \"FAULTLINE\"\n",
    "FEATURES = BANDS + [RESPONSE]\n",
    "\n",
    "KERNEL_SIZE = 64\n",
    "COLUMNS = [\n",
    "    tf.io.FixedLenFeature(shape=[KERNEL_SIZE, KERNEL_SIZE], dtype=tf.float32) for _ in FEATURES\n",
    "]\n",
    "FEATURES_DICT = dict(zip(FEATURES, COLUMNS))"
   ]
  },
  {
   "cell_type": "markdown",
   "id": "e12f76ee-4602-4a2b-9716-082b4893b9d7",
   "metadata": {},
   "source": [
    "# 2. Data"
   ]
  },
  {
   "cell_type": "code",
   "execution_count": 5,
   "id": "6ebcdb38-4390-47ea-825d-421777f8eb27",
   "metadata": {},
   "outputs": [],
   "source": [
    "# Get data\n",
    "faultlines_raster = ee.Image(\"projects/esg-satelite/assets/mars/labels/faults/post/faults_raster\")\n",
    "themis_tempe_terra = ee.Image(\"projects/esg-satelite/assets/mars/features/themis_epsg3857_sample/pre/themis_epsg3857_sample\")"
   ]
  },
  {
   "cell_type": "code",
   "execution_count": 39,
   "id": "232f74b1-b1fb-4c0a-8d0b-dbd0336ce0e7",
   "metadata": {},
   "outputs": [],
   "source": [
    "# Apply line detection algo to data for another layer\n",
    "canny = ee.Algorithms.CannyEdgeDetector(\n",
    "    image = themis_tempe_terra,\n",
    "    threshold = 200,\n",
    "    sigma = 1\n",
    ").select([\"b1\"],[\"CANNY\"])"
   ]
  },
  {
   "cell_type": "code",
   "execution_count": 40,
   "id": "0a0d93f2-ac9e-46c2-949c-521d6dcaf7b0",
   "metadata": {},
   "outputs": [
    {
     "data": {
      "text/plain": [
       "['CANNY']"
      ]
     },
     "execution_count": 40,
     "metadata": {},
     "output_type": "execute_result"
    }
   ],
   "source": [
    "canny.bandNames().getInfo()"
   ]
  },
  {
   "cell_type": "code",
   "execution_count": 42,
   "id": "d1df01f3-04fd-48c7-a186-a1741e22cb8a",
   "metadata": {},
   "outputs": [],
   "source": [
    "# Create stack\n",
    "image_stack = ee.Image.cat(\n",
    "    [\n",
    "        faultlines_raster,\n",
    "        canny,\n",
    "        themis_tempe_terra\n",
    "    ]\n",
    ")"
   ]
  },
  {
   "cell_type": "code",
   "execution_count": 43,
   "id": "1de8b376-260e-4d20-9f89-9e687bda2352",
   "metadata": {},
   "outputs": [],
   "source": [
    "# NOTE: Not sure why we do this \n",
    "image_stack = image_stack.float()"
   ]
  },
  {
   "cell_type": "code",
   "execution_count": 44,
   "id": "0ec3846d-b4f4-4f59-92ad-1189e703a1dc",
   "metadata": {},
   "outputs": [],
   "source": [
    "# Makes a 64x64 tensor of 1s\n",
    "# This is because we want, for each pixel, to take every 64x64 pixel around that one\n",
    "# The 1s just mean we aren't applying any kind of transformation\n",
    "ee_list = ee.List.repeat(1,KERNEL_SIZE)\n",
    "ee_lists = ee.List.repeat(ee_list,KERNEL_SIZE)\n",
    "kernel = ee.Kernel.fixed(KERNEL_SIZE, KERNEL_SIZE, ee_lists)\n",
    "\n",
    "image_stack_neighbours = image_stack.neighborhoodToArray(kernel)"
   ]
  },
  {
   "cell_type": "code",
   "execution_count": 45,
   "id": "ccecc606-66ca-4986-978a-d37e883326b0",
   "metadata": {},
   "outputs": [],
   "source": [
    "# Makes a feature collection of \"patches\" which are regions (geometries) of different sets of data\n",
    "# You might have a train, validation, and test patch, for example\n",
    "PATCHES_JSON = {\n",
    "  \"type\": \"FeatureCollection\",\n",
    "  \"features\": [\n",
    "    {\n",
    "      \"type\": \"Feature\",\n",
    "      \"properties\": {},\n",
    "      \"geometry\": {\n",
    "        \"coordinates\": [\n",
    "          [\n",
    "            [\n",
    "              -33.918757526645976,\n",
    "              26.49222375015387\n",
    "            ],\n",
    "            [\n",
    "              -40.26040404499685,\n",
    "              26.49222375015387\n",
    "            ],\n",
    "            [\n",
    "              -40.26040404499685,\n",
    "              20.974775529401086\n",
    "            ],\n",
    "            [\n",
    "              -33.918757526645976,\n",
    "              20.974775529401086\n",
    "            ],\n",
    "            [\n",
    "              -33.918757526645976,\n",
    "              26.49222375015387\n",
    "            ]\n",
    "          ]\n",
    "        ],\n",
    "        \"type\": \"Polygon\"\n",
    "      }\n",
    "    },\n",
    "    {\n",
    "      \"type\": \"Feature\",\n",
    "      \"properties\": {},\n",
    "      \"geometry\": {\n",
    "        \"coordinates\": [\n",
    "          [\n",
    "            [\n",
    "              -41.00986944735257,\n",
    "              20.362429056777785\n",
    "            ],\n",
    "            [\n",
    "              -47.34052480491607,\n",
    "              20.362429056777785\n",
    "            ],\n",
    "            [\n",
    "              -47.34052480491607,\n",
    "              14.877329446085028\n",
    "            ],\n",
    "            [\n",
    "              -41.00986944735257,\n",
    "              14.877329446085028\n",
    "            ],\n",
    "            [\n",
    "              -41.00986944735257,\n",
    "              20.362429056777785\n",
    "            ]\n",
    "          ]\n",
    "        ],\n",
    "        \"type\": \"Polygon\"\n",
    "      }\n",
    "    },\n",
    "    {\n",
    "      \"type\": \"Feature\",\n",
    "      \"properties\": {},\n",
    "      \"geometry\": {\n",
    "        \"coordinates\": [\n",
    "          [\n",
    "            [\n",
    "              -44.52875162673706,\n",
    "              24.15410327553623\n",
    "            ],\n",
    "            [\n",
    "              -44.52875162673706,\n",
    "              21.604066258136825\n",
    "            ],\n",
    "            [\n",
    "              -41.448118490651126,\n",
    "              21.604066258136825\n",
    "            ],\n",
    "            [\n",
    "              -41.448118490651126,\n",
    "              24.15410327553623\n",
    "            ],\n",
    "            [\n",
    "              -44.52875162673706,\n",
    "              24.15410327553623\n",
    "            ]\n",
    "          ]\n",
    "        ],\n",
    "        \"type\": \"Polygon\"\n",
    "      }\n",
    "    }\n",
    "  ]\n",
    "}\n",
    "PATCHES = ee.FeatureCollection(PATCHES_JSON)"
   ]
  },
  {
   "cell_type": "code",
   "execution_count": 46,
   "id": "fd0ea833-69bd-40ed-ae46-10164a00d5e9",
   "metadata": {},
   "outputs": [
    {
     "data": {
      "text/html": [
       "<div style=\"width:100%;\"><div style=\"position:relative;width:100%;height:0;padding-bottom:60%;\"><span style=\"color:#565656\">Make this Notebook Trusted to load map: File -> Trust Notebook</span><iframe srcdoc=\"&lt;!DOCTYPE html&gt;\n",
       "&lt;html&gt;\n",
       "&lt;head&gt;\n",
       "    \n",
       "    &lt;meta http-equiv=&quot;content-type&quot; content=&quot;text/html; charset=UTF-8&quot; /&gt;\n",
       "    \n",
       "        &lt;script&gt;\n",
       "            L_NO_TOUCH = false;\n",
       "            L_DISABLE_3D = false;\n",
       "        &lt;/script&gt;\n",
       "    \n",
       "    &lt;style&gt;html, body {width: 100%;height: 100%;margin: 0;padding: 0;}&lt;/style&gt;\n",
       "    &lt;style&gt;#map {position:absolute;top:0;bottom:0;right:0;left:0;}&lt;/style&gt;\n",
       "    &lt;script src=&quot;https://cdn.jsdelivr.net/npm/leaflet@1.9.3/dist/leaflet.js&quot;&gt;&lt;/script&gt;\n",
       "    &lt;script src=&quot;https://code.jquery.com/jquery-1.12.4.min.js&quot;&gt;&lt;/script&gt;\n",
       "    &lt;script src=&quot;https://cdn.jsdelivr.net/npm/bootstrap@5.2.2/dist/js/bootstrap.bundle.min.js&quot;&gt;&lt;/script&gt;\n",
       "    &lt;script src=&quot;https://cdnjs.cloudflare.com/ajax/libs/Leaflet.awesome-markers/2.0.2/leaflet.awesome-markers.js&quot;&gt;&lt;/script&gt;\n",
       "    &lt;link rel=&quot;stylesheet&quot; href=&quot;https://cdn.jsdelivr.net/npm/leaflet@1.9.3/dist/leaflet.css&quot;/&gt;\n",
       "    &lt;link rel=&quot;stylesheet&quot; href=&quot;https://cdn.jsdelivr.net/npm/bootstrap@5.2.2/dist/css/bootstrap.min.css&quot;/&gt;\n",
       "    &lt;link rel=&quot;stylesheet&quot; href=&quot;https://netdna.bootstrapcdn.com/bootstrap/3.0.0/css/bootstrap.min.css&quot;/&gt;\n",
       "    &lt;link rel=&quot;stylesheet&quot; href=&quot;https://cdn.jsdelivr.net/npm/@fortawesome/fontawesome-free@6.2.0/css/all.min.css&quot;/&gt;\n",
       "    &lt;link rel=&quot;stylesheet&quot; href=&quot;https://cdnjs.cloudflare.com/ajax/libs/Leaflet.awesome-markers/2.0.2/leaflet.awesome-markers.css&quot;/&gt;\n",
       "    &lt;link rel=&quot;stylesheet&quot; href=&quot;https://cdn.jsdelivr.net/gh/python-visualization/folium/folium/templates/leaflet.awesome.rotate.min.css&quot;/&gt;\n",
       "    \n",
       "            &lt;meta name=&quot;viewport&quot; content=&quot;width=device-width,\n",
       "                initial-scale=1.0, maximum-scale=1.0, user-scalable=no&quot; /&gt;\n",
       "            &lt;style&gt;\n",
       "                #map_1bd3c2ee26b22d1d31cd807c333270d5 {\n",
       "                    position: relative;\n",
       "                    width: 100.0%;\n",
       "                    height: 100.0%;\n",
       "                    left: 0.0%;\n",
       "                    top: 0.0%;\n",
       "                }\n",
       "                .leaflet-container { font-size: 1rem; }\n",
       "            &lt;/style&gt;\n",
       "        \n",
       "&lt;/head&gt;\n",
       "&lt;body&gt;\n",
       "    \n",
       "    \n",
       "            &lt;div class=&quot;folium-map&quot; id=&quot;map_1bd3c2ee26b22d1d31cd807c333270d5&quot; &gt;&lt;/div&gt;\n",
       "        \n",
       "&lt;/body&gt;\n",
       "&lt;script&gt;\n",
       "    \n",
       "    \n",
       "            var map_1bd3c2ee26b22d1d31cd807c333270d5 = L.map(\n",
       "                &quot;map_1bd3c2ee26b22d1d31cd807c333270d5&quot;,\n",
       "                {\n",
       "                    center: [0, 0],\n",
       "                    crs: L.CRS.EPSG3857,\n",
       "                    zoom: 1,\n",
       "                    zoomControl: true,\n",
       "                    preferCanvas: false,\n",
       "                }\n",
       "            );\n",
       "\n",
       "            \n",
       "\n",
       "        \n",
       "    \n",
       "            var tile_layer_8054be9e6d033e7b9768629fa1f82f5f = L.tileLayer(\n",
       "                &quot;https://{s}.tile.openstreetmap.org/{z}/{x}/{y}.png&quot;,\n",
       "                {&quot;attribution&quot;: &quot;Data by \\u0026copy; \\u003ca target=\\&quot;_blank\\&quot; href=\\&quot;http://openstreetmap.org\\&quot;\\u003eOpenStreetMap\\u003c/a\\u003e, under \\u003ca target=\\&quot;_blank\\&quot; href=\\&quot;http://www.openstreetmap.org/copyright\\&quot;\\u003eODbL\\u003c/a\\u003e.&quot;, &quot;detectRetina&quot;: false, &quot;maxNativeZoom&quot;: 18, &quot;maxZoom&quot;: 18, &quot;minZoom&quot;: 0, &quot;noWrap&quot;: false, &quot;opacity&quot;: 1, &quot;subdomains&quot;: &quot;abc&quot;, &quot;tms&quot;: false}\n",
       "            ).addTo(map_1bd3c2ee26b22d1d31cd807c333270d5);\n",
       "        \n",
       "    \n",
       "            var tile_layer_5fd8882150691340455e31501cc7cb87 = L.tileLayer(\n",
       "                &quot;https://earthengine.googleapis.com/v1alpha/projects/earthengine-legacy/maps/6ed3d9fdabf5d919eaffabfb1e5354f2-c91fef795ece230946e7515be1dade12/tiles/{z}/{x}/{y}&quot;,\n",
       "                {&quot;attribution&quot;: &quot;Map Data \\u0026copy; \\u003ca href=\\&quot;https://earthengine.google.com/\\&quot;\\u003eGoogle Earth Engine\\u003c/a\\u003e&quot;, &quot;detectRetina&quot;: false, &quot;maxNativeZoom&quot;: 18, &quot;maxZoom&quot;: 18, &quot;minZoom&quot;: 0, &quot;noWrap&quot;: false, &quot;opacity&quot;: 1, &quot;subdomains&quot;: &quot;abc&quot;, &quot;tms&quot;: false}\n",
       "            ).addTo(map_1bd3c2ee26b22d1d31cd807c333270d5);\n",
       "        \n",
       "    \n",
       "            var tile_layer_5726113f64cabc74437a4c16506d6b62 = L.tileLayer(\n",
       "                &quot;https://earthengine.googleapis.com/v1alpha/projects/earthengine-legacy/maps/7f3c6df44c012a5bec8630876b801e36-791d99460413b3cf8bc8ea6fa560395e/tiles/{z}/{x}/{y}&quot;,\n",
       "                {&quot;attribution&quot;: &quot;Map Data \\u0026copy; \\u003ca href=\\&quot;https://earthengine.google.com/\\&quot;\\u003eGoogle Earth Engine\\u003c/a\\u003e&quot;, &quot;detectRetina&quot;: false, &quot;maxNativeZoom&quot;: 18, &quot;maxZoom&quot;: 18, &quot;minZoom&quot;: 0, &quot;noWrap&quot;: false, &quot;opacity&quot;: 1, &quot;subdomains&quot;: &quot;abc&quot;, &quot;tms&quot;: false}\n",
       "            ).addTo(map_1bd3c2ee26b22d1d31cd807c333270d5);\n",
       "        \n",
       "    \n",
       "            var tile_layer_f35c6a7ee5db1825277c98fd6b03025d = L.tileLayer(\n",
       "                &quot;https://earthengine.googleapis.com/v1alpha/projects/earthengine-legacy/maps/71157d3adf688b1bbd01c736a6dbb152-8f7491da40e2d0ae08b51159a6261933/tiles/{z}/{x}/{y}&quot;,\n",
       "                {&quot;attribution&quot;: &quot;Map Data \\u0026copy; \\u003ca href=\\&quot;https://earthengine.google.com/\\&quot;\\u003eGoogle Earth Engine\\u003c/a\\u003e&quot;, &quot;detectRetina&quot;: false, &quot;maxNativeZoom&quot;: 18, &quot;maxZoom&quot;: 18, &quot;minZoom&quot;: 0, &quot;noWrap&quot;: false, &quot;opacity&quot;: 1, &quot;subdomains&quot;: &quot;abc&quot;, &quot;tms&quot;: false}\n",
       "            ).addTo(map_1bd3c2ee26b22d1d31cd807c333270d5);\n",
       "        \n",
       "    \n",
       "            var layer_control_eee2c5d198af4bff359788f61cb88396 = {\n",
       "                base_layers : {\n",
       "                    &quot;openstreetmap&quot; : tile_layer_8054be9e6d033e7b9768629fa1f82f5f,\n",
       "                },\n",
       "                overlays :  {\n",
       "                    &quot;Mars THEMIS&quot; : tile_layer_5fd8882150691340455e31501cc7cb87,\n",
       "                    &quot;Fault Lines&quot; : tile_layer_5726113f64cabc74437a4c16506d6b62,\n",
       "                    &quot;Regions&quot; : tile_layer_f35c6a7ee5db1825277c98fd6b03025d,\n",
       "                },\n",
       "            };\n",
       "            L.control.layers(\n",
       "                layer_control_eee2c5d198af4bff359788f61cb88396.base_layers,\n",
       "                layer_control_eee2c5d198af4bff359788f61cb88396.overlays,\n",
       "                {&quot;autoZIndex&quot;: true, &quot;collapsed&quot;: true, &quot;position&quot;: &quot;topright&quot;}\n",
       "            ).addTo(map_1bd3c2ee26b22d1d31cd807c333270d5);\n",
       "        \n",
       "&lt;/script&gt;\n",
       "&lt;/html&gt;\" style=\"position:absolute;width:100%;height:100%;left:0;top:0;border:none !important;\" allowfullscreen webkitallowfullscreen mozallowfullscreen></iframe></div></div>"
      ],
      "text/plain": [
       "<folium.folium.Map at 0x7f06544ad0d0>"
      ]
     },
     "execution_count": 46,
     "metadata": {},
     "output_type": "execute_result"
    }
   ],
   "source": [
    "Map = folium.Map()\n",
    "\n",
    "Map.add_ee_layer(\n",
    "    themis_tempe_terra,\n",
    "    {},\n",
    "    \"Mars THEMIS\"\n",
    ")\n",
    "\n",
    "Map.add_ee_layer(\n",
    "    faultlines_raster.updateMask(faultlines_raster.eq(1)),\n",
    "    {\"min\": 0, \"max\": 1},\n",
    "    \"Fault Lines\"\n",
    ")\n",
    "\n",
    "Map.add_ee_layer(\n",
    "    PATCHES,\n",
    "    {},\n",
    "    \"Regions\"\n",
    ")\n",
    "\n",
    "_ = folium.LayerControl().add_to(Map)\n",
    "\n",
    "Map"
   ]
  },
  {
   "cell_type": "code",
   "execution_count": 47,
   "id": "d0a33176-feab-4abf-bb92-cd9c4426d553",
   "metadata": {},
   "outputs": [],
   "source": [
    "# We have set the numPixels to 1000\n",
    "\n",
    "patch_list = PATCHES.toList(PATCHES.size())\n",
    "task_list = []\n",
    "\n",
    "names = [\"train\", \"val\", \"test\"]\n",
    "# Extracts feature from the feature collection, and gets the geom property\n",
    "for geometry_index in range(PATCHES.size().getInfo()):\n",
    "    image_stack_sample = image_stack_neighbours.sample(\n",
    "        region=ee.Feature(patch_list.get(geometry_index)).geometry(),\n",
    "        scale=1000,\n",
    "        numPixels=1000,\n",
    "        seed=123\n",
    "    )\n",
    "\n",
    "    desc = f\"Features and Labels for region: {names[geometry_index]}\"\n",
    "    task = ee.batch.Export.table.toCloudStorage(\n",
    "        collection=image_stack_sample,\n",
    "        description=desc,\n",
    "        bucket=\"esg-satelite-data-warehouse\",\n",
    "        fileNamePrefix=f\"mars/modelling/themis_tempeterra_epsg3857_v1/modelling_data_{names[geometry_index]}\",\n",
    "        fileFormat = \"TFRecord\"\n",
    "    )\n",
    "    task_list.append(task)"
   ]
  },
  {
   "cell_type": "code",
   "execution_count": 48,
   "id": "13065048-b71f-4477-a448-dad49557cb91",
   "metadata": {},
   "outputs": [
    {
     "data": {
      "text/plain": [
       "1000"
      ]
     },
     "execution_count": 48,
     "metadata": {},
     "output_type": "execute_result"
    }
   ],
   "source": [
    "# Check the number of samples received.\n",
    "# It should be\n",
    "image_stack_sample.size().getInfo()"
   ]
  },
  {
   "cell_type": "code",
   "execution_count": 49,
   "id": "8ab3f4fc-0f71-444e-abcb-5861824f49ba",
   "metadata": {},
   "outputs": [],
   "source": [
    "for task in task_list:\n",
    "    task.start()"
   ]
  },
  {
   "cell_type": "code",
   "execution_count": 51,
   "id": "e7f25e03-3c2c-4286-9c39-78980fcc13cf",
   "metadata": {},
   "outputs": [
    {
     "data": {
      "text/plain": [
       "{'state': 'COMPLETED',\n",
       " 'description': 'Features and Labels for region: train',\n",
       " 'creation_timestamp_ms': 1692374375923,\n",
       " 'update_timestamp_ms': 1692374396705,\n",
       " 'start_timestamp_ms': 1692374388630,\n",
       " 'task_type': 'EXPORT_FEATURES',\n",
       " 'destination_uris': ['https://console.developers.google.com/storage/browser/esg-satelite-data-warehouse/mars/modelling/themis_tempeterra_epsg3857_v1/'],\n",
       " 'attempt': 1,\n",
       " 'batch_eecu_usage_seconds': 3.9596548080444336,\n",
       " 'id': 'BMQOI3XGI6KVPWP2FVSHZB2I',\n",
       " 'name': 'projects/earthengine-legacy/operations/BMQOI3XGI6KVPWP2FVSHZB2I'}"
      ]
     },
     "execution_count": 51,
     "metadata": {},
     "output_type": "execute_result"
    }
   ],
   "source": [
    "task_list[0].status()"
   ]
  },
  {
   "cell_type": "code",
   "execution_count": null,
   "id": "fadaf9dd-57ac-4c76-ad50-4f15d5ff8af3",
   "metadata": {},
   "outputs": [],
   "source": []
  }
 ],
 "metadata": {
  "environment": {
   "kernel": "python3",
   "name": "tf2-gpu.2-11.m107",
   "type": "gcloud",
   "uri": "gcr.io/deeplearning-platform-release/tf2-gpu.2-11:m107"
  },
  "kernelspec": {
   "display_name": "Python 3 (ipykernel)",
   "language": "python",
   "name": "python3"
  },
  "language_info": {
   "codemirror_mode": {
    "name": "ipython",
    "version": 3
   },
   "file_extension": ".py",
   "mimetype": "text/x-python",
   "name": "python",
   "nbconvert_exporter": "python",
   "pygments_lexer": "ipython3",
   "version": "3.7.12"
  }
 },
 "nbformat": 4,
 "nbformat_minor": 5
}
