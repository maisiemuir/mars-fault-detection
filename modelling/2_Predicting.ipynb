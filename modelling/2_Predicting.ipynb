{
 "cells": [
  {
   "cell_type": "code",
   "execution_count": 3,
   "id": "fd73e75c-f09a-4f58-ac94-5ebfd5d9be3d",
   "metadata": {},
   "outputs": [],
   "source": [
    "import ee\n",
    "import json\n",
    "import folium\n",
    "import geopandas as gpd\n",
    "import tensorflow as tf\n",
    "import matplotlib.pyplot as plt\n",
    "import numpy as np\n",
    "\n",
    "from tensorflow.keras import metrics"
   ]
  },
  {
   "cell_type": "code",
   "execution_count": 4,
   "id": "8a45b6b2-e0dd-4889-9765-51b2d69d0f08",
   "metadata": {},
   "outputs": [],
   "source": [
    "ee.Initialize()"
   ]
  },
  {
   "cell_type": "markdown",
   "id": "f53e283f-2c70-4f9c-9c37-c7bf69e35a8f",
   "metadata": {},
   "source": [
    "# 1. Get the image we want to make predictions on"
   ]
  },
  {
   "cell_type": "code",
   "execution_count": 5,
   "id": "b126ea05-445c-4c47-bba1-eb7a206db9f0",
   "metadata": {},
   "outputs": [],
   "source": [
    "# Read in the image from EE\n",
    "sample_image = ee.Image(\"projects/esg-satelite/assets/mars/modelling/model_input/test1\")"
   ]
  },
  {
   "cell_type": "markdown",
   "id": "ff7d8fd7-cb5e-4ad5-83f5-fd9c8312097e",
   "metadata": {},
   "source": [
    "# 2. Convert to TensorFlow record"
   ]
  },
  {
   "cell_type": "code",
   "execution_count": 6,
   "id": "af2975e5-1737-47d7-96c9-9435c2b5b91f",
   "metadata": {},
   "outputs": [],
   "source": [
    "KERNEL_SIZE = 128\n",
    "\n",
    "KERNEL_SHAPE = [KERNEL_SIZE, KERNEL_SIZE]\n",
    "KERNEL_BUFFER = [int(KERNEL_SIZE/2), int(KERNEL_SIZE/2)]"
   ]
  },
  {
   "cell_type": "code",
   "execution_count": 7,
   "id": "86985a1e-43ab-4d0d-aeab-ae0b68c9c2c5",
   "metadata": {},
   "outputs": [],
   "source": [
    "# Create \"stack\"\n",
    "image_stack = ee.Image.cat(\n",
    "    [\n",
    "        sample_image\n",
    "    ]\n",
    ")"
   ]
  },
  {
   "cell_type": "code",
   "execution_count": 8,
   "id": "2668f886-6ef1-49ba-9515-01c9dddc2bfd",
   "metadata": {},
   "outputs": [],
   "source": [
    "image_stack = image_stack.float()"
   ]
  },
  {
   "cell_type": "code",
   "execution_count": 9,
   "id": "3e309b29-9a4f-4d1a-9c19-450458a89c8c",
   "metadata": {},
   "outputs": [],
   "source": [
    "task = ee.batch.Export.image.toCloudStorage(\n",
    "    image=image_stack,\n",
    "    description=\"TensorFlow record of sample area of THEMIS Tempe Terra.\",\n",
    "    bucket=\"esg-satelite-data-warehouse\",\n",
    "    fileNamePrefix=f\"mars/predictions/features/themis_sample_1/themis_sample_1\",\n",
    "    fileFormat = \"TFRecord\",\n",
    "    region = ee.Feature(sample_image.geometry()).geometry(),\n",
    "    scale = 500,\n",
    "    formatOptions = {\n",
    "      'patchDimensions': KERNEL_SHAPE,\n",
    "      'kernelSize': KERNEL_BUFFER,\n",
    "      'compressed': True,\n",
    "    }\n",
    ")"
   ]
  },
  {
   "cell_type": "code",
   "execution_count": 10,
   "id": "9f32de89-e5f6-4c20-a725-4ef8ce46c831",
   "metadata": {},
   "outputs": [],
   "source": [
    "task.start()"
   ]
  },
  {
   "cell_type": "code",
   "execution_count": 11,
   "id": "411444a4-01e1-4f9d-889d-f0724299857d",
   "metadata": {},
   "outputs": [
    {
     "data": {
      "text/plain": [
       "{'state': 'READY',\n",
       " 'description': 'TensorFlow record of sample area of THEMIS Tempe Terra.',\n",
       " 'creation_timestamp_ms': 1697572624562,\n",
       " 'update_timestamp_ms': 1697572624562,\n",
       " 'start_timestamp_ms': 0,\n",
       " 'task_type': 'EXPORT_IMAGE',\n",
       " 'id': 'TLUQURVR47J2ACQR467Q2IDC',\n",
       " 'name': 'projects/earthengine-legacy/operations/TLUQURVR47J2ACQR467Q2IDC'}"
      ]
     },
     "execution_count": 11,
     "metadata": {},
     "output_type": "execute_result"
    }
   ],
   "source": [
    "task.status()"
   ]
  },
  {
   "cell_type": "markdown",
   "id": "d1ff22bd-329c-48a3-b207-bb8fd5fc799f",
   "metadata": {},
   "source": [
    "## 2.1. Plot on Folium"
   ]
  },
  {
   "cell_type": "code",
   "execution_count": 12,
   "id": "85bd6d48-679f-412f-a663-30617548f7cc",
   "metadata": {},
   "outputs": [],
   "source": [
    "# Creating add_ee_layer function\n",
    "# This allows us to visualise EE objects on a Folium map\n",
    "def add_ee_layer(self, ee_image_object, vis_params, name):\n",
    "    map_id_dict = ee_image_object.getMapId(vis_params)\n",
    "    folium.raster_layers.TileLayer(\n",
    "        tiles = map_id_dict['tile_fetcher'].url_format,\n",
    "        attr = 'Map Data &copy; <a href=\"https://earthengine.google.com/\">Google Earth Engine</a>',\n",
    "        name = name,\n",
    "        overlay = True,\n",
    "        control = True\n",
    "    ).add_to(self)\n",
    "\n",
    "folium.Map.add_ee_layer = add_ee_layer"
   ]
  },
  {
   "cell_type": "code",
   "execution_count": 13,
   "id": "c739d626-248c-4e12-b56b-72078285165f",
   "metadata": {},
   "outputs": [],
   "source": [
    "Map = folium.Map() \n",
    "\n",
    "Map.add_ee_layer(\n",
    "    sample_image,\n",
    "    {},\n",
    "    \"Tempe Terra\"\n",
    ")\n",
    "\n",
    "Map.add_ee_layer(\n",
    "    ee.FeatureCollection(sample_image.geometry()),\n",
    "    {\"color\": \"red\"},\n",
    "    \"Geometry\"\n",
    ")\n",
    "\n",
    "_ = folium.LayerControl().add_to(Map)\n"
   ]
  },
  {
   "cell_type": "code",
   "execution_count": 14,
   "id": "0e9c3a32-c8d1-45ae-b817-11b9cb1855d5",
   "metadata": {},
   "outputs": [
    {
     "data": {
      "text/html": [
       "<div style=\"width:100%;\"><div style=\"position:relative;width:100%;height:0;padding-bottom:60%;\"><span style=\"color:#565656\">Make this Notebook Trusted to load map: File -> Trust Notebook</span><iframe srcdoc=\"&lt;!DOCTYPE html&gt;\n",
       "&lt;html&gt;\n",
       "&lt;head&gt;\n",
       "    \n",
       "    &lt;meta http-equiv=&quot;content-type&quot; content=&quot;text/html; charset=UTF-8&quot; /&gt;\n",
       "    \n",
       "        &lt;script&gt;\n",
       "            L_NO_TOUCH = false;\n",
       "            L_DISABLE_3D = false;\n",
       "        &lt;/script&gt;\n",
       "    \n",
       "    &lt;style&gt;html, body {width: 100%;height: 100%;margin: 0;padding: 0;}&lt;/style&gt;\n",
       "    &lt;style&gt;#map {position:absolute;top:0;bottom:0;right:0;left:0;}&lt;/style&gt;\n",
       "    &lt;script src=&quot;https://cdn.jsdelivr.net/npm/leaflet@1.9.3/dist/leaflet.js&quot;&gt;&lt;/script&gt;\n",
       "    &lt;script src=&quot;https://code.jquery.com/jquery-1.12.4.min.js&quot;&gt;&lt;/script&gt;\n",
       "    &lt;script src=&quot;https://cdn.jsdelivr.net/npm/bootstrap@5.2.2/dist/js/bootstrap.bundle.min.js&quot;&gt;&lt;/script&gt;\n",
       "    &lt;script src=&quot;https://cdnjs.cloudflare.com/ajax/libs/Leaflet.awesome-markers/2.0.2/leaflet.awesome-markers.js&quot;&gt;&lt;/script&gt;\n",
       "    &lt;link rel=&quot;stylesheet&quot; href=&quot;https://cdn.jsdelivr.net/npm/leaflet@1.9.3/dist/leaflet.css&quot;/&gt;\n",
       "    &lt;link rel=&quot;stylesheet&quot; href=&quot;https://cdn.jsdelivr.net/npm/bootstrap@5.2.2/dist/css/bootstrap.min.css&quot;/&gt;\n",
       "    &lt;link rel=&quot;stylesheet&quot; href=&quot;https://netdna.bootstrapcdn.com/bootstrap/3.0.0/css/bootstrap.min.css&quot;/&gt;\n",
       "    &lt;link rel=&quot;stylesheet&quot; href=&quot;https://cdn.jsdelivr.net/npm/@fortawesome/fontawesome-free@6.2.0/css/all.min.css&quot;/&gt;\n",
       "    &lt;link rel=&quot;stylesheet&quot; href=&quot;https://cdnjs.cloudflare.com/ajax/libs/Leaflet.awesome-markers/2.0.2/leaflet.awesome-markers.css&quot;/&gt;\n",
       "    &lt;link rel=&quot;stylesheet&quot; href=&quot;https://cdn.jsdelivr.net/gh/python-visualization/folium/folium/templates/leaflet.awesome.rotate.min.css&quot;/&gt;\n",
       "    \n",
       "            &lt;meta name=&quot;viewport&quot; content=&quot;width=device-width,\n",
       "                initial-scale=1.0, maximum-scale=1.0, user-scalable=no&quot; /&gt;\n",
       "            &lt;style&gt;\n",
       "                #map_2be92b117020d67ad8628f3d7370639e {\n",
       "                    position: relative;\n",
       "                    width: 100.0%;\n",
       "                    height: 100.0%;\n",
       "                    left: 0.0%;\n",
       "                    top: 0.0%;\n",
       "                }\n",
       "                .leaflet-container { font-size: 1rem; }\n",
       "            &lt;/style&gt;\n",
       "        \n",
       "&lt;/head&gt;\n",
       "&lt;body&gt;\n",
       "    \n",
       "    \n",
       "            &lt;div class=&quot;folium-map&quot; id=&quot;map_2be92b117020d67ad8628f3d7370639e&quot; &gt;&lt;/div&gt;\n",
       "        \n",
       "&lt;/body&gt;\n",
       "&lt;script&gt;\n",
       "    \n",
       "    \n",
       "            var map_2be92b117020d67ad8628f3d7370639e = L.map(\n",
       "                &quot;map_2be92b117020d67ad8628f3d7370639e&quot;,\n",
       "                {\n",
       "                    center: [0, 0],\n",
       "                    crs: L.CRS.EPSG3857,\n",
       "                    zoom: 1,\n",
       "                    zoomControl: true,\n",
       "                    preferCanvas: false,\n",
       "                }\n",
       "            );\n",
       "\n",
       "            \n",
       "\n",
       "        \n",
       "    \n",
       "            var tile_layer_d14618c0312a5e9fc11ea1e549e6013d = L.tileLayer(\n",
       "                &quot;https://{s}.tile.openstreetmap.org/{z}/{x}/{y}.png&quot;,\n",
       "                {&quot;attribution&quot;: &quot;Data by \\u0026copy; \\u003ca target=\\&quot;_blank\\&quot; href=\\&quot;http://openstreetmap.org\\&quot;\\u003eOpenStreetMap\\u003c/a\\u003e, under \\u003ca target=\\&quot;_blank\\&quot; href=\\&quot;http://www.openstreetmap.org/copyright\\&quot;\\u003eODbL\\u003c/a\\u003e.&quot;, &quot;detectRetina&quot;: false, &quot;maxNativeZoom&quot;: 18, &quot;maxZoom&quot;: 18, &quot;minZoom&quot;: 0, &quot;noWrap&quot;: false, &quot;opacity&quot;: 1, &quot;subdomains&quot;: &quot;abc&quot;, &quot;tms&quot;: false}\n",
       "            ).addTo(map_2be92b117020d67ad8628f3d7370639e);\n",
       "        \n",
       "    \n",
       "            var tile_layer_6fc75da67d959806ccd38f41b44ca42f = L.tileLayer(\n",
       "                &quot;https://earthengine.googleapis.com/v1/projects/earthengine-legacy/maps/72a24756d12a6e92e7e82b2c2d6d7918-48da7ab1ed3110188570f27a673678a6/tiles/{z}/{x}/{y}&quot;,\n",
       "                {&quot;attribution&quot;: &quot;Map Data \\u0026copy; \\u003ca href=\\&quot;https://earthengine.google.com/\\&quot;\\u003eGoogle Earth Engine\\u003c/a\\u003e&quot;, &quot;detectRetina&quot;: false, &quot;maxNativeZoom&quot;: 18, &quot;maxZoom&quot;: 18, &quot;minZoom&quot;: 0, &quot;noWrap&quot;: false, &quot;opacity&quot;: 1, &quot;subdomains&quot;: &quot;abc&quot;, &quot;tms&quot;: false}\n",
       "            ).addTo(map_2be92b117020d67ad8628f3d7370639e);\n",
       "        \n",
       "    \n",
       "            var tile_layer_c1dd75332bdc29ac863ce7d0480da680 = L.tileLayer(\n",
       "                &quot;https://earthengine.googleapis.com/v1/projects/earthengine-legacy/maps/514ff676e2d948fd68d4d08e521632c2-84e0da89bf427016758f680043e69a64/tiles/{z}/{x}/{y}&quot;,\n",
       "                {&quot;attribution&quot;: &quot;Map Data \\u0026copy; \\u003ca href=\\&quot;https://earthengine.google.com/\\&quot;\\u003eGoogle Earth Engine\\u003c/a\\u003e&quot;, &quot;detectRetina&quot;: false, &quot;maxNativeZoom&quot;: 18, &quot;maxZoom&quot;: 18, &quot;minZoom&quot;: 0, &quot;noWrap&quot;: false, &quot;opacity&quot;: 1, &quot;subdomains&quot;: &quot;abc&quot;, &quot;tms&quot;: false}\n",
       "            ).addTo(map_2be92b117020d67ad8628f3d7370639e);\n",
       "        \n",
       "    \n",
       "            var layer_control_95e220610e37353e7f971ee8470be492 = {\n",
       "                base_layers : {\n",
       "                    &quot;openstreetmap&quot; : tile_layer_d14618c0312a5e9fc11ea1e549e6013d,\n",
       "                },\n",
       "                overlays :  {\n",
       "                    &quot;Tempe Terra&quot; : tile_layer_6fc75da67d959806ccd38f41b44ca42f,\n",
       "                    &quot;Geometry&quot; : tile_layer_c1dd75332bdc29ac863ce7d0480da680,\n",
       "                },\n",
       "            };\n",
       "            L.control.layers(\n",
       "                layer_control_95e220610e37353e7f971ee8470be492.base_layers,\n",
       "                layer_control_95e220610e37353e7f971ee8470be492.overlays,\n",
       "                {&quot;autoZIndex&quot;: true, &quot;collapsed&quot;: true, &quot;position&quot;: &quot;topright&quot;}\n",
       "            ).addTo(map_2be92b117020d67ad8628f3d7370639e);\n",
       "        \n",
       "&lt;/script&gt;\n",
       "&lt;/html&gt;\" style=\"position:absolute;width:100%;height:100%;left:0;top:0;border:none !important;\" allowfullscreen webkitallowfullscreen mozallowfullscreen></iframe></div></div>"
      ],
      "text/plain": [
       "<folium.folium.Map at 0x7f7b30da69e0>"
      ]
     },
     "execution_count": 14,
     "metadata": {},
     "output_type": "execute_result"
    }
   ],
   "source": [
    "Map"
   ]
  },
  {
   "cell_type": "markdown",
   "id": "e5aeee34-990a-444b-9873-8699f0a039e8",
   "metadata": {},
   "source": [
    "# 3. Make prediction "
   ]
  },
  {
   "cell_type": "code",
   "execution_count": 15,
   "id": "969b1f9f-f02f-4828-854a-1395cc04436c",
   "metadata": {},
   "outputs": [],
   "source": [
    "OUTPUT_FOLDER = \"gs://esg-satelite-data-warehouse/mars/predictions/features/themis_sample_1\""
   ]
  },
  {
   "cell_type": "code",
   "execution_count": 16,
   "id": "46e46504-aa47-4ae3-9400-869ad6e73d42",
   "metadata": {},
   "outputs": [],
   "source": [
    "BANDS = [\"b1\"]"
   ]
  },
  {
   "cell_type": "code",
   "execution_count": null,
   "id": "3cf79acf-449d-48ee-82f1-b4ce02e57ed3",
   "metadata": {},
   "outputs": [],
   "source": [
    "exportFilesList = !gsutil ls {OUTPUT_FOLDER}\n",
    "\n",
    "imageFilesList = []\n",
    "jsonFile = None\n",
    "for f in exportFilesList:\n",
    "    if f.endswith('.tfrecord.gz'):\n",
    "        imageFilesList.append(f)\n",
    "    elif f.endswith('.json'):\n",
    "        jsonFile = f\n",
    "\n",
    "imageFilesList.sort()\n",
    "\n",
    "jsonText = !gsutil cat {jsonFile}\n",
    "mixer = json.loads(jsonText.nlstr)\n",
    "patches = mixer['totalPatches']\n",
    "\n",
    "# x_buffer = int(KERNEL_BUFFER[0] / 2)\n",
    "# y_buffer = int(KERNEL_BUFFER[1] / 2)\n",
    "\n",
    "buffered_shape = [\n",
    "    KERNEL_SHAPE[0] + KERNEL_BUFFER[0],\n",
    "    KERNEL_SHAPE[1] + KERNEL_BUFFER[1]\n",
    "]\n",
    "\n",
    "imageColumns = [\n",
    "    tf.io.FixedLenFeature(shape=buffered_shape, dtype=tf.float32) \n",
    "    for k in BANDS\n",
    "]\n",
    "\n",
    "imageFeaturesDict = dict(zip(BANDS, imageColumns))\n",
    "\n",
    "def parse_image(example_proto):\n",
    "    return tf.io.parse_single_example(example_proto, imageFeaturesDict)\n",
    "\n",
    "def toTupleImage(inputs):\n",
    "    inputsList = [inputs.get(key) for key in BANDS]\n",
    "    stacked = tf.stack(inputsList, axis=0)\n",
    "    stacked = tf.transpose(stacked, [1, 2, 0])\n",
    "    return stacked\n",
    "\n",
    "imageDataset = tf.data.TFRecordDataset(imageFilesList, compression_type='GZIP')\n",
    "imageDataset = imageDataset.map(parse_image, num_parallel_calls=5)\n",
    "imageDataset = imageDataset.map(toTupleImage).batch(1)"
   ]
  },
  {
   "cell_type": "code",
   "execution_count": 1,
   "id": "cb980547-f14b-4aa1-ba77-80f9323bdd55",
   "metadata": {},
   "outputs": [
    {
     "ename": "NameError",
     "evalue": "name 'tf' is not defined",
     "output_type": "error",
     "traceback": [
      "\u001b[0;31m---------------------------------------------------------------------------\u001b[0m",
      "\u001b[0;31mNameError\u001b[0m                                 Traceback (most recent call last)",
      "Cell \u001b[0;32mIn[1], line 1\u001b[0m\n\u001b[0;32m----> 1\u001b[0m model \u001b[38;5;241m=\u001b[39m \u001b[43mtf\u001b[49m\u001b[38;5;241m.\u001b[39mkeras\u001b[38;5;241m.\u001b[39mmodels\u001b[38;5;241m.\u001b[39mload_model(\u001b[38;5;124m\"\u001b[39m\u001b[38;5;124mgs://esg-satelite-data-warehouse/mars/models/sample_model_1\u001b[39m\u001b[38;5;124m\"\u001b[39m)\n",
      "\u001b[0;31mNameError\u001b[0m: name 'tf' is not defined"
     ]
    }
   ],
   "source": [
    "model = tf.keras.models.load_model(\"gs://esg-satelite-data-warehouse/mars/models/sample_model_1\")"
   ]
  },
  {
   "cell_type": "code",
   "execution_count": 2,
   "id": "5dfcfe3a-3507-4242-ae10-783657322b06",
   "metadata": {},
   "outputs": [],
   "source": [
    "def plot_results(x_train, x_pred_prob, x_pred_binary, title):\n",
    "    fig, axs = plt.subplots(1, 3)\n",
    "    \n",
    "    axs[0].imshow(x_train)\n",
    "    _ = axs[0].axis('off')\n",
    "    _ = axs[0].set_title('Real Image') \n",
    "    \n",
    "    axs[1].imshow(x_pred_prob)\n",
    "    _ = axs[1].axis('off')\n",
    "    _ = axs[1].set_title('Predicted Fault (prob)')\n",
    "    \n",
    "    axs[2].imshow(x_pred_binary)\n",
    "    _ = axs[2].axis('off')\n",
    "    _ = axs[2].set_title('Predicted Fault (bin)')\n",
    "    \n",
    "    plt.suptitle(title)\n",
    "    \n",
    "def get_model_results(model, data, n_images = 1, thresh = 0.5):\n",
    "    \n",
    "    # NOTE: Make sure \"reshuffle_each_iteration = False\" in data.shuffle(...)\n",
    "    for i in range(n_images):\n",
    "        # Get data\n",
    "        x_train = np.expand_dims(np.concatenate([x for x in data], axis=0)[i], axis=0)\n",
    "        # Get predictions\n",
    "        x_pred_prob = model.predict(x_train)\n",
    "        x_pred_binary = (x_pred_prob > thresh)*1\n",
    "        \n",
    "        plot_results(x_train[:,:,:,:1].squeeze(), x_pred_prob[0], x_pred_binary[0], title = f\"IOU: N/A\") "
   ]
  },
  {
   "cell_type": "code",
   "execution_count": null,
   "id": "dfab14e5-1acc-4e96-9290-c81d9d0f06ec",
   "metadata": {},
   "outputs": [],
   "source": [
    "get_model_results(model, imageDataset)"
   ]
  }
 ],
 "metadata": {
  "environment": {
   "kernel": "python3",
   "name": "tf2-gpu.2-11.m111",
   "type": "gcloud",
   "uri": "gcr.io/deeplearning-platform-release/tf2-gpu.2-11:m111"
  },
  "kernelspec": {
   "display_name": "Python 3",
   "language": "python",
   "name": "python3"
  },
  "language_info": {
   "codemirror_mode": {
    "name": "ipython",
    "version": 3
   },
   "file_extension": ".py",
   "mimetype": "text/x-python",
   "name": "python",
   "nbconvert_exporter": "python",
   "pygments_lexer": "ipython3",
   "version": "3.10.12"
  }
 },
 "nbformat": 4,
 "nbformat_minor": 5
}
