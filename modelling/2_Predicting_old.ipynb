{
 "cells": [
  {
   "cell_type": "markdown",
   "id": "900ba43f-2c2a-43a8-803a-1c4d40260276",
   "metadata": {},
   "source": [
    "Reference: (\"Prediction\") https://github.com/google/earthengine-community/blob/master/guides/linked/UNET_regression_demo.ipynb"
   ]
  },
  {
   "cell_type": "code",
   "execution_count": 30,
   "id": "0d7510b9-ce8d-47a1-b9b4-195cdaa8b60c",
   "metadata": {},
   "outputs": [],
   "source": [
    "import ee\n",
    "import folium\n",
    "import geopandas as gpd\n",
    "import tensorflow as tf\n",
    "import numpy as np"
   ]
  },
  {
   "cell_type": "code",
   "execution_count": 2,
   "id": "74bf97bf-39d5-4a01-97ec-00c08aa66ed3",
   "metadata": {},
   "outputs": [],
   "source": [
    "ee.Initialize()"
   ]
  },
  {
   "cell_type": "markdown",
   "id": "3cfc1012-fd2b-4922-8873-ff407d1aa04b",
   "metadata": {},
   "source": [
    "# 1. Convert the sample image to a TensorFlow record"
   ]
  },
  {
   "cell_type": "code",
   "execution_count": 257,
   "id": "1cd716b2-9d7b-4bc9-9229-301af79f16c7",
   "metadata": {},
   "outputs": [],
   "source": [
    "# Read in the image from EE\n",
    "sample_image = ee.Image(\"projects/esg-satelite/assets/mars/modelling/model_input/test1\")"
   ]
  },
  {
   "cell_type": "code",
   "execution_count": 258,
   "id": "aa9c8c2c-2d12-45b5-b813-b9355c7c396e",
   "metadata": {},
   "outputs": [],
   "source": [
    "# Create \"stack\"\n",
    "image_stack = ee.Image.cat(\n",
    "    [\n",
    "        sample_image\n",
    "    ]\n",
    ")"
   ]
  },
  {
   "cell_type": "code",
   "execution_count": 259,
   "id": "af6950db-b107-43ee-a6ff-2e7536797632",
   "metadata": {},
   "outputs": [],
   "source": [
    "image_stack = image_stack.float()"
   ]
  },
  {
   "cell_type": "code",
   "execution_count": 260,
   "id": "c91664d6-1233-46c6-949f-646362bef150",
   "metadata": {},
   "outputs": [],
   "source": [
    "task = ee.batch.Export.image.toCloudStorage(\n",
    "    image=image_stack,\n",
    "    description=\"TensorFlow record of sample area of THEMIS Tempe Terra.\",\n",
    "    bucket=\"esg-satelite-data-warehouse\",\n",
    "    fileNamePrefix=f\"mars/predictions/features/themis_sample_1/themis_sample_1\",\n",
    "    fileFormat = \"TFRecord\",\n",
    "    region = ee.Feature(sample_image.geometry()).geometry(),\n",
    "    scale = 500,\n",
    "    formatOptions = {\n",
    "        \"patchDimensions\": [256,256],\n",
    "        \"maxFileSize\": 104857600,\n",
    "        \"compressed\": True,\n",
    "    }\n",
    ")"
   ]
  },
  {
   "cell_type": "code",
   "execution_count": 261,
   "id": "3c1593f3-ab59-4380-a975-17ac070c4f6e",
   "metadata": {},
   "outputs": [],
   "source": [
    "task.start()"
   ]
  },
  {
   "cell_type": "code",
   "execution_count": 263,
   "id": "bc960455-3218-40a7-a6c8-947b3252b8fe",
   "metadata": {},
   "outputs": [
    {
     "data": {
      "text/plain": [
       "{'state': 'COMPLETED',\n",
       " 'description': 'TensorFlow record of sample area of THEMIS Tempe Terra.',\n",
       " 'creation_timestamp_ms': 1696867150652,\n",
       " 'update_timestamp_ms': 1696867170117,\n",
       " 'start_timestamp_ms': 1696867160634,\n",
       " 'task_type': 'EXPORT_IMAGE',\n",
       " 'destination_uris': ['https://console.developers.google.com/storage/browser/esg-satelite-data-warehouse/mars/predictions/features/themis_sample_1/'],\n",
       " 'attempt': 1,\n",
       " 'batch_eecu_usage_seconds': 0.14684510231018066,\n",
       " 'id': '6AWUB4BOZIRNNTZMT2CIFW3G',\n",
       " 'name': 'projects/earthengine-legacy/operations/6AWUB4BOZIRNNTZMT2CIFW3G'}"
      ]
     },
     "execution_count": 263,
     "metadata": {},
     "output_type": "execute_result"
    }
   ],
   "source": [
    "task.status()"
   ]
  },
  {
   "cell_type": "markdown",
   "id": "e27e051a-ebcc-403e-8457-dd5541f198f4",
   "metadata": {},
   "source": [
    "## 1.1. Plotting on Folium"
   ]
  },
  {
   "cell_type": "code",
   "execution_count": 51,
   "id": "2121b7cc-6c40-4a76-ac78-c3d5b5a59cfa",
   "metadata": {},
   "outputs": [
    {
     "data": {
      "text/html": [
       "\n",
       "            <style>\n",
       "                .geemap-dark {\n",
       "                    --jp-widgets-color: white;\n",
       "                    --jp-widgets-label-color: white;\n",
       "                    --jp-ui-font-color1: white;\n",
       "                    --jp-layout-color2: #454545;\n",
       "                    background-color: #383838;\n",
       "                }\n",
       "                    \n",
       "                .geemap-dark .jupyter-button {\n",
       "                    --jp-layout-color3: #383838;\n",
       "                }\n",
       "                \n",
       "                .geemap-colab {\n",
       "                    background-color: var(--colab-primary-surface-color, white);\n",
       "                }\n",
       "                    \n",
       "                .geemap-colab .jupyter-button {\n",
       "                    --jp-layout-color3: var(--colab-primary-surface-color, white);\n",
       "                }\n",
       "            </style>\n",
       "            "
      ],
      "text/plain": [
       "<IPython.core.display.HTML object>"
      ]
     },
     "metadata": {},
     "output_type": "display_data"
    }
   ],
   "source": [
    "# Creating add_ee_layer function\n",
    "# This allows us to visualise EE objects on a Folium map\n",
    "def add_ee_layer(self, ee_image_object, vis_params, name):\n",
    "    map_id_dict = ee_image_object.getMapId(vis_params)\n",
    "    folium.raster_layers.TileLayer(\n",
    "        tiles = map_id_dict['tile_fetcher'].url_format,\n",
    "        attr = 'Map Data &copy; <a href=\"https://earthengine.google.com/\">Google Earth Engine</a>',\n",
    "        name = name,\n",
    "        overlay = True,\n",
    "        control = True\n",
    "    ).add_to(self)\n",
    "\n",
    "folium.Map.add_ee_layer = add_ee_layer"
   ]
  },
  {
   "cell_type": "code",
   "execution_count": 18,
   "id": "7b92787b-cb18-420f-8210-5adf79619e51",
   "metadata": {},
   "outputs": [
    {
     "data": {
      "text/html": [
       "\n",
       "            <style>\n",
       "                .geemap-dark {\n",
       "                    --jp-widgets-color: white;\n",
       "                    --jp-widgets-label-color: white;\n",
       "                    --jp-ui-font-color1: white;\n",
       "                    --jp-layout-color2: #454545;\n",
       "                    background-color: #383838;\n",
       "                }\n",
       "                    \n",
       "                .geemap-dark .jupyter-button {\n",
       "                    --jp-layout-color3: #383838;\n",
       "                }\n",
       "                \n",
       "                .geemap-colab {\n",
       "                    background-color: var(--colab-primary-surface-color, white);\n",
       "                }\n",
       "                    \n",
       "                .geemap-colab .jupyter-button {\n",
       "                    --jp-layout-color3: var(--colab-primary-surface-color, white);\n",
       "                }\n",
       "            </style>\n",
       "            "
      ],
      "text/plain": [
       "<IPython.core.display.HTML object>"
      ]
     },
     "metadata": {},
     "output_type": "display_data"
    }
   ],
   "source": [
    "Map = folium.Map() \n",
    "\n",
    "Map.add_ee_layer(\n",
    "    sample_image,\n",
    "    {},\n",
    "    \"Tempe Terra\"\n",
    ")\n",
    "\n",
    "Map.add_ee_layer(\n",
    "    ee.FeatureCollection(sample_image.geometry()),\n",
    "    {\"color\": \"red\"},\n",
    "    \"Geometry\"\n",
    ")\n",
    "\n",
    "_ = folium.LayerControl().add_to(Map)\n"
   ]
  },
  {
   "cell_type": "code",
   "execution_count": 19,
   "id": "b3d45c8a-b3a7-4f30-8cfd-dd0bbaef53d7",
   "metadata": {},
   "outputs": [
    {
     "data": {
      "text/html": [
       "\n",
       "            <style>\n",
       "                .geemap-dark {\n",
       "                    --jp-widgets-color: white;\n",
       "                    --jp-widgets-label-color: white;\n",
       "                    --jp-ui-font-color1: white;\n",
       "                    --jp-layout-color2: #454545;\n",
       "                    background-color: #383838;\n",
       "                }\n",
       "                    \n",
       "                .geemap-dark .jupyter-button {\n",
       "                    --jp-layout-color3: #383838;\n",
       "                }\n",
       "                \n",
       "                .geemap-colab {\n",
       "                    background-color: var(--colab-primary-surface-color, white);\n",
       "                }\n",
       "                    \n",
       "                .geemap-colab .jupyter-button {\n",
       "                    --jp-layout-color3: var(--colab-primary-surface-color, white);\n",
       "                }\n",
       "            </style>\n",
       "            "
      ],
      "text/plain": [
       "<IPython.core.display.HTML object>"
      ]
     },
     "metadata": {},
     "output_type": "display_data"
    },
    {
     "data": {
      "text/html": [
       "<div style=\"width:100%;\"><div style=\"position:relative;width:100%;height:0;padding-bottom:60%;\"><span style=\"color:#565656\">Make this Notebook Trusted to load map: File -> Trust Notebook</span><iframe srcdoc=\"&lt;!DOCTYPE html&gt;\n",
       "&lt;html&gt;\n",
       "&lt;head&gt;\n",
       "    \n",
       "    &lt;meta http-equiv=&quot;content-type&quot; content=&quot;text/html; charset=UTF-8&quot; /&gt;\n",
       "    \n",
       "        &lt;script&gt;\n",
       "            L_NO_TOUCH = false;\n",
       "            L_DISABLE_3D = false;\n",
       "        &lt;/script&gt;\n",
       "    \n",
       "    &lt;style&gt;html, body {width: 100%;height: 100%;margin: 0;padding: 0;}&lt;/style&gt;\n",
       "    &lt;style&gt;#map {position:absolute;top:0;bottom:0;right:0;left:0;}&lt;/style&gt;\n",
       "    &lt;script src=&quot;https://cdn.jsdelivr.net/npm/leaflet@1.9.3/dist/leaflet.js&quot;&gt;&lt;/script&gt;\n",
       "    &lt;script src=&quot;https://code.jquery.com/jquery-1.12.4.min.js&quot;&gt;&lt;/script&gt;\n",
       "    &lt;script src=&quot;https://cdn.jsdelivr.net/npm/bootstrap@5.2.2/dist/js/bootstrap.bundle.min.js&quot;&gt;&lt;/script&gt;\n",
       "    &lt;script src=&quot;https://cdnjs.cloudflare.com/ajax/libs/Leaflet.awesome-markers/2.0.2/leaflet.awesome-markers.js&quot;&gt;&lt;/script&gt;\n",
       "    &lt;link rel=&quot;stylesheet&quot; href=&quot;https://cdn.jsdelivr.net/npm/leaflet@1.9.3/dist/leaflet.css&quot;/&gt;\n",
       "    &lt;link rel=&quot;stylesheet&quot; href=&quot;https://cdn.jsdelivr.net/npm/bootstrap@5.2.2/dist/css/bootstrap.min.css&quot;/&gt;\n",
       "    &lt;link rel=&quot;stylesheet&quot; href=&quot;https://netdna.bootstrapcdn.com/bootstrap/3.0.0/css/bootstrap.min.css&quot;/&gt;\n",
       "    &lt;link rel=&quot;stylesheet&quot; href=&quot;https://cdn.jsdelivr.net/npm/@fortawesome/fontawesome-free@6.2.0/css/all.min.css&quot;/&gt;\n",
       "    &lt;link rel=&quot;stylesheet&quot; href=&quot;https://cdnjs.cloudflare.com/ajax/libs/Leaflet.awesome-markers/2.0.2/leaflet.awesome-markers.css&quot;/&gt;\n",
       "    &lt;link rel=&quot;stylesheet&quot; href=&quot;https://cdn.jsdelivr.net/gh/python-visualization/folium/folium/templates/leaflet.awesome.rotate.min.css&quot;/&gt;\n",
       "    \n",
       "            &lt;meta name=&quot;viewport&quot; content=&quot;width=device-width,\n",
       "                initial-scale=1.0, maximum-scale=1.0, user-scalable=no&quot; /&gt;\n",
       "            &lt;style&gt;\n",
       "                #map_2e0734dd0b1be33d2141fcdedb19ab3a {\n",
       "                    position: relative;\n",
       "                    width: 100.0%;\n",
       "                    height: 100.0%;\n",
       "                    left: 0.0%;\n",
       "                    top: 0.0%;\n",
       "                }\n",
       "                .leaflet-container { font-size: 1rem; }\n",
       "            &lt;/style&gt;\n",
       "        \n",
       "&lt;/head&gt;\n",
       "&lt;body&gt;\n",
       "    \n",
       "    \n",
       "            &lt;div class=&quot;folium-map&quot; id=&quot;map_2e0734dd0b1be33d2141fcdedb19ab3a&quot; &gt;&lt;/div&gt;\n",
       "        \n",
       "&lt;/body&gt;\n",
       "&lt;script&gt;\n",
       "    \n",
       "    \n",
       "            var map_2e0734dd0b1be33d2141fcdedb19ab3a = L.map(\n",
       "                &quot;map_2e0734dd0b1be33d2141fcdedb19ab3a&quot;,\n",
       "                {\n",
       "                    center: [0, 0],\n",
       "                    crs: L.CRS.EPSG3857,\n",
       "                    zoom: 1,\n",
       "                    zoomControl: true,\n",
       "                    preferCanvas: false,\n",
       "                }\n",
       "            );\n",
       "\n",
       "            \n",
       "\n",
       "        \n",
       "    \n",
       "            var tile_layer_0d86c7caa9c1428b0ebcb8162276d2b8 = L.tileLayer(\n",
       "                &quot;https://{s}.tile.openstreetmap.org/{z}/{x}/{y}.png&quot;,\n",
       "                {&quot;attribution&quot;: &quot;Data by \\u0026copy; \\u003ca target=\\&quot;_blank\\&quot; href=\\&quot;http://openstreetmap.org\\&quot;\\u003eOpenStreetMap\\u003c/a\\u003e, under \\u003ca target=\\&quot;_blank\\&quot; href=\\&quot;http://www.openstreetmap.org/copyright\\&quot;\\u003eODbL\\u003c/a\\u003e.&quot;, &quot;detectRetina&quot;: false, &quot;maxNativeZoom&quot;: 18, &quot;maxZoom&quot;: 18, &quot;minZoom&quot;: 0, &quot;noWrap&quot;: false, &quot;opacity&quot;: 1, &quot;subdomains&quot;: &quot;abc&quot;, &quot;tms&quot;: false}\n",
       "            ).addTo(map_2e0734dd0b1be33d2141fcdedb19ab3a);\n",
       "        \n",
       "    \n",
       "            var tile_layer_7637d3c8ec7ffa53a8953ab8931c3412 = L.tileLayer(\n",
       "                &quot;https://earthengine.googleapis.com/v1/projects/earthengine-legacy/maps/72a24756d12a6e92e7e82b2c2d6d7918-a4429abcb4339c1721866c0a21c305b7/tiles/{z}/{x}/{y}&quot;,\n",
       "                {&quot;attribution&quot;: &quot;Map Data \\u0026copy; \\u003ca href=\\&quot;https://earthengine.google.com/\\&quot;\\u003eGoogle Earth Engine\\u003c/a\\u003e&quot;, &quot;detectRetina&quot;: false, &quot;maxNativeZoom&quot;: 18, &quot;maxZoom&quot;: 18, &quot;minZoom&quot;: 0, &quot;noWrap&quot;: false, &quot;opacity&quot;: 1, &quot;subdomains&quot;: &quot;abc&quot;, &quot;tms&quot;: false}\n",
       "            ).addTo(map_2e0734dd0b1be33d2141fcdedb19ab3a);\n",
       "        \n",
       "    \n",
       "            var tile_layer_878017ba05752ca94cf8d3ec132693e5 = L.tileLayer(\n",
       "                &quot;https://earthengine.googleapis.com/v1/projects/earthengine-legacy/maps/514ff676e2d948fd68d4d08e521632c2-53477860c895c570e2e07e54ea2d4f5f/tiles/{z}/{x}/{y}&quot;,\n",
       "                {&quot;attribution&quot;: &quot;Map Data \\u0026copy; \\u003ca href=\\&quot;https://earthengine.google.com/\\&quot;\\u003eGoogle Earth Engine\\u003c/a\\u003e&quot;, &quot;detectRetina&quot;: false, &quot;maxNativeZoom&quot;: 18, &quot;maxZoom&quot;: 18, &quot;minZoom&quot;: 0, &quot;noWrap&quot;: false, &quot;opacity&quot;: 1, &quot;subdomains&quot;: &quot;abc&quot;, &quot;tms&quot;: false}\n",
       "            ).addTo(map_2e0734dd0b1be33d2141fcdedb19ab3a);\n",
       "        \n",
       "    \n",
       "            var layer_control_4c55e9c2764073f55efe06ab97bb432b = {\n",
       "                base_layers : {\n",
       "                    &quot;openstreetmap&quot; : tile_layer_0d86c7caa9c1428b0ebcb8162276d2b8,\n",
       "                },\n",
       "                overlays :  {\n",
       "                    &quot;Tempe Terra&quot; : tile_layer_7637d3c8ec7ffa53a8953ab8931c3412,\n",
       "                    &quot;Geometry&quot; : tile_layer_878017ba05752ca94cf8d3ec132693e5,\n",
       "                },\n",
       "            };\n",
       "            L.control.layers(\n",
       "                layer_control_4c55e9c2764073f55efe06ab97bb432b.base_layers,\n",
       "                layer_control_4c55e9c2764073f55efe06ab97bb432b.overlays,\n",
       "                {&quot;autoZIndex&quot;: true, &quot;collapsed&quot;: true, &quot;position&quot;: &quot;topright&quot;}\n",
       "            ).addTo(map_2e0734dd0b1be33d2141fcdedb19ab3a);\n",
       "        \n",
       "&lt;/script&gt;\n",
       "&lt;/html&gt;\" style=\"position:absolute;width:100%;height:100%;left:0;top:0;border:none !important;\" allowfullscreen webkitallowfullscreen mozallowfullscreen></iframe></div></div>"
      ],
      "text/plain": [
       "<folium.folium.Map at 0x7f7843ed7700>"
      ]
     },
     "execution_count": 19,
     "metadata": {},
     "output_type": "execute_result"
    }
   ],
   "source": [
    "Map"
   ]
  },
  {
   "cell_type": "markdown",
   "id": "c6893772-47c9-4dc7-8be0-f01a6a15bdcf",
   "metadata": {},
   "source": [
    "# 2. Read in image"
   ]
  },
  {
   "cell_type": "code",
   "execution_count": 20,
   "id": "4b5d0062-20c7-4f17-b471-f976b1aaa242",
   "metadata": {},
   "outputs": [],
   "source": [
    "imageFilesList = [\"gs://esg-satelite-data-warehouse/mars/predictions/features/themis_sample_1/themis_sample_1.tfrecord.gz\"]"
   ]
  },
  {
   "cell_type": "code",
   "execution_count": 21,
   "id": "a279d9c1-a822-42d5-9139-ad5750f55463",
   "metadata": {},
   "outputs": [],
   "source": [
    "image_dataset = tf.data.TFRecordDataset(imageFilesList, compression_type='GZIP')"
   ]
  },
  {
   "cell_type": "code",
   "execution_count": 22,
   "id": "a7e885f2-4ac6-4dc2-b007-d9b9372a3c9a",
   "metadata": {},
   "outputs": [],
   "source": [
    "BANDS = [\"b1\"]"
   ]
  },
  {
   "cell_type": "code",
   "execution_count": 23,
   "id": "ac531b71-5037-4632-87a5-87a3989f9e07",
   "metadata": {},
   "outputs": [],
   "source": [
    "imageColumns = [\n",
    "    tf.io.FixedLenFeature(shape=[256,256], dtype=tf.float32) \n",
    "      for k in BANDS\n",
    "  ]\n",
    "\n",
    "imageFeaturesDict = dict(zip(BANDS, imageColumns))\n",
    "\n",
    "def parse_image(example_proto):\n",
    "    return tf.io.parse_single_example(example_proto, imageFeaturesDict)"
   ]
  },
  {
   "cell_type": "code",
   "execution_count": 24,
   "id": "e0f14200-72a0-48fc-a539-6b2f54df08d7",
   "metadata": {},
   "outputs": [],
   "source": [
    "\n",
    "# Parse the data into tensors, one long tensor per patch.\n",
    "image_dataset = image_dataset.map(parse_image, num_parallel_calls=5)"
   ]
  },
  {
   "cell_type": "code",
   "execution_count": 25,
   "id": "91e306e6-e2d8-4694-9376-426876c72feb",
   "metadata": {},
   "outputs": [
    {
     "data": {
      "text/plain": [
       "<_ParallelMapDataset element_spec={'b1': TensorSpec(shape=(256, 256), dtype=tf.float32, name=None)}>"
      ]
     },
     "execution_count": 25,
     "metadata": {},
     "output_type": "execute_result"
    }
   ],
   "source": [
    "image_dataset"
   ]
  },
  {
   "cell_type": "code",
   "execution_count": 26,
   "id": "695acb3e-b768-46fc-868e-67774ba5f93b",
   "metadata": {},
   "outputs": [],
   "source": [
    "def toTupleImage(inputs):\n",
    "    inputsList = [inputs.get(key) for key in BANDS]\n",
    "    stacked = tf.stack(inputsList, axis=0)\n",
    "    stacked = tf.transpose(stacked, [1, 2, 0])\n",
    "    return stacked"
   ]
  },
  {
   "cell_type": "code",
   "execution_count": 27,
   "id": "dea09b68-3080-4093-9cd4-249981e05eaa",
   "metadata": {},
   "outputs": [],
   "source": [
    "image_dataset = image_dataset.map(toTupleImage).batch(1)"
   ]
  },
  {
   "cell_type": "code",
   "execution_count": 28,
   "id": "2b4cd2ec-8fc1-46b1-8486-bfee4c347ace",
   "metadata": {},
   "outputs": [
    {
     "data": {
      "text/plain": [
       "<_BatchDataset element_spec=TensorSpec(shape=(None, 256, 256, 1), dtype=tf.float32, name=None)>"
      ]
     },
     "execution_count": 28,
     "metadata": {},
     "output_type": "execute_result"
    }
   ],
   "source": [
    "image_dataset"
   ]
  },
  {
   "cell_type": "code",
   "execution_count": 31,
   "id": "5bd69bde-8164-4930-867e-c55ad780be87",
   "metadata": {},
   "outputs": [
    {
     "data": {
      "text/plain": [
       "(1, 1, 256, 256, 1)"
      ]
     },
     "execution_count": 31,
     "metadata": {},
     "output_type": "execute_result"
    }
   ],
   "source": [
    "np.expand_dims(np.concatenate([x for x in image_dataset]), axis = 0).shape"
   ]
  },
  {
   "cell_type": "code",
   "execution_count": null,
   "id": "12f84617-feb5-4e6e-ba64-4e98129f7951",
   "metadata": {},
   "outputs": [],
   "source": []
  },
  {
   "cell_type": "code",
   "execution_count": null,
   "id": "5187e976-484f-4579-8615-588b0841cf2f",
   "metadata": {},
   "outputs": [],
   "source": []
  },
  {
   "cell_type": "code",
   "execution_count": null,
   "id": "0d75e8d9-0856-48d0-8a1b-4b04f6d149c8",
   "metadata": {},
   "outputs": [],
   "source": []
  },
  {
   "cell_type": "code",
   "execution_count": null,
   "id": "82ec135c-4093-4dc7-9a0b-933effa06f44",
   "metadata": {},
   "outputs": [],
   "source": []
  },
  {
   "cell_type": "code",
   "execution_count": null,
   "id": "5b3de803-b30c-4ce8-8963-4b03b4a454bd",
   "metadata": {},
   "outputs": [],
   "source": []
  },
  {
   "cell_type": "markdown",
   "id": "b92beb32-b788-4e45-94e3-e8a86d0ba1b4",
   "metadata": {},
   "source": [
    "##### Reference: https://github.com/google/earthengine-community/blob/master/guides/linked/TF_demo1_keras.ipynb \"Read the JSON mixer file\""
   ]
  },
  {
   "cell_type": "code",
   "execution_count": 345,
   "id": "bf7eccd4-9b6a-4ad5-a822-892a153976c6",
   "metadata": {},
   "outputs": [],
   "source": [
    "import json\n",
    "import numpy as np"
   ]
  },
  {
   "cell_type": "code",
   "execution_count": 346,
   "id": "bf28e245-4618-4c3a-8e14-9cac4c99c861",
   "metadata": {},
   "outputs": [],
   "source": [
    "json_file = \"gs://esg-satelite-data-warehouse/mars/predictions/features/themis_sample_1/themis_sample_1.json\""
   ]
  },
  {
   "cell_type": "code",
   "execution_count": 347,
   "id": "f282aa7d-74e6-48f9-b3ef-de693f5aa1e8",
   "metadata": {},
   "outputs": [],
   "source": [
    "image_files = [\n",
    "    \"gs://esg-satelite-data-warehouse/mars/predictions/features/themis_sample_1/themis_sample_1.tfrecord.gz\"\n",
    "]"
   ]
  },
  {
   "cell_type": "code",
   "execution_count": 348,
   "id": "71823dbd-d0ab-4a40-a8e0-d44610e79576",
   "metadata": {},
   "outputs": [],
   "source": [
    "json_text = !gsutil cat {json_file}"
   ]
  },
  {
   "cell_type": "code",
   "execution_count": 349,
   "id": "4f253606-3d9c-4579-a37f-ad1bef76b65c",
   "metadata": {},
   "outputs": [],
   "source": [
    "mixer = json.loads(json_text.nlstr)"
   ]
  },
  {
   "cell_type": "code",
   "execution_count": 350,
   "id": "5150f8ce-02e7-4b26-b64e-bfbb78196af9",
   "metadata": {},
   "outputs": [],
   "source": [
    "# Get relevant info from the JSON mixer file.\n",
    "patch_width = mixer['patchDimensions'][0]\n",
    "patch_height = mixer['patchDimensions'][1]\n",
    "patches = mixer['totalPatches']\n",
    "patch_dimensions_flat = [patch_width * patch_height, 1]"
   ]
  },
  {
   "cell_type": "code",
   "execution_count": 351,
   "id": "31a915e5-a702-494c-9af5-efa3877585c4",
   "metadata": {},
   "outputs": [
    {
     "data": {
      "text/plain": [
       "[65536, 1]"
      ]
     },
     "execution_count": 351,
     "metadata": {},
     "output_type": "execute_result"
    }
   ],
   "source": [
    "patch_dimensions_flat"
   ]
  },
  {
   "cell_type": "code",
   "execution_count": 352,
   "id": "d872246a-9cb6-4450-b70c-7da5779db3ab",
   "metadata": {},
   "outputs": [],
   "source": [
    "BANDS = [\"b1\"]\n"
   ]
  },
  {
   "cell_type": "code",
   "execution_count": 353,
   "id": "31595d7c-9f99-4f3e-b932-280bc8d66599",
   "metadata": {},
   "outputs": [],
   "source": [
    "# Note that the tensors are in the shape of a patch, one patch for each band.\n",
    "image_columns = [\n",
    "  tf.io.FixedLenFeature(shape=patch_dimensions_flat, dtype=tf.float32) \n",
    "    for k in BANDS\n",
    "]"
   ]
  },
  {
   "cell_type": "code",
   "execution_count": 354,
   "id": "a297341e-812a-4a87-b70d-43536836ca71",
   "metadata": {},
   "outputs": [],
   "source": [
    "# Parsing dictionary.\n",
    "image_features_dict = dict(zip(BANDS, image_columns))"
   ]
  },
  {
   "cell_type": "code",
   "execution_count": 355,
   "id": "128a8fbd-498f-4327-8cd4-b457876623bd",
   "metadata": {},
   "outputs": [
    {
     "data": {
      "text/plain": [
       "{'b1': FixedLenFeature(shape=[65536, 1], dtype=tf.float32, default_value=None)}"
      ]
     },
     "execution_count": 355,
     "metadata": {},
     "output_type": "execute_result"
    }
   ],
   "source": [
    "image_features_dict"
   ]
  },
  {
   "cell_type": "code",
   "execution_count": 356,
   "id": "2c8a2d7d-2803-415f-9408-cda6e3433fb7",
   "metadata": {},
   "outputs": [],
   "source": [
    "# Note that you can make one dataset from many files by specifying a list.\n",
    "image_dataset = tf.data.TFRecordDataset(image_files, compression_type= \"GZIP\")"
   ]
  },
  {
   "cell_type": "code",
   "execution_count": 357,
   "id": "910fe15a-0eee-4e5b-a2aa-8c874186ed40",
   "metadata": {},
   "outputs": [
    {
     "data": {
      "text/plain": [
       "<TFRecordDatasetV2 element_spec=TensorSpec(shape=(), dtype=tf.string, name=None)>"
      ]
     },
     "execution_count": 357,
     "metadata": {},
     "output_type": "execute_result"
    }
   ],
   "source": [
    "image_dataset"
   ]
  },
  {
   "cell_type": "code",
   "execution_count": 333,
   "id": "7a481ac4-dd83-4ae6-bd49-6f2c6768ff76",
   "metadata": {},
   "outputs": [],
   "source": [
    "# Parsing function.\n",
    "def parse_image(example_proto):\n",
    "  return tf.io.parse_single_example(example_proto, image_features_dict)\n",
    "\n",
    "# Parse the data into tensors, one long tensor per patch.\n",
    "image_dataset = image_dataset.map(parse_image, num_parallel_calls=5)"
   ]
  },
  {
   "cell_type": "code",
   "execution_count": 334,
   "id": "902844c9-6a49-4f48-bfd1-e4d702b6c5e3",
   "metadata": {},
   "outputs": [
    {
     "data": {
      "text/plain": [
       "<ParallelMapDataset element_spec={'b1': TensorSpec(shape=(65536, 1), dtype=tf.float32, name=None)}>"
      ]
     },
     "execution_count": 334,
     "metadata": {},
     "output_type": "execute_result"
    }
   ],
   "source": [
    "image_dataset"
   ]
  },
  {
   "cell_type": "code",
   "execution_count": 335,
   "id": "0561fd8a-700e-4488-b355-bfc781ebce1e",
   "metadata": {},
   "outputs": [],
   "source": [
    "# Break our long tensors into many little ones.\n",
    "image_dataset = image_dataset.flat_map(\n",
    "  lambda features: tf.data.Dataset.from_tensor_slices(features)\n",
    ") "
   ]
  },
  {
   "cell_type": "code",
   "execution_count": 336,
   "id": "ea9624f8-d723-48ea-ba3a-f22b37669c1f",
   "metadata": {},
   "outputs": [
    {
     "data": {
      "text/plain": [
       "<FlatMapDataset element_spec={'b1': TensorSpec(shape=(1,), dtype=tf.float32, name=None)}>"
      ]
     },
     "execution_count": 336,
     "metadata": {},
     "output_type": "execute_result"
    }
   ],
   "source": [
    "image_dataset"
   ]
  },
  {
   "cell_type": "code",
   "execution_count": 337,
   "id": "45f49d51-34bf-4ad7-871e-688b3d85836f",
   "metadata": {},
   "outputs": [],
   "source": [
    "# Turn the dictionary in each record into a tuple without a label.\n",
    "image_dataset = image_dataset.map(\n",
    "  lambda data_dict: (tf.transpose(list(data_dict.values())), )\n",
    ")\n",
    "\n",
    "# Turn each patch into a batch.\n",
    "image_dataset = image_dataset.batch(patch_width * patch_height)"
   ]
  },
  {
   "cell_type": "code",
   "execution_count": 338,
   "id": "b7f8b225-db49-4589-a56a-f16701e739d1",
   "metadata": {},
   "outputs": [
    {
     "data": {
      "text/plain": [
       "<BatchDataset element_spec=(TensorSpec(shape=(None, 1, 1), dtype=tf.float32, name=None),)>"
      ]
     },
     "execution_count": 338,
     "metadata": {},
     "output_type": "execute_result"
    }
   ],
   "source": [
    "image_dataset"
   ]
  },
  {
   "cell_type": "code",
   "execution_count": null,
   "id": "c233203c-0a8a-41a5-9b53-66f8ed53897e",
   "metadata": {},
   "outputs": [],
   "source": []
  },
  {
   "cell_type": "code",
   "execution_count": 339,
   "id": "600597a6-792a-476a-8198-d66c8497268b",
   "metadata": {},
   "outputs": [
    {
     "data": {
      "text/plain": [
       "(1, 1, 65536, 1, 1)"
      ]
     },
     "execution_count": 339,
     "metadata": {},
     "output_type": "execute_result"
    }
   ],
   "source": [
    "np.expand_dims(np.concatenate([x for x in image_dataset]), axis = 0).shape"
   ]
  },
  {
   "cell_type": "markdown",
   "id": "8893f3e6-ca83-46d3-8066-402ef70e83b3",
   "metadata": {},
   "source": [
    "# 3. Get model"
   ]
  },
  {
   "cell_type": "code",
   "execution_count": 16,
   "id": "3e0b231b-e430-45ec-9b37-f3b6452fd37b",
   "metadata": {},
   "outputs": [],
   "source": [
    "import tensorflow as tf"
   ]
  },
  {
   "cell_type": "code",
   "execution_count": 17,
   "id": "44fdacd4-4866-49b3-a081-e0b3368ed145",
   "metadata": {},
   "outputs": [],
   "source": [
    "model = tf.keras.models.load_model(\"gs://esg-satelite-data-warehouse/mars/models/sample_model_1\")"
   ]
  },
  {
   "cell_type": "code",
   "execution_count": 32,
   "id": "ab39160f-4066-4b30-952b-a0305d04e770",
   "metadata": {},
   "outputs": [
    {
     "name": "stderr",
     "output_type": "stream",
     "text": [
      "2023-10-09 16:29:37.772659: E tensorflow/compiler/xla/stream_executor/cuda/cuda_dnn.cc:435] Loaded runtime CuDNN library: 8.2.0 but source was compiled with: 8.6.0.  CuDNN library needs to have matching major version and equal or higher minor version. If using a binary install, upgrade your CuDNN library.  If building from sources, make sure the library loaded at runtime is compatible with the version specified during compile configuration.\n",
      "2023-10-09 16:29:37.774535: W tensorflow/core/framework/op_kernel.cc:1839] OP_REQUIRES failed at conv_ops_impl.h:1592 : UNIMPLEMENTED: DNN library is not found.\n"
     ]
    },
    {
     "ename": "UnimplementedError",
     "evalue": "Graph execution error:\n\nDetected at node model_1/conv2d_23/Conv2D defined at (most recent call last):\n  File \"/opt/conda/lib/python3.10/runpy.py\", line 196, in _run_module_as_main\n\n  File \"/opt/conda/lib/python3.10/runpy.py\", line 86, in _run_code\n\n  File \"/opt/conda/lib/python3.10/site-packages/ipykernel_launcher.py\", line 17, in <module>\n\n  File \"/opt/conda/lib/python3.10/site-packages/traitlets/config/application.py\", line 1043, in launch_instance\n\n  File \"/opt/conda/lib/python3.10/site-packages/ipykernel/kernelapp.py\", line 736, in start\n\n  File \"/opt/conda/lib/python3.10/site-packages/tornado/platform/asyncio.py\", line 195, in start\n\n  File \"/opt/conda/lib/python3.10/asyncio/base_events.py\", line 603, in run_forever\n\n  File \"/opt/conda/lib/python3.10/asyncio/base_events.py\", line 1909, in _run_once\n\n  File \"/opt/conda/lib/python3.10/asyncio/events.py\", line 80, in _run\n\n  File \"/opt/conda/lib/python3.10/site-packages/ipykernel/kernelbase.py\", line 516, in dispatch_queue\n\n  File \"/opt/conda/lib/python3.10/site-packages/ipykernel/kernelbase.py\", line 505, in process_one\n\n  File \"/opt/conda/lib/python3.10/site-packages/ipykernel/kernelbase.py\", line 412, in dispatch_shell\n\n  File \"/opt/conda/lib/python3.10/site-packages/ipykernel/kernelbase.py\", line 740, in execute_request\n\n  File \"/opt/conda/lib/python3.10/site-packages/ipykernel/ipkernel.py\", line 422, in do_execute\n\n  File \"/opt/conda/lib/python3.10/site-packages/ipykernel/zmqshell.py\", line 546, in run_cell\n\n  File \"/opt/conda/lib/python3.10/site-packages/IPython/core/interactiveshell.py\", line 3009, in run_cell\n\n  File \"/opt/conda/lib/python3.10/site-packages/IPython/core/interactiveshell.py\", line 3064, in _run_cell\n\n  File \"/opt/conda/lib/python3.10/site-packages/IPython/core/async_helpers.py\", line 129, in _pseudo_sync_runner\n\n  File \"/opt/conda/lib/python3.10/site-packages/IPython/core/interactiveshell.py\", line 3269, in run_cell_async\n\n  File \"/opt/conda/lib/python3.10/site-packages/IPython/core/interactiveshell.py\", line 3448, in run_ast_nodes\n\n  File \"/opt/conda/lib/python3.10/site-packages/IPython/core/interactiveshell.py\", line 3508, in run_code\n\n  File \"/var/tmp/ipykernel_45917/1424176859.py\", line 2, in <module>\n\n  File \"/opt/conda/lib/python3.10/site-packages/keras/src/utils/traceback_utils.py\", line 65, in error_handler\n\n  File \"/opt/conda/lib/python3.10/site-packages/keras/src/engine/training.py\", line 2631, in predict\n\n  File \"/opt/conda/lib/python3.10/site-packages/keras/src/engine/training.py\", line 2416, in predict_function\n\n  File \"/opt/conda/lib/python3.10/site-packages/keras/src/engine/training.py\", line 2401, in step_function\n\n  File \"/opt/conda/lib/python3.10/site-packages/keras/src/engine/training.py\", line 2389, in run_step\n\n  File \"/opt/conda/lib/python3.10/site-packages/keras/src/engine/training.py\", line 2357, in predict_step\n\n  File \"/opt/conda/lib/python3.10/site-packages/keras/src/utils/traceback_utils.py\", line 65, in error_handler\n\n  File \"/opt/conda/lib/python3.10/site-packages/keras/src/engine/training.py\", line 589, in __call__\n\n  File \"/opt/conda/lib/python3.10/site-packages/keras/src/utils/traceback_utils.py\", line 65, in error_handler\n\n  File \"/opt/conda/lib/python3.10/site-packages/keras/src/engine/base_layer.py\", line 1149, in __call__\n\n  File \"/opt/conda/lib/python3.10/site-packages/keras/src/utils/traceback_utils.py\", line 96, in error_handler\n\n  File \"/opt/conda/lib/python3.10/site-packages/keras/src/engine/functional.py\", line 515, in call\n\n  File \"/opt/conda/lib/python3.10/site-packages/keras/src/engine/functional.py\", line 672, in _run_internal_graph\n\n  File \"/opt/conda/lib/python3.10/site-packages/keras/src/utils/traceback_utils.py\", line 65, in error_handler\n\n  File \"/opt/conda/lib/python3.10/site-packages/keras/src/engine/base_layer.py\", line 1149, in __call__\n\n  File \"/opt/conda/lib/python3.10/site-packages/keras/src/utils/traceback_utils.py\", line 96, in error_handler\n\n  File \"/opt/conda/lib/python3.10/site-packages/keras/src/layers/convolutional/base_conv.py\", line 290, in call\n\n  File \"/opt/conda/lib/python3.10/site-packages/keras/src/layers/convolutional/base_conv.py\", line 262, in convolution_op\n\nDNN library is not found.\n\t [[{{node model_1/conv2d_23/Conv2D}}]] [Op:__inference_predict_function_15472]",
     "output_type": "error",
     "traceback": [
      "\u001b[0;31m---------------------------------------------------------------------------\u001b[0m",
      "\u001b[0;31mUnimplementedError\u001b[0m                        Traceback (most recent call last)",
      "Cell \u001b[0;32mIn[32], line 2\u001b[0m\n\u001b[1;32m      1\u001b[0m \u001b[38;5;66;03m# Run prediction in batches, with as many steps as there are patches.\u001b[39;00m\n\u001b[0;32m----> 2\u001b[0m predictions \u001b[38;5;241m=\u001b[39m \u001b[43mmodel\u001b[49m\u001b[38;5;241;43m.\u001b[39;49m\u001b[43mpredict\u001b[49m\u001b[43m(\u001b[49m\u001b[43mimage_dataset\u001b[49m\u001b[43m,\u001b[49m\u001b[43m \u001b[49m\u001b[43msteps\u001b[49m\u001b[38;5;241;43m=\u001b[39;49m\u001b[38;5;241;43m1\u001b[39;49m\u001b[43m,\u001b[49m\u001b[43m \u001b[49m\u001b[43mverbose\u001b[49m\u001b[38;5;241;43m=\u001b[39;49m\u001b[38;5;241;43m1\u001b[39;49m\u001b[43m)\u001b[49m\n",
      "File \u001b[0;32m/opt/conda/lib/python3.10/site-packages/keras/src/utils/traceback_utils.py:70\u001b[0m, in \u001b[0;36mfilter_traceback.<locals>.error_handler\u001b[0;34m(*args, **kwargs)\u001b[0m\n\u001b[1;32m     67\u001b[0m     filtered_tb \u001b[38;5;241m=\u001b[39m _process_traceback_frames(e\u001b[38;5;241m.\u001b[39m__traceback__)\n\u001b[1;32m     68\u001b[0m     \u001b[38;5;66;03m# To get the full stack trace, call:\u001b[39;00m\n\u001b[1;32m     69\u001b[0m     \u001b[38;5;66;03m# `tf.debugging.disable_traceback_filtering()`\u001b[39;00m\n\u001b[0;32m---> 70\u001b[0m     \u001b[38;5;28;01mraise\u001b[39;00m e\u001b[38;5;241m.\u001b[39mwith_traceback(filtered_tb) \u001b[38;5;28;01mfrom\u001b[39;00m \u001b[38;5;28;01mNone\u001b[39;00m\n\u001b[1;32m     71\u001b[0m \u001b[38;5;28;01mfinally\u001b[39;00m:\n\u001b[1;32m     72\u001b[0m     \u001b[38;5;28;01mdel\u001b[39;00m filtered_tb\n",
      "File \u001b[0;32m/opt/conda/lib/python3.10/site-packages/tensorflow/python/eager/execute.py:60\u001b[0m, in \u001b[0;36mquick_execute\u001b[0;34m(op_name, num_outputs, inputs, attrs, ctx, name)\u001b[0m\n\u001b[1;32m     53\u001b[0m   \u001b[38;5;66;03m# Convert any objects of type core_types.Tensor to Tensor.\u001b[39;00m\n\u001b[1;32m     54\u001b[0m   inputs \u001b[38;5;241m=\u001b[39m [\n\u001b[1;32m     55\u001b[0m       tensor_conversion_registry\u001b[38;5;241m.\u001b[39mconvert(t)\n\u001b[1;32m     56\u001b[0m       \u001b[38;5;28;01mif\u001b[39;00m \u001b[38;5;28misinstance\u001b[39m(t, core_types\u001b[38;5;241m.\u001b[39mTensor)\n\u001b[1;32m     57\u001b[0m       \u001b[38;5;28;01melse\u001b[39;00m t\n\u001b[1;32m     58\u001b[0m       \u001b[38;5;28;01mfor\u001b[39;00m t \u001b[38;5;129;01min\u001b[39;00m inputs\n\u001b[1;32m     59\u001b[0m   ]\n\u001b[0;32m---> 60\u001b[0m   tensors \u001b[38;5;241m=\u001b[39m pywrap_tfe\u001b[38;5;241m.\u001b[39mTFE_Py_Execute(ctx\u001b[38;5;241m.\u001b[39m_handle, device_name, op_name,\n\u001b[1;32m     61\u001b[0m                                       inputs, attrs, num_outputs)\n\u001b[1;32m     62\u001b[0m \u001b[38;5;28;01mexcept\u001b[39;00m core\u001b[38;5;241m.\u001b[39m_NotOkStatusException \u001b[38;5;28;01mas\u001b[39;00m e:\n\u001b[1;32m     63\u001b[0m   \u001b[38;5;28;01mif\u001b[39;00m name \u001b[38;5;129;01mis\u001b[39;00m \u001b[38;5;129;01mnot\u001b[39;00m \u001b[38;5;28;01mNone\u001b[39;00m:\n",
      "\u001b[0;31mUnimplementedError\u001b[0m: Graph execution error:\n\nDetected at node model_1/conv2d_23/Conv2D defined at (most recent call last):\n  File \"/opt/conda/lib/python3.10/runpy.py\", line 196, in _run_module_as_main\n\n  File \"/opt/conda/lib/python3.10/runpy.py\", line 86, in _run_code\n\n  File \"/opt/conda/lib/python3.10/site-packages/ipykernel_launcher.py\", line 17, in <module>\n\n  File \"/opt/conda/lib/python3.10/site-packages/traitlets/config/application.py\", line 1043, in launch_instance\n\n  File \"/opt/conda/lib/python3.10/site-packages/ipykernel/kernelapp.py\", line 736, in start\n\n  File \"/opt/conda/lib/python3.10/site-packages/tornado/platform/asyncio.py\", line 195, in start\n\n  File \"/opt/conda/lib/python3.10/asyncio/base_events.py\", line 603, in run_forever\n\n  File \"/opt/conda/lib/python3.10/asyncio/base_events.py\", line 1909, in _run_once\n\n  File \"/opt/conda/lib/python3.10/asyncio/events.py\", line 80, in _run\n\n  File \"/opt/conda/lib/python3.10/site-packages/ipykernel/kernelbase.py\", line 516, in dispatch_queue\n\n  File \"/opt/conda/lib/python3.10/site-packages/ipykernel/kernelbase.py\", line 505, in process_one\n\n  File \"/opt/conda/lib/python3.10/site-packages/ipykernel/kernelbase.py\", line 412, in dispatch_shell\n\n  File \"/opt/conda/lib/python3.10/site-packages/ipykernel/kernelbase.py\", line 740, in execute_request\n\n  File \"/opt/conda/lib/python3.10/site-packages/ipykernel/ipkernel.py\", line 422, in do_execute\n\n  File \"/opt/conda/lib/python3.10/site-packages/ipykernel/zmqshell.py\", line 546, in run_cell\n\n  File \"/opt/conda/lib/python3.10/site-packages/IPython/core/interactiveshell.py\", line 3009, in run_cell\n\n  File \"/opt/conda/lib/python3.10/site-packages/IPython/core/interactiveshell.py\", line 3064, in _run_cell\n\n  File \"/opt/conda/lib/python3.10/site-packages/IPython/core/async_helpers.py\", line 129, in _pseudo_sync_runner\n\n  File \"/opt/conda/lib/python3.10/site-packages/IPython/core/interactiveshell.py\", line 3269, in run_cell_async\n\n  File \"/opt/conda/lib/python3.10/site-packages/IPython/core/interactiveshell.py\", line 3448, in run_ast_nodes\n\n  File \"/opt/conda/lib/python3.10/site-packages/IPython/core/interactiveshell.py\", line 3508, in run_code\n\n  File \"/var/tmp/ipykernel_45917/1424176859.py\", line 2, in <module>\n\n  File \"/opt/conda/lib/python3.10/site-packages/keras/src/utils/traceback_utils.py\", line 65, in error_handler\n\n  File \"/opt/conda/lib/python3.10/site-packages/keras/src/engine/training.py\", line 2631, in predict\n\n  File \"/opt/conda/lib/python3.10/site-packages/keras/src/engine/training.py\", line 2416, in predict_function\n\n  File \"/opt/conda/lib/python3.10/site-packages/keras/src/engine/training.py\", line 2401, in step_function\n\n  File \"/opt/conda/lib/python3.10/site-packages/keras/src/engine/training.py\", line 2389, in run_step\n\n  File \"/opt/conda/lib/python3.10/site-packages/keras/src/engine/training.py\", line 2357, in predict_step\n\n  File \"/opt/conda/lib/python3.10/site-packages/keras/src/utils/traceback_utils.py\", line 65, in error_handler\n\n  File \"/opt/conda/lib/python3.10/site-packages/keras/src/engine/training.py\", line 589, in __call__\n\n  File \"/opt/conda/lib/python3.10/site-packages/keras/src/utils/traceback_utils.py\", line 65, in error_handler\n\n  File \"/opt/conda/lib/python3.10/site-packages/keras/src/engine/base_layer.py\", line 1149, in __call__\n\n  File \"/opt/conda/lib/python3.10/site-packages/keras/src/utils/traceback_utils.py\", line 96, in error_handler\n\n  File \"/opt/conda/lib/python3.10/site-packages/keras/src/engine/functional.py\", line 515, in call\n\n  File \"/opt/conda/lib/python3.10/site-packages/keras/src/engine/functional.py\", line 672, in _run_internal_graph\n\n  File \"/opt/conda/lib/python3.10/site-packages/keras/src/utils/traceback_utils.py\", line 65, in error_handler\n\n  File \"/opt/conda/lib/python3.10/site-packages/keras/src/engine/base_layer.py\", line 1149, in __call__\n\n  File \"/opt/conda/lib/python3.10/site-packages/keras/src/utils/traceback_utils.py\", line 96, in error_handler\n\n  File \"/opt/conda/lib/python3.10/site-packages/keras/src/layers/convolutional/base_conv.py\", line 290, in call\n\n  File \"/opt/conda/lib/python3.10/site-packages/keras/src/layers/convolutional/base_conv.py\", line 262, in convolution_op\n\nDNN library is not found.\n\t [[{{node model_1/conv2d_23/Conv2D}}]] [Op:__inference_predict_function_15472]"
     ]
    }
   ],
   "source": [
    "# Run prediction in batches, with as many steps as there are patches.\n",
    "predictions = model.predict(image_dataset, steps=1, verbose=1)"
   ]
  },
  {
   "cell_type": "code",
   "execution_count": null,
   "id": "7e39638c-7081-4324-828d-c30b1e0a57cc",
   "metadata": {},
   "outputs": [],
   "source": []
  },
  {
   "cell_type": "code",
   "execution_count": null,
   "id": "123f3e1d-39c5-4a4e-ab03-2119f5639139",
   "metadata": {},
   "outputs": [],
   "source": []
  }
 ],
 "metadata": {
  "environment": {
   "kernel": "python3",
   "name": "tf2-gpu.2-11.m111",
   "type": "gcloud",
   "uri": "gcr.io/deeplearning-platform-release/tf2-gpu.2-11:m111"
  },
  "kernelspec": {
   "display_name": "Python 3",
   "language": "python",
   "name": "python3"
  },
  "language_info": {
   "codemirror_mode": {
    "name": "ipython",
    "version": 3
   },
   "file_extension": ".py",
   "mimetype": "text/x-python",
   "name": "python",
   "nbconvert_exporter": "python",
   "pygments_lexer": "ipython3",
   "version": "3.10.12"
  }
 },
 "nbformat": 4,
 "nbformat_minor": 5
}
