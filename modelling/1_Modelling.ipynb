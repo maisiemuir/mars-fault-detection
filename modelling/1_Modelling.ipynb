{
 "cells": [
  {
   "cell_type": "code",
   "execution_count": 50,
   "id": "26af4ce2-4792-4bae-b990-a92b30fac2aa",
   "metadata": {},
   "outputs": [],
   "source": [
    "import ee\n",
    "import folium\n",
    "import geopandas as gpd\n",
    "import tensorflow as tf\n",
    "import numpy as np\n",
    "import matplotlib.pyplot as plt\n",
    "\n",
    "from tensorflow.keras import layers, losses, models, metrics, optimizers"
   ]
  },
  {
   "cell_type": "code",
   "execution_count": 3,
   "id": "3a47767b-45a4-487b-99f2-35f41d363f98",
   "metadata": {},
   "outputs": [],
   "source": [
    "BANDS = [\"b1\"]\n",
    "RESPONSE = \"FAULTLINE\"\n",
    "FEATURES = BANDS + [RESPONSE]\n",
    "\n",
    "KERNEL_SIZE = 64\n",
    "COLUMNS = [\n",
    "    tf.io.FixedLenFeature(shape=[KERNEL_SIZE, KERNEL_SIZE], dtype=tf.float32) for _ in FEATURES\n",
    "]\n",
    "FEATURES_DICT = dict(zip(FEATURES, COLUMNS))"
   ]
  },
  {
   "cell_type": "code",
   "execution_count": 4,
   "id": "f2bd57e6-7f56-49a2-bc98-e2f0ce070ed8",
   "metadata": {},
   "outputs": [],
   "source": [
    "def parse_tfrecord(example_proto):\n",
    "    \"\"\"The parsing function.\n",
    "    Read a serialized example into the structure defined by FEATURES_DICT.\n",
    "    Args:\n",
    "    example_proto: a serialized Example.\n",
    "    Returns:\n",
    "    A dictionary of tensors, keyed by feature name.\n",
    "    \"\"\"\n",
    "    return tf.io.parse_single_example(example_proto, FEATURES_DICT)\n",
    "\n",
    "\n",
    "def to_tuple(inputs):\n",
    "    \"\"\"Function to convert a dictionary of tensors to a tuple of (inputs, outputs).\n",
    "    Turn the tensors returned by parse_tfrecord into a stack in HWC shape.\n",
    "    Args:\n",
    "    inputs: A dictionary of tensors, keyed by feature name.\n",
    "    Returns:\n",
    "    A tuple of (inputs, outputs).\n",
    "    \"\"\"\n",
    "    inputsList = [inputs.get(key) for key in FEATURES]\n",
    "    stacked = tf.stack(inputsList, axis=0)\n",
    "    # Convert from CHW to HWC\n",
    "    stacked = tf.transpose(stacked, [1, 2, 0])\n",
    "    return stacked[:,:,:len(BANDS)], tf.squeeze(tf.cast(stacked[:,:,len(BANDS):], tf.int32))\n",
    "\n",
    "\n",
    "def get_dataset(pattern):\n",
    "    \"\"\"Function to read, parse and format to tuple a set of input tfrecord files.\n",
    "    Get all the files matching the pattern, parse and convert to tuple.\n",
    "    Args:\n",
    "    pattern: A file pattern to match in a Cloud Storage bucket.\n",
    "    Returns:\n",
    "    A tf.data.Dataset\n",
    "    \"\"\"\n",
    "    glob = tf.io.gfile.glob(pattern)\n",
    "    dataset = tf.data.TFRecordDataset(glob, compression_type='GZIP')\n",
    "    dataset = dataset.map(parse_tfrecord, num_parallel_calls=5)\n",
    "    dataset = dataset.map(to_tuple, num_parallel_calls=5)\n",
    "    return dataset"
   ]
  },
  {
   "cell_type": "code",
   "execution_count": 9,
   "id": "a61a1f90-f451-4221-9807-0f1de37df705",
   "metadata": {},
   "outputs": [],
   "source": [
    "BATCH_SIZE = 16\n",
    "BUFFER_SIZE = 2000\n",
    "\n",
    "data_path = \"gs://esg-satelite-data-warehouse/mars/modelling/themis_tempeterra_epsg3857_v1/modelling_data_0.tfrecord.gz\"\n",
    "\n",
    "data_raw = get_dataset(data_path)\n",
    "training = data_raw.shuffle(BUFFER_SIZE).batch(BATCH_SIZE)"
   ]
  },
  {
   "cell_type": "code",
   "execution_count": 10,
   "id": "99c0f736-659a-4acb-a14b-08192d6c6805",
   "metadata": {},
   "outputs": [
    {
     "data": {
      "text/plain": [
       "<_BatchDataset element_spec=(TensorSpec(shape=(None, 64, 64, 1), dtype=tf.float32, name=None), TensorSpec(shape=(None, 64, 64), dtype=tf.int32, name=None))>"
      ]
     },
     "execution_count": 10,
     "metadata": {},
     "output_type": "execute_result"
    }
   ],
   "source": [
    "training"
   ]
  },
  {
   "cell_type": "code",
   "execution_count": 88,
   "id": "087691f4-e1ab-4607-ac18-e672b83b146d",
   "metadata": {},
   "outputs": [],
   "source": [
    "def conv_block(input_tensor, num_filters):\n",
    "    encoder = layers.Conv2D(num_filters, (3, 3), padding='same')(input_tensor)\n",
    "    encoder = layers.BatchNormalization()(encoder)\n",
    "    encoder = layers.Activation('relu')(encoder)\n",
    "    encoder = layers.Conv2D(num_filters, (3, 3), padding='same')(encoder)\n",
    "    encoder = layers.BatchNormalization()(encoder)\n",
    "    encoder = layers.Activation('relu')(encoder)\n",
    "    return encoder\n",
    "\n",
    "def encoder_block(input_tensor, num_filters):\n",
    "    encoder = conv_block(input_tensor, num_filters)\n",
    "    encoder_pool = layers.MaxPooling2D((2, 2), strides=(2, 2))(encoder)\n",
    "    return encoder_pool, encoder\n",
    "\n",
    "def decoder_block(input_tensor, concat_tensor, num_filters):\n",
    "    decoder = layers.Conv2DTranspose(num_filters, (2, 2), strides=(2, 2), padding='same')(input_tensor)\n",
    "    decoder = layers.concatenate([concat_tensor, decoder], axis=-1)\n",
    "    decoder = layers.BatchNormalization()(decoder)\n",
    "    decoder = layers.Activation('relu')(decoder)\n",
    "    decoder = layers.Conv2D(num_filters, (3, 3), padding='same')(decoder)\n",
    "    decoder = layers.BatchNormalization()(decoder)\n",
    "    decoder = layers.Activation('relu')(decoder)\n",
    "    decoder = layers.Conv2D(num_filters, (3, 3), padding='same')(decoder)\n",
    "    decoder = layers.BatchNormalization()(decoder)\n",
    "    decoder = layers.Activation('relu')(decoder)\n",
    "    return decoder\n",
    "\n",
    "def get_model():\n",
    "\n",
    "    normalisation_layer = layers.Normalization()\n",
    "    normalisation_layer.adapt(training.map(lambda x, _: x))\n",
    "\n",
    "    inputs = layers.Input(shape=[None, None, len(BANDS)]) # 256\n",
    "    normalised_inputs = normalisation_layer(inputs)\n",
    "    encoder0_pool, encoder0 = encoder_block(normalised_inputs, 32) # 128\n",
    "    encoder1_pool, encoder1 = encoder_block(encoder0_pool, 64) # 64\n",
    "    encoder2_pool, encoder2 = encoder_block(encoder1_pool, 128) # 32\n",
    "    encoder3_pool, encoder3 = encoder_block(encoder2_pool, 256) # 16\n",
    "    encoder4_pool, encoder4 = encoder_block(encoder3_pool, 512) # 8\n",
    "    center = conv_block(encoder4_pool, 1024) # center\n",
    "    decoder4 = decoder_block(center, encoder4, 512) # 16\n",
    "    decoder3 = decoder_block(decoder4, encoder3, 256) # 32\n",
    "    decoder2 = decoder_block(decoder3, encoder2, 128) # 64\n",
    "    decoder1 = decoder_block(decoder2, encoder1, 64) # 128\n",
    "    decoder0 = decoder_block(decoder1, encoder0, 32) # 256\n",
    "    outputs = layers.Conv2D(1, (1, 1), activation=\"softmax\")(decoder0)\n",
    "\n",
    "    model = models.Model(inputs=[inputs], outputs=[outputs])\n",
    "\n",
    "    model.compile(\n",
    "        optimizer=optimizers.SGD(learning_rate=1), \n",
    "        loss=losses.CategoricalCrossentropy(),\n",
    "        metrics=[\n",
    "            metrics.IoU(num_classes=2, target_class_ids=[1])\n",
    "        ]\n",
    "    )\n",
    "    return model"
   ]
  },
  {
   "cell_type": "code",
   "execution_count": 89,
   "id": "ba747e6d-d123-4e4c-97b9-aa48b953c1b2",
   "metadata": {},
   "outputs": [],
   "source": [
    "model = get_model()"
   ]
  },
  {
   "cell_type": "code",
   "execution_count": null,
   "id": "372f3fa5-309f-4397-b9ed-ebfb5d4953ba",
   "metadata": {},
   "outputs": [
    {
     "name": "stdout",
     "output_type": "stream",
     "text": [
      "Epoch 1/100\n",
      "63/63 [==============================] - 141s 2s/step - loss: 54.1433 - io_u_12: 0.0000e+00\n",
      "Epoch 2/100\n",
      "31/63 [=============>................] - ETA: 1:09 - loss: 52.1778 - io_u_12: 0.0000e+00"
     ]
    }
   ],
   "source": [
    "EPOCHS = 100\n",
    "\n",
    "history = model.fit(\n",
    "    x=training,\n",
    "    epochs=EPOCHS\n",
    ")"
   ]
  },
  {
   "cell_type": "markdown",
   "id": "877fc9cd-41ef-42c6-a8b9-765621cf2ac6",
   "metadata": {},
   "source": [
    "# Random Classifier"
   ]
  },
  {
   "cell_type": "code",
   "execution_count": 77,
   "id": "4ffaee3c-1528-4af0-808b-80225a24c2f9",
   "metadata": {},
   "outputs": [],
   "source": [
    "def random_classifier(training):\n",
    "    y_train = np.concatenate([y for _, y in training], axis=0)\n",
    "    output_shape = list(y_train.shape)\n",
    "\n",
    "    y_random = np.random.randint(0, 2, output_shape)\n",
    "\n",
    "    iou_metric = metrics.IoU(num_classes=2, target_class_ids=[1])\n",
    "    iou_metric.update_state(y_true=y_train, y_pred=y_random)\n",
    "    iou_value = iou_metric.result().numpy()\n",
    "    return iou_value"
   ]
  },
  {
   "cell_type": "code",
   "execution_count": 78,
   "id": "574a3e11-c458-48ea-948d-caa29c54b4dd",
   "metadata": {},
   "outputs": [
    {
     "data": {
      "text/plain": [
       "0.006375674"
      ]
     },
     "execution_count": 78,
     "metadata": {},
     "output_type": "execute_result"
    }
   ],
   "source": [
    "random_classifier(training)"
   ]
  }
 ],
 "metadata": {
  "environment": {
   "kernel": "python3",
   "name": "common-cpu.m109",
   "type": "gcloud",
   "uri": "gcr.io/deeplearning-platform-release/base-cpu:m109"
  },
  "kernelspec": {
   "display_name": "Python 3",
   "language": "python",
   "name": "python3"
  },
  "language_info": {
   "codemirror_mode": {
    "name": "ipython",
    "version": 3
   },
   "file_extension": ".py",
   "mimetype": "text/x-python",
   "name": "python",
   "nbconvert_exporter": "python",
   "pygments_lexer": "ipython3",
   "version": "3.10.11"
  }
 },
 "nbformat": 4,
 "nbformat_minor": 5
}
