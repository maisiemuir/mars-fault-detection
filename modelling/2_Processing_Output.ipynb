{
 "cells": [
  {
   "cell_type": "code",
   "execution_count": 1,
   "id": "065ef108-18ae-428f-affc-f4726c56a1d3",
   "metadata": {},
   "outputs": [],
   "source": [
    "# Read in the EE image\n",
    "# projects/esg-satelite/assets/mars/modelling/model_input/test1"
   ]
  },
  {
   "cell_type": "code",
   "execution_count": 2,
   "id": "6f9db2aa-6fd8-4765-a849-67f3e69a93f7",
   "metadata": {},
   "outputs": [],
   "source": [
    "# Get the CRS"
   ]
  },
  {
   "cell_type": "code",
   "execution_count": 3,
   "id": "80143db2-6639-4e6d-8310-1f1ec27b430c",
   "metadata": {},
   "outputs": [],
   "source": [
    "# Convert the EE image to tensorflow record (using EE so if we ever use another layer we can stack these)"
   ]
  },
  {
   "cell_type": "code",
   "execution_count": 4,
   "id": "d5f3a925-5da4-4831-9fc7-c578d0d90825",
   "metadata": {},
   "outputs": [],
   "source": [
    "# Input into model"
   ]
  },
  {
   "cell_type": "code",
   "execution_count": 5,
   "id": "940b59e4-89a9-4fc4-b0c9-465f29b88aed",
   "metadata": {},
   "outputs": [],
   "source": [
    "# boom!"
   ]
  },
  {
   "cell_type": "code",
   "execution_count": null,
   "id": "ea092a68-0022-46e0-9264-a37aff342963",
   "metadata": {},
   "outputs": [],
   "source": []
  }
 ],
 "metadata": {
  "environment": {
   "kernel": "python3",
   "name": "tf2-gpu.2-11.m111",
   "type": "gcloud",
   "uri": "gcr.io/deeplearning-platform-release/tf2-gpu.2-11:m111"
  },
  "kernelspec": {
   "display_name": "Python 3",
   "language": "python",
   "name": "python3"
  },
  "language_info": {
   "codemirror_mode": {
    "name": "ipython",
    "version": 3
   },
   "file_extension": ".py",
   "mimetype": "text/x-python",
   "name": "python",
   "nbconvert_exporter": "python",
   "pygments_lexer": "ipython3",
   "version": "3.10.12"
  }
 },
 "nbformat": 4,
 "nbformat_minor": 5
}
