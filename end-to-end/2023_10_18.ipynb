{
 "cells": [
  {
   "cell_type": "markdown",
   "id": "199cfb6f-bdbb-47aa-b4ba-ca1e653c26c0",
   "metadata": {},
   "source": [
    "# 1. Uploading the data"
   ]
  },
  {
   "cell_type": "markdown",
   "id": "1e5b0367-c748-4866-b2f3-29c94991d087",
   "metadata": {},
   "source": [
    "## 1.1. The train, val, and test data"
   ]
  },
  {
   "cell_type": "markdown",
   "id": "70707652-1df1-49dd-b0b0-eff8d88ab5f9",
   "metadata": {},
   "source": [
    "- We uploaded `THEMIS_DAYIR_TT_MergedMosaic.tif` directly to Earth Engine as no pre-processing steps were required, with EE path `projects/esg-satelite/assets/mars/features/themis_v1/pre/themis`.\n",
    "    - This image covers all areas of Tempe Terra where fault lines were drawn by hand.\n",
    "    - It is in CRS EPSG:3857."
   ]
  },
  {
   "cell_type": "code",
   "execution_count": null,
   "id": "350d5e04-7a0e-43dd-82dd-fa2e31bb752f",
   "metadata": {},
   "outputs": [],
   "source": []
  }
 ],
 "metadata": {
  "environment": {
   "kernel": "python3",
   "name": "tf2-gpu.2-11.m107",
   "type": "gcloud",
   "uri": "gcr.io/deeplearning-platform-release/tf2-gpu.2-11:m107"
  },
  "kernelspec": {
   "display_name": "Python 3 (ipykernel)",
   "language": "python",
   "name": "python3"
  },
  "language_info": {
   "codemirror_mode": {
    "name": "ipython",
    "version": 3
   },
   "file_extension": ".py",
   "mimetype": "text/x-python",
   "name": "python",
   "nbconvert_exporter": "python",
   "pygments_lexer": "ipython3",
   "version": "3.7.12"
  }
 },
 "nbformat": 4,
 "nbformat_minor": 5
}
