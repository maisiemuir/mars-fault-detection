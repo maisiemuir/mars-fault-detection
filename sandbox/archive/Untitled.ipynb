{
 "cells": [
  {
   "cell_type": "markdown",
   "id": "2b8a92de-176b-46c8-b16e-a4ddfe1428de",
   "metadata": {},
   "source": [
    "# Debugging"
   ]
  },
  {
   "cell_type": "code",
   "execution_count": null,
   "id": "24612a43-6079-4f7e-bcf7-c055d9eef312",
   "metadata": {},
   "outputs": [],
   "source": [
    "import ee\n",
    "import geopandas as gpd\n",
    "import tensorflow as tf\n",
    "import folium\n",
    "import geopandas as gpd\n",
    "import folium\n",
    "import shapely\n",
    "import os\n",
    "import pyproj\n",
    "import pycrs"
   ]
  },
  {
   "cell_type": "code",
   "execution_count": null,
   "id": "ee018e24-bde5-4599-8265-adab1c96a22f",
   "metadata": {},
   "outputs": [],
   "source": [
    "ee.Initialize()"
   ]
  },
  {
   "cell_type": "code",
   "execution_count": null,
   "id": "b4434a2e-2a1e-4693-b749-ac101104e38c",
   "metadata": {},
   "outputs": [],
   "source": [
    "# Creating add_ee_layer function\n",
    "# This allows us to visualise EE objects on a Folium map\n",
    "def add_ee_layer(self, ee_image_object, vis_params, name):\n",
    "    map_id_dict = ee_image_object.getMapId(vis_params)\n",
    "    folium.raster_layers.TileLayer(\n",
    "        tiles = map_id_dict['tile_fetcher'].url_format,\n",
    "        attr = 'Map Data &copy; <a href=\"https://earthengine.google.com/\">Google Earth Engine</a>',\n",
    "        name = name,\n",
    "        overlay = True,\n",
    "        control = True\n",
    "    ).add_to(self)\n",
    "\n",
    "folium.Map.add_ee_layer = add_ee_layer"
   ]
  },
  {
   "cell_type": "code",
   "execution_count": null,
   "id": "95a638ee-4646-4242-82d1-b60de53b73cb",
   "metadata": {},
   "outputs": [],
   "source": [
    "labels = gpd.read_file(\"gs://esg-satelite-data-warehouse/mars/labels/faults/raw/faults.shp\")"
   ]
  },
  {
   "cell_type": "code",
   "execution_count": null,
   "id": "fd5ddb6f-2b4a-4e97-abbc-27a7274e37d2",
   "metadata": {},
   "outputs": [
    {
     "data": {
      "text/plain": [
       "<Projected CRS: PROJCS[\"Mars2000 Mercator clon0\",GEOGCS[\"GCS_Mars_ ...>\n",
       "Name: Mars2000 Mercator clon0\n",
       "Axis Info [cartesian]:\n",
       "- [east]: Easting (metre)\n",
       "- [north]: Northing (metre)\n",
       "Area of Use:\n",
       "- undefined\n",
       "Coordinate Operation:\n",
       "- name: unnamed\n",
       "- method: Mercator (variant B)\n",
       "Datum: Mars_2000_(Sphere)\n",
       "- Ellipsoid: Mars_2000_Sphere_IAU_IAG\n",
       "- Prime Meridian: Reference_Meridian"
      ]
     },
     "execution_count": 8,
     "metadata": {},
     "output_type": "execute_result"
    }
   ],
   "source": [
    "labels.crs"
   ]
  },
  {
   "cell_type": "code",
   "execution_count": null,
   "id": "9c0c2c1f-b4f4-4c94-bb57-77e6c7fda0e0",
   "metadata": {},
   "outputs": [],
   "source": [
    "labels_crs_transform = labels.to_crs(\"\")"
   ]
  },
  {
   "cell_type": "code",
   "execution_count": null,
   "id": "a86a3e83-4a2a-4e64-b541-5d5a2a09b474",
   "metadata": {},
   "outputs": [],
   "source": [
    "themis_mosaic = ee.Image(\"projects/esg-satelite/assets/mars/features/themis_mosaic/pre/themis_mosaic\")"
   ]
  },
  {
   "cell_type": "code",
   "execution_count": null,
   "id": "e24f299d-f0c0-482a-980c-6334be5ae17f",
   "metadata": {},
   "outputs": [
    {
     "data": {
      "text/plain": [
       "{'type': 'Projection',\n",
       " 'wkt': 'PROJCS[\"SimpleCylindrical Mars\", \\n  GEOGCS[\"GCS_Mars\", \\n    DATUM[\"D_Mars\", \\n      SPHEROID[\"Mars\", 3396190.0, 0.0]], \\n    PRIMEM[\"Reference_Meridian\", 0.0], \\n    UNIT[\"degree\", 0.017453292519943295], \\n    AXIS[\"Longitude\", EAST], \\n    AXIS[\"Latitude\", NORTH]], \\n  PROJECTION[\"Equidistant_Cylindrical\"], \\n  PARAMETER[\"central_meridian\", 180.0], \\n  PARAMETER[\"latitude_of_origin\", 0.0], \\n  PARAMETER[\"standard_parallel_1\", 0.0], \\n  PARAMETER[\"false_easting\", 0.0], \\n  PARAMETER[\"false_northing\", 0.0], \\n  UNIT[\"m\", 1.0], \\n  AXIS[\"Easting\", EAST], \\n  AXIS[\"Northing\", NORTH]]',\n",
       " 'transform': [100, 0, -10669500, 0, -100, 5334800]}"
      ]
     },
     "execution_count": 11,
     "metadata": {},
     "output_type": "execute_result"
    }
   ],
   "source": [
    "themis_mosaic.projection().getInfo()"
   ]
  },
  {
   "cell_type": "code",
   "execution_count": null,
   "id": "8bd9fe36-9186-4e47-9c7a-8bcb82a695d7",
   "metadata": {},
   "outputs": [],
   "source": [
    "hrsc_sample = ee.Image(\"projects/esg-satelite/assets/mars/features/hrsc_sample_3/post/hrsc_sample\")"
   ]
  },
  {
   "cell_type": "code",
   "execution_count": null,
   "id": "bcfc85d3-cdca-47d0-9304-f51c89d776df",
   "metadata": {},
   "outputs": [
    {
     "data": {
      "text/plain": [
       "{'type': 'Projection',\n",
       " 'crs': 'EPSG:4326',\n",
       " 'transform': [0.008983152841195215,\n",
       "  0,\n",
       "  -180.00441663186973,\n",
       "  0,\n",
       "  -0.008983152841195215,\n",
       "  88.00794838518952]}"
      ]
     },
     "execution_count": 13,
     "metadata": {},
     "output_type": "execute_result"
    }
   ],
   "source": [
    "hrsc_sample.projection().getInfo()"
   ]
  },
  {
   "cell_type": "code",
   "execution_count": null,
   "id": "617f393e-8088-4e14-a312-ec76f98ae1ed",
   "metadata": {},
   "outputs": [],
   "source": [
    "hrsc_sample_image_collection = ee.ImageCollection(\"projects/esg-satelite/assets/mars/features/hrsc_sample_3/pre/hrsc_sample\")"
   ]
  },
  {
   "cell_type": "code",
   "execution_count": null,
   "id": "192e0697-2d94-47a1-b365-e6d962591f58",
   "metadata": {},
   "outputs": [
    {
     "data": {
      "text/plain": [
       "{'type': 'Projection',\n",
       " 'wkt': 'PROJCS[\"Mars2000 Mercator clon0\", \\n  GEOGCS[\"GCS_Mars_2000_Sphere\", \\n    DATUM[\"Mars_2000_(Sphere)\", \\n      SPHEROID[\"Mars_2000_Sphere_IAU_IAG\", 3396190.0, 0.0]], \\n    PRIMEM[\"Reference_Meridian\", 0.0], \\n    UNIT[\"degree\", 0.017453292519943295], \\n    AXIS[\"Longitude\", EAST], \\n    AXIS[\"Latitude\", NORTH]], \\n  PROJECTION[\"Mercator_2SP\"], \\n  PARAMETER[\"standard_parallel_1\", 0.0], \\n  PARAMETER[\"latitude_of_origin\", 0.0], \\n  PARAMETER[\"central_meridian\", 0.0], \\n  PARAMETER[\"false_easting\", 0.0], \\n  PARAMETER[\"false_northing\", 0.0], \\n  UNIT[\"m\", 1.0], \\n  AXIS[\"Easting\", EAST], \\n  AXIS[\"Northing\", NORTH]]',\n",
       " 'transform': [17.950075227458335,\n",
       "  0,\n",
       "  -4518267.437678183,\n",
       "  0,\n",
       "  -17.950075227458335,\n",
       "  3767475.020101506]}"
      ]
     },
     "execution_count": 16,
     "metadata": {},
     "output_type": "execute_result"
    }
   ],
   "source": [
    "hrsc_sample_image_collection.first().projection().getInfo()"
   ]
  },
  {
   "cell_type": "code",
   "execution_count": null,
   "id": "fc7c4ab1-b9dc-49ff-ab7a-f9ed73dbc242",
   "metadata": {},
   "outputs": [],
   "source": [
    "faultline_raster = ee.Image(\"projects/esg-satelite/assets/mars/labels/faults/post/faults_raster\")"
   ]
  },
  {
   "cell_type": "code",
   "execution_count": null,
   "id": "79319abc-eed0-41ec-bfa0-2d57c8ee8f1a",
   "metadata": {},
   "outputs": [
    {
     "data": {
      "text/plain": [
       "{'type': 'Projection',\n",
       " 'crs': 'EPSG:4326',\n",
       " 'transform': [0.008983152841195215,\n",
       "  0,\n",
       "  -180.00441663186973,\n",
       "  0,\n",
       "  -0.008983152841195215,\n",
       "  88.00794838518952]}"
      ]
     },
     "execution_count": 26,
     "metadata": {},
     "output_type": "execute_result"
    }
   ],
   "source": [
    "faultline_raster.projection().getInfo()"
   ]
  },
  {
   "cell_type": "code",
   "execution_count": null,
   "id": "f523b9b1-da07-4a5d-aff9-97a50c96d64d",
   "metadata": {},
   "outputs": [],
   "source": [
    "tt_faultclip_binary = ee.Image(\"projects/esg-satelite/assets/mars/test/TT_fault_clip_binary\")"
   ]
  },
  {
   "cell_type": "code",
   "execution_count": null,
   "id": "cff2265f-d690-41fe-ae02-4bb7b6f663a0",
   "metadata": {},
   "outputs": [
    {
     "data": {
      "text/plain": [
       "{'type': 'Projection',\n",
       " 'wkt': 'PROJCS[\"Mars2000_Mercator_clon0\", \\n  GEOGCS[\"GCS_Mars_2000_Sphere\", \\n    DATUM[\"D_Mars_2000_Sphere\", \\n      SPHEROID[\"Mars_2000_Sphere_IAU_IAG\", 3396190.0, 0.0]], \\n    PRIMEM[\"Reference_Meridian\", 0.0], \\n    UNIT[\"degree\", 0.017453292519943295], \\n    AXIS[\"Longitude\", EAST], \\n    AXIS[\"Latitude\", NORTH]], \\n  PROJECTION[\"Mercator_1SP\"], \\n  PARAMETER[\"latitude_of_origin\", 0.0], \\n  PARAMETER[\"central_meridian\", 0.0], \\n  PARAMETER[\"scale_factor\", 1.0], \\n  PARAMETER[\"false_easting\", 0.0], \\n  PARAMETER[\"false_northing\", 0.0], \\n  UNIT[\"m\", 1.0], \\n  AXIS[\"Easting\", EAST], \\n  AXIS[\"Northing\", NORTH]]',\n",
       " 'transform': [12.5, 0, -4789316.300798696, 0, -12.5, 2257392.7969031483]}"
      ]
     },
     "execution_count": 28,
     "metadata": {},
     "output_type": "execute_result"
    }
   ],
   "source": [
    "tt_faultclip_binary.projection().getInfo()"
   ]
  },
  {
   "cell_type": "code",
   "execution_count": null,
   "id": "f6e857eb-43f2-466d-b1ee-08e5f5ce9827",
   "metadata": {},
   "outputs": [],
   "source": [
    "# Transform labels (geopandas) into same projection as themis, or visa versa,"
   ]
  },
  {
   "cell_type": "markdown",
   "id": "6614bc43-21b9-4513-bbf6-05414b6ca5ea",
   "metadata": {},
   "source": [
    "------"
   ]
  },
  {
   "cell_type": "code",
   "execution_count": null,
   "id": "752d699b-8a8c-4be0-a0b5-f1b1922f9a42",
   "metadata": {},
   "outputs": [],
   "source": [
    "labels = gpd.read_file(\"gs://esg-satelite-data-warehouse/mars/labels/faults/raw/faults.shp\")"
   ]
  },
  {
   "cell_type": "code",
   "execution_count": null,
   "id": "cf1d085c-0d1e-41b6-9cbe-00103f40d112",
   "metadata": {},
   "outputs": [
    {
     "data": {
      "text/plain": [
       "<Projected CRS: PROJCS[\"Mars2000 Mercator clon0\",GEOGCS[\"GCS_Mars_ ...>\n",
       "Name: Mars2000 Mercator clon0\n",
       "Axis Info [cartesian]:\n",
       "- [east]: Easting (metre)\n",
       "- [north]: Northing (metre)\n",
       "Area of Use:\n",
       "- undefined\n",
       "Coordinate Operation:\n",
       "- name: unnamed\n",
       "- method: Mercator (variant B)\n",
       "Datum: Mars_2000_(Sphere)\n",
       "- Ellipsoid: Mars_2000_Sphere_IAU_IAG\n",
       "- Prime Meridian: Reference_Meridian"
      ]
     },
     "execution_count": 46,
     "metadata": {},
     "output_type": "execute_result"
    }
   ],
   "source": [
    "labels.crs"
   ]
  },
  {
   "cell_type": "code",
   "execution_count": null,
   "id": "bb37e70f-8c0f-4c8c-b6fa-e64d3fd061d0",
   "metadata": {},
   "outputs": [],
   "source": [
    "prj = \"+proj=merc +lat_ts=0 +lon_0=0 +x_0=0 +y_0=0 +R=3396190 +units=m +no_defs +type=crs\""
   ]
  },
  {
   "cell_type": "code",
   "execution_count": null,
   "id": "96ec5b1f-77f3-4a1d-92d9-13bf03593917",
   "metadata": {},
   "outputs": [],
   "source": [
    "labels_set_crs = labels.set_crs(prj,allow_override=True)"
   ]
  },
  {
   "cell_type": "code",
   "execution_count": null,
   "id": "12c2eb99-68a0-46bf-9256-001766d26c6f",
   "metadata": {},
   "outputs": [
    {
     "data": {
      "text/plain": [
       "<Projected CRS: +proj=merc +lat_ts=0 +lon_0=0 +x_0=0 +y_0=0 +R=339 ...>\n",
       "Name: unknown\n",
       "Axis Info [cartesian]:\n",
       "- E[east]: Easting (metre)\n",
       "- N[north]: Northing (metre)\n",
       "Area of Use:\n",
       "- undefined\n",
       "Coordinate Operation:\n",
       "- name: unknown\n",
       "- method: Mercator (variant B)\n",
       "Datum: unknown\n",
       "- Ellipsoid: unknown\n",
       "- Prime Meridian: Reference meridian"
      ]
     },
     "execution_count": 50,
     "metadata": {},
     "output_type": "execute_result"
    }
   ],
   "source": [
    "labels_set_crs.crs"
   ]
  },
  {
   "cell_type": "code",
   "execution_count": null,
   "id": "ff48545a-19fb-427f-a416-1887d34fe204",
   "metadata": {},
   "outputs": [],
   "source": [
    "os.environ[\"PROJ_IGNORE_CELESTIAL_BODY\"] = \"PROJ_IGNORE_CELESTIAL_BODY\""
   ]
  },
  {
   "cell_type": "code",
   "execution_count": null,
   "id": "9278588c-d352-4028-878b-91c463aa460f",
   "metadata": {},
   "outputs": [],
   "source": [
    "labels_set_crs_to_espg = labels_set_crs.to_crs(\"epsg:4326\")"
   ]
  },
  {
   "cell_type": "code",
   "execution_count": null,
   "id": "84dc6da4-50a0-456e-9b7b-037dff0111ea",
   "metadata": {},
   "outputs": [],
   "source": [
    "labels_to_espg = labels.to_crs(\"epsg:4326\")"
   ]
  },
  {
   "cell_type": "code",
   "execution_count": null,
   "id": "b235fd10-40a3-479a-9a25-ca4d2ef970f9",
   "metadata": {},
   "outputs": [
    {
     "data": {
      "text/html": [
       "<div>\n",
       "<style scoped>\n",
       "    .dataframe tbody tr th:only-of-type {\n",
       "        vertical-align: middle;\n",
       "    }\n",
       "\n",
       "    .dataframe tbody tr th {\n",
       "        vertical-align: top;\n",
       "    }\n",
       "\n",
       "    .dataframe thead th {\n",
       "        text-align: right;\n",
       "    }\n",
       "</style>\n",
       "<table border=\"1\" class=\"dataframe\">\n",
       "  <thead>\n",
       "    <tr style=\"text-align: right;\">\n",
       "      <th></th>\n",
       "      <th>FaultSet</th>\n",
       "      <th>Age</th>\n",
       "      <th>Strike</th>\n",
       "      <th>Length_km</th>\n",
       "      <th>Dip_Dir</th>\n",
       "      <th>Start_X</th>\n",
       "      <th>Start_Y</th>\n",
       "      <th>End_X</th>\n",
       "      <th>End_Y</th>\n",
       "      <th>geometry</th>\n",
       "    </tr>\n",
       "  </thead>\n",
       "  <tbody>\n",
       "    <tr>\n",
       "      <th>0</th>\n",
       "      <td>Set H5</td>\n",
       "      <td>EH</td>\n",
       "      <td>36.316102</td>\n",
       "      <td>39.5350</td>\n",
       "      <td>126.316102</td>\n",
       "      <td>-169302.910789</td>\n",
       "      <td>1.148928e+06</td>\n",
       "      <td>-154894.222968</td>\n",
       "      <td>1.168429e+06</td>\n",
       "      <td>LINESTRING (-80.71249 36.10759, -80.64553 36.1...</td>\n",
       "    </tr>\n",
       "    <tr>\n",
       "      <th>1</th>\n",
       "      <td>Set H6</td>\n",
       "      <td>EH</td>\n",
       "      <td>28.711558</td>\n",
       "      <td>11.4772</td>\n",
       "      <td>118.711558</td>\n",
       "      <td>-148876.720567</td>\n",
       "      <td>1.163294e+06</td>\n",
       "      <td>-145456.456156</td>\n",
       "      <td>1.169530e+06</td>\n",
       "      <td>LINESTRING (-80.02328 36.49824, -80.00187 36.5...</td>\n",
       "    </tr>\n",
       "  </tbody>\n",
       "</table>\n",
       "</div>"
      ],
      "text/plain": [
       "  FaultSet Age     Strike  Length_km     Dip_Dir        Start_X       Start_Y  \\\n",
       "0   Set H5  EH  36.316102    39.5350  126.316102 -169302.910789  1.148928e+06   \n",
       "1   Set H6  EH  28.711558    11.4772  118.711558 -148876.720567  1.163294e+06   \n",
       "\n",
       "           End_X         End_Y  \\\n",
       "0 -154894.222968  1.168429e+06   \n",
       "1 -145456.456156  1.169530e+06   \n",
       "\n",
       "                                            geometry  \n",
       "0  LINESTRING (-80.71249 36.10759, -80.64553 36.1...  \n",
       "1  LINESTRING (-80.02328 36.49824, -80.00187 36.5...  "
      ]
     },
     "execution_count": 57,
     "metadata": {},
     "output_type": "execute_result"
    }
   ],
   "source": [
    "labels_set_crs_to_espg.head(2)"
   ]
  },
  {
   "cell_type": "code",
   "execution_count": null,
   "id": "b7dcab7f-516e-44c4-9a1b-659a346ada7d",
   "metadata": {},
   "outputs": [
    {
     "data": {
      "text/html": [
       "<div>\n",
       "<style scoped>\n",
       "    .dataframe tbody tr th:only-of-type {\n",
       "        vertical-align: middle;\n",
       "    }\n",
       "\n",
       "    .dataframe tbody tr th {\n",
       "        vertical-align: top;\n",
       "    }\n",
       "\n",
       "    .dataframe thead th {\n",
       "        text-align: right;\n",
       "    }\n",
       "</style>\n",
       "<table border=\"1\" class=\"dataframe\">\n",
       "  <thead>\n",
       "    <tr style=\"text-align: right;\">\n",
       "      <th></th>\n",
       "      <th>FaultSet</th>\n",
       "      <th>Age</th>\n",
       "      <th>Strike</th>\n",
       "      <th>Length_km</th>\n",
       "      <th>Dip_Dir</th>\n",
       "      <th>Start_X</th>\n",
       "      <th>Start_Y</th>\n",
       "      <th>End_X</th>\n",
       "      <th>End_Y</th>\n",
       "      <th>geometry</th>\n",
       "    </tr>\n",
       "  </thead>\n",
       "  <tbody>\n",
       "    <tr>\n",
       "      <th>0</th>\n",
       "      <td>Set H5</td>\n",
       "      <td>EH</td>\n",
       "      <td>36.316102</td>\n",
       "      <td>39.5350</td>\n",
       "      <td>126.316102</td>\n",
       "      <td>-169302.910789</td>\n",
       "      <td>1.148928e+06</td>\n",
       "      <td>-154894.222968</td>\n",
       "      <td>1.168429e+06</td>\n",
       "      <td>LINESTRING (-80.71249 36.10759, -80.64553 36.1...</td>\n",
       "    </tr>\n",
       "    <tr>\n",
       "      <th>1</th>\n",
       "      <td>Set H6</td>\n",
       "      <td>EH</td>\n",
       "      <td>28.711558</td>\n",
       "      <td>11.4772</td>\n",
       "      <td>118.711558</td>\n",
       "      <td>-148876.720567</td>\n",
       "      <td>1.163294e+06</td>\n",
       "      <td>-145456.456156</td>\n",
       "      <td>1.169530e+06</td>\n",
       "      <td>LINESTRING (-80.02328 36.49824, -80.00187 36.5...</td>\n",
       "    </tr>\n",
       "  </tbody>\n",
       "</table>\n",
       "</div>"
      ],
      "text/plain": [
       "  FaultSet Age     Strike  Length_km     Dip_Dir        Start_X       Start_Y  \\\n",
       "0   Set H5  EH  36.316102    39.5350  126.316102 -169302.910789  1.148928e+06   \n",
       "1   Set H6  EH  28.711558    11.4772  118.711558 -148876.720567  1.163294e+06   \n",
       "\n",
       "           End_X         End_Y  \\\n",
       "0 -154894.222968  1.168429e+06   \n",
       "1 -145456.456156  1.169530e+06   \n",
       "\n",
       "                                            geometry  \n",
       "0  LINESTRING (-80.71249 36.10759, -80.64553 36.1...  \n",
       "1  LINESTRING (-80.02328 36.49824, -80.00187 36.5...  "
      ]
     },
     "execution_count": 58,
     "metadata": {},
     "output_type": "execute_result"
    }
   ],
   "source": [
    "labels_to_espg.head(2)"
   ]
  },
  {
   "cell_type": "code",
   "execution_count": null,
   "id": "4b8735ea-9341-4ed3-af23-e67b7d65c981",
   "metadata": {},
   "outputs": [],
   "source": [
    "import rioxarray\n",
    "import subprocess\n",
    "import geopandas as gpd\n",
    "import os\n",
    "from google.cloud import storage\n",
    "import glob\n",
    "import shutil\n",
    "import pathlib\n",
    "import rasterio as rio"
   ]
  },
  {
   "cell_type": "code",
   "execution_count": null,
   "id": "8ea05c70-5754-4322-b5c6-72a2b55f6abb",
   "metadata": {},
   "outputs": [],
   "source": [
    "themis_example_path_gs = \"gs://esg-satelite-data-warehouse/mars/features/themis_sample_4/raw/THEMIS_DayIR_ControlledMosaic_MareAcidalium_30N300E_100mpp.tif\"\n",
    "themis_write_path_gs = \"gs://esg-satelite-data-warehouse/mars/test/THEMIS_DayIR_ControlledMosaic_MareAcidalium_30N300E_100mpp.tif\"\n",
    "rds = rioxarray.open_rasterio(themis_example_path_gs)\n",
    "rds_4326 = rds.rio.reproject(\"EPSG:4326\")\n",
    "#rds_4326.rio.to_raster(themis_write_path_gs)"
   ]
  },
  {
   "cell_type": "code",
   "execution_count": null,
   "id": "021a6cbc-a2c9-484c-8a9c-c14220e83a39",
   "metadata": {},
   "outputs": [],
   "source": []
  },
  {
   "cell_type": "code",
   "execution_count": 79,
   "id": "5b44fa20-65be-41be-9281-cfa6abb84315",
   "metadata": {},
   "outputs": [
    {
     "ename": "NameError",
     "evalue": "name 'channels' is not defined",
     "output_type": "error",
     "traceback": [
      "\u001b[0;31m---------------------------------------------------------------------------\u001b[0m",
      "\u001b[0;31mNameError\u001b[0m                                 Traceback (most recent call last)",
      "Cell \u001b[0;32mIn[79], line 1\u001b[0m\n\u001b[0;32m----> 1\u001b[0m num_chans, height, width \u001b[38;5;241m=\u001b[39m \u001b[43mchannels\u001b[49m\u001b[38;5;241m.\u001b[39mshape\n",
      "\u001b[0;31mNameError\u001b[0m: name 'channels' is not defined"
     ]
    }
   ],
   "source": [
    "num_chans, height, width = channels.shape"
   ]
  },
  {
   "cell_type": "code",
   "execution_count": null,
   "id": "7f7c7ec3-68cd-4da7-9e9b-a6473a8c394f",
   "metadata": {},
   "outputs": [
    {
     "ename": "TypeError",
     "evalue": "Integer width and height are required.",
     "output_type": "error",
     "traceback": [
      "\u001b[0;31m---------------------------------------------------------------------------\u001b[0m",
      "\u001b[0;31mTypeError\u001b[0m                                 Traceback (most recent call last)",
      "File \u001b[0;32mrasterio/_io.pyx:1413\u001b[0m, in \u001b[0;36mrasterio._io.DatasetWriterBase.__init__\u001b[0;34m()\u001b[0m\n",
      "\u001b[0;31mTypeError\u001b[0m: int() argument must be a string, a bytes-like object or a real number, not 'NoneType'",
      "\nDuring handling of the above exception, another exception occurred:\n",
      "\u001b[0;31mTypeError\u001b[0m                                 Traceback (most recent call last)",
      "Cell \u001b[0;32mIn[78], line 1\u001b[0m\n\u001b[0;32m----> 1\u001b[0m \u001b[38;5;28;01mwith\u001b[39;00m \u001b[43mrio\u001b[49m\u001b[38;5;241;43m.\u001b[39;49m\u001b[43mopen\u001b[49m\u001b[43m(\u001b[49m\u001b[38;5;124;43m'\u001b[39;49m\u001b[38;5;124;43mthemis_espg4326.tif\u001b[39;49m\u001b[38;5;124;43m'\u001b[39;49m\u001b[43m,\u001b[49m\u001b[43m \u001b[49m\u001b[38;5;124;43m'\u001b[39;49m\u001b[38;5;124;43mw\u001b[39;49m\u001b[38;5;124;43m'\u001b[39;49m\u001b[43m,\u001b[49m\u001b[43m)\u001b[49m \u001b[38;5;28;01mas\u001b[39;00m dst:\n\u001b[1;32m      2\u001b[0m     dst\u001b[38;5;241m.\u001b[39mwrite(rds_4326, \u001b[38;5;241m1\u001b[39m)\n",
      "File \u001b[0;32m/opt/conda/lib/python3.10/site-packages/rasterio/env.py:451\u001b[0m, in \u001b[0;36mensure_env_with_credentials.<locals>.wrapper\u001b[0;34m(*args, **kwds)\u001b[0m\n\u001b[1;32m    448\u001b[0m     session \u001b[38;5;241m=\u001b[39m DummySession()\n\u001b[1;32m    450\u001b[0m \u001b[38;5;28;01mwith\u001b[39;00m env_ctor(session\u001b[38;5;241m=\u001b[39msession):\n\u001b[0;32m--> 451\u001b[0m     \u001b[38;5;28;01mreturn\u001b[39;00m \u001b[43mf\u001b[49m\u001b[43m(\u001b[49m\u001b[38;5;241;43m*\u001b[39;49m\u001b[43margs\u001b[49m\u001b[43m,\u001b[49m\u001b[43m \u001b[49m\u001b[38;5;241;43m*\u001b[39;49m\u001b[38;5;241;43m*\u001b[39;49m\u001b[43mkwds\u001b[49m\u001b[43m)\u001b[49m\n",
      "File \u001b[0;32m/opt/conda/lib/python3.10/site-packages/rasterio/__init__.py:314\u001b[0m, in \u001b[0;36mopen\u001b[0;34m(fp, mode, driver, width, height, count, crs, transform, dtype, nodata, sharing, **kwargs)\u001b[0m\n\u001b[1;32m    312\u001b[0m writer \u001b[38;5;241m=\u001b[39m get_writer_for_driver(driver)\n\u001b[1;32m    313\u001b[0m \u001b[38;5;28;01mif\u001b[39;00m writer \u001b[38;5;129;01mis\u001b[39;00m \u001b[38;5;129;01mnot\u001b[39;00m \u001b[38;5;28;01mNone\u001b[39;00m:\n\u001b[0;32m--> 314\u001b[0m     dataset \u001b[38;5;241m=\u001b[39m \u001b[43mwriter\u001b[49m\u001b[43m(\u001b[49m\n\u001b[1;32m    315\u001b[0m \u001b[43m        \u001b[49m\u001b[43mpath\u001b[49m\u001b[43m,\u001b[49m\n\u001b[1;32m    316\u001b[0m \u001b[43m        \u001b[49m\u001b[43mmode\u001b[49m\u001b[43m,\u001b[49m\n\u001b[1;32m    317\u001b[0m \u001b[43m        \u001b[49m\u001b[43mdriver\u001b[49m\u001b[38;5;241;43m=\u001b[39;49m\u001b[43mdriver\u001b[49m\u001b[43m,\u001b[49m\n\u001b[1;32m    318\u001b[0m \u001b[43m        \u001b[49m\u001b[43mwidth\u001b[49m\u001b[38;5;241;43m=\u001b[39;49m\u001b[43mwidth\u001b[49m\u001b[43m,\u001b[49m\n\u001b[1;32m    319\u001b[0m \u001b[43m        \u001b[49m\u001b[43mheight\u001b[49m\u001b[38;5;241;43m=\u001b[39;49m\u001b[43mheight\u001b[49m\u001b[43m,\u001b[49m\n\u001b[1;32m    320\u001b[0m \u001b[43m        \u001b[49m\u001b[43mcount\u001b[49m\u001b[38;5;241;43m=\u001b[39;49m\u001b[43mcount\u001b[49m\u001b[43m,\u001b[49m\n\u001b[1;32m    321\u001b[0m \u001b[43m        \u001b[49m\u001b[43mcrs\u001b[49m\u001b[38;5;241;43m=\u001b[39;49m\u001b[43mcrs\u001b[49m\u001b[43m,\u001b[49m\n\u001b[1;32m    322\u001b[0m \u001b[43m        \u001b[49m\u001b[43mtransform\u001b[49m\u001b[38;5;241;43m=\u001b[39;49m\u001b[43mtransform\u001b[49m\u001b[43m,\u001b[49m\n\u001b[1;32m    323\u001b[0m \u001b[43m        \u001b[49m\u001b[43mdtype\u001b[49m\u001b[38;5;241;43m=\u001b[39;49m\u001b[43mdtype\u001b[49m\u001b[43m,\u001b[49m\n\u001b[1;32m    324\u001b[0m \u001b[43m        \u001b[49m\u001b[43mnodata\u001b[49m\u001b[38;5;241;43m=\u001b[39;49m\u001b[43mnodata\u001b[49m\u001b[43m,\u001b[49m\n\u001b[1;32m    325\u001b[0m \u001b[43m        \u001b[49m\u001b[43msharing\u001b[49m\u001b[38;5;241;43m=\u001b[39;49m\u001b[43msharing\u001b[49m\u001b[43m,\u001b[49m\n\u001b[1;32m    326\u001b[0m \u001b[43m        \u001b[49m\u001b[38;5;241;43m*\u001b[39;49m\u001b[38;5;241;43m*\u001b[39;49m\u001b[43mkwargs\u001b[49m\n\u001b[1;32m    327\u001b[0m \u001b[43m    \u001b[49m\u001b[43m)\u001b[49m\n\u001b[1;32m    328\u001b[0m \u001b[38;5;28;01melse\u001b[39;00m:\n\u001b[1;32m    329\u001b[0m     \u001b[38;5;28;01mraise\u001b[39;00m DriverCapabilityError(\n\u001b[1;32m    330\u001b[0m         \u001b[38;5;124m\"\u001b[39m\u001b[38;5;124mWriter does not exist for driver: \u001b[39m\u001b[38;5;132;01m%s\u001b[39;00m\u001b[38;5;124m\"\u001b[39m \u001b[38;5;241m%\u001b[39m \u001b[38;5;28mstr\u001b[39m(driver)\n\u001b[1;32m    331\u001b[0m     )\n",
      "File \u001b[0;32mrasterio/_io.pyx:1416\u001b[0m, in \u001b[0;36mrasterio._io.DatasetWriterBase.__init__\u001b[0;34m()\u001b[0m\n",
      "\u001b[0;31mTypeError\u001b[0m: Integer width and height are required."
     ]
    }
   ],
   "source": [
    "with rio.open('themis_espg4326.tif', 'w',) as dst:\n",
    "    dst.write(rds_4326, 1)"
   ]
  },
  {
   "cell_type": "code",
   "execution_count": null,
   "id": "bd64662e-b06d-4956-9b58-7a56b435d223",
   "metadata": {},
   "outputs": [],
   "source": [
    "bucket = \"\""
   ]
  },
  {
   "cell_type": "code",
   "execution_count": null,
   "id": "160b8189-937f-4bd2-a258-53aecf2ef2a6",
   "metadata": {},
   "outputs": [],
   "source": [
    "client = storage.Client()\n",
    "bucket = client.get_bucket(\"esg-satelite-data-warehouse\")\n",
    "blob = bucket.blob(\"mars/test/THEMIS_DayIR_ControlledMosaic_MareAcidalium_30N300E_100mpp.tif\")\n",
    "#blob.upload_from_filename(f\"out/data.{extension}\")"
   ]
  },
  {
   "cell_type": "code",
   "execution_count": null,
   "id": "6075b57c-cf00-473d-a012-188d485fbe83",
   "metadata": {},
   "outputs": [],
   "source": [
    "blob.upload_from_filename(f\"out/data.{extension}\")"
   ]
  },
  {
   "cell_type": "code",
   "execution_count": null,
   "id": "066ecafb-b91c-4a06-b3e3-c32fa02bc11e",
   "metadata": {},
   "outputs": [],
   "source": [
    "name = '1.tif'\n",
    "storage_client = storage.Client()\n",
    "bucket_name = 'my-bucket'\n",
    "bucket = storage_client.bucket(bucket_name)\n",
    "stats = storage.Blob(bucket=bucket, name=name).exists(storage_client)"
   ]
  }
 ],
 "metadata": {
  "environment": {
   "kernel": "python3",
   "name": "common-cpu.m109",
   "type": "gcloud",
   "uri": "gcr.io/deeplearning-platform-release/base-cpu:m109"
  },
  "kernelspec": {
   "display_name": "Python 3",
   "language": "python",
   "name": "python3"
  },
  "language_info": {
   "codemirror_mode": {
    "name": "ipython",
    "version": 3
   },
   "file_extension": ".py",
   "mimetype": "text/x-python",
   "name": "python",
   "nbconvert_exporter": "python",
   "pygments_lexer": "ipython3",
   "version": "3.10.11"
  }
 },
 "nbformat": 4,
 "nbformat_minor": 5
}
