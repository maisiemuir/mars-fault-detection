{
 "cells": [
  {
   "cell_type": "markdown",
   "id": "ea67388a-6a94-4cc3-ab41-e8857da3792c",
   "metadata": {},
   "source": [
    "# Config"
   ]
  },
  {
   "cell_type": "markdown",
   "id": "965d876e-add8-4647-a68a-b01d55dc477a",
   "metadata": {},
   "source": [
    "Folder Structure on EE\n",
    "\n",
    "- mars\n",
    "    - features\n",
    "        - {feature_name}\n",
    "            - pre\n",
    "            - post\n",
    "    - labels\n",
    "        - {label_name}\n",
    "            - pre\n",
    "            - post"
   ]
  },
  {
   "cell_type": "code",
   "execution_count": null,
   "id": "821437ee-2b67-4076-bead-fc74cd0750ba",
   "metadata": {},
   "outputs": [],
   "source": [
    "import ee\n",
    "import folium\n",
    "import geopandas as gpd\n",
    "import tensorflow as tf"
   ]
  },
  {
   "cell_type": "code",
   "execution_count": 67,
   "id": "d32c19bd-efab-4ee0-87b4-5cbff6d364b1",
   "metadata": {},
   "outputs": [],
   "source": [
    "ee.Initialize()"
   ]
  },
  {
   "cell_type": "code",
   "execution_count": 68,
   "id": "7c30b12a-3c40-42c7-9687-32e835da5f19",
   "metadata": {},
   "outputs": [],
   "source": [
    "def add_ee_layer(self, ee_image_object, vis_params, name):\n",
    "    map_id_dict = ee_image_object.getMapId(vis_params)\n",
    "    folium.raster_layers.TileLayer(\n",
    "        tiles = map_id_dict['tile_fetcher'].url_format,\n",
    "        attr = 'Map Data &copy; <a href=\"https://earthengine.google.com/\">Google Earth Engine</a>',\n",
    "        name = name,\n",
    "        overlay = True,\n",
    "        control = True\n",
    "    ).add_to(self)\n",
    "\n",
    "folium.Map.add_ee_layer = add_ee_layer"
   ]
  },
  {
   "cell_type": "code",
   "execution_count": null,
   "id": "e7ef6c87-581b-4fe2-9af6-7fdc1f9e8a08",
   "metadata": {},
   "outputs": [],
   "source": [
    "mars_hrsc_sample = ee.ImageCollection(\"projects/esg-satelite/assets/mars/mars_express_hrsc_example\")\n",
    "faultline_vectors = ee.FeatureCollection(\"projects/esg-satelite/assets/mars/labels/faultlines\")\n",
    "# faultlines_raster = ee.Image(\"projects/esg-satelite/assets/mars/labels/faultlines_raster\")"
   ]
  },
  {
   "cell_type": "code",
   "execution_count": null,
   "id": "2613a17f-6a67-47aa-adb0-1e0629c3a336",
   "metadata": {},
   "outputs": [],
   "source": [
    "BANDS = [\"HRSC\"]\n",
    "RESPONSE = \"FAULTLINE\"\n",
    "FEATURES = BANDS + [RESPONSE]\n",
    "\n",
    "KERNEL_SIZE = 64\n",
    "COLUMNS = [\n",
    "    tf.io.FixedLenFeature(shape=[KERNEL_SIZE, KERNEL_SIZE], dtype=tf.float32) for _ in FEATURES\n",
    "]\n",
    "FEATURES_DICT = dict(zip(FEATURES, COLUMNS))"
   ]
  },
  {
   "cell_type": "code",
   "execution_count": null,
   "id": "3da97475-4c9f-4e48-bcac-ef10aca62aaf",
   "metadata": {},
   "outputs": [],
   "source": [
    "GEOMETRY_WORLD = ee.Geometry.Polygon(\n",
    "    [\n",
    "        [-180, 88],\n",
    "        [180, 88],\n",
    "        [180, -88],\n",
    "        [-180, -88],\n",
    "    ],\n",
    "    None,\n",
    "    False\n",
    ")"
   ]
  },
  {
   "cell_type": "markdown",
   "id": "16787e70-3af3-4137-bd08-1ed75ba18205",
   "metadata": {
    "tags": []
   },
   "source": [
    "# HRSC Data Processing"
   ]
  },
  {
   "cell_type": "markdown",
   "id": "e8616417-f23b-4b76-ad4d-c3f360c5ba26",
   "metadata": {},
   "source": [
    "#### Black band removal"
   ]
  },
  {
   "cell_type": "code",
   "execution_count": 205,
   "id": "9dd8a5ad-e095-40de-b1df-e2ab9bfd8f46",
   "metadata": {},
   "outputs": [],
   "source": [
    "mars_hrsc_sample = mars_hrsc_sample.select([\"b1\"], [\"HRSC\"])"
   ]
  },
  {
   "cell_type": "code",
   "execution_count": 107,
   "id": "2276dc20-e981-4343-ae0a-831048ad8f79",
   "metadata": {},
   "outputs": [],
   "source": [
    "def pixel_mask(image):\n",
    "    return image.updateMask((image.select(\"HRSC\").gt(0)))\n",
    "\n",
    "mars_hrsc_filtered = mars_hrsc_sample.map(pixel_mask)\n",
    "mars_hrsc_mosaic = mars_hrsc_filtered.mosaic()"
   ]
  },
  {
   "cell_type": "markdown",
   "id": "8352afde-bc6e-433e-9851-9c1c759ac722",
   "metadata": {},
   "source": [
    "Just to check if the black pixels are actually 0."
   ]
  },
  {
   "cell_type": "code",
   "execution_count": 92,
   "id": "4e7b22aa-f930-4982-ac82-deff1376c61b",
   "metadata": {},
   "outputs": [
    {
     "name": "stdout",
     "output_type": "stream",
     "text": [
      "{'b1': 0}\n"
     ]
    }
   ],
   "source": [
    "region = mars_hrsc_sample.geometry()\n",
    "maxReducer = ee.Reducer.min()\n",
    "print(mars_hrsc_mosaic.reduceRegion(maxReducer, region, 300, bestEffort=True).getInfo())"
   ]
  },
  {
   "cell_type": "code",
   "execution_count": null,
   "id": "254ab275-a893-497d-bf95-c5773a14cb7e",
   "metadata": {},
   "outputs": [],
   "source": [
    "task = ee.batch.Export.image.toAsset(\n",
    "    mars_hrsc_mosaic,\n",
    "    description = \"HRSC_Image\",\n",
    "    assetId=\"projects/esg-satelite/assets/mars/features/hrsc_sample/post\",\n",
    "    region=GEOMETRY_WORLD,\n",
    "    scale=1000,\n",
    "    maxPixels=1e11\n",
    "    #Note that crs is a parameter here - look this up in future\n",
    ")"
   ]
  },
  {
   "cell_type": "code",
   "execution_count": null,
   "id": "1038c861-f8f4-4a13-b508-8cadd0fd37b8",
   "metadata": {},
   "outputs": [],
   "source": [
    "task.start()"
   ]
  },
  {
   "cell_type": "markdown",
   "id": "080e47d4-2ab2-4f23-a945-0c2f32549882",
   "metadata": {},
   "source": [
    "# Fault Line Data Processing"
   ]
  },
  {
   "cell_type": "markdown",
   "id": "7676ddfa-e6d1-4d14-a276-1b8bf4a56455",
   "metadata": {},
   "source": [
    "Add a column of ones for reduction."
   ]
  },
  {
   "cell_type": "code",
   "execution_count": 206,
   "id": "3ddb51b7-cb1e-41d3-8580-e0d110a9b611",
   "metadata": {},
   "outputs": [],
   "source": [
    "def add_column(feature):\n",
    "    return feature.set({\"Value\": 1})\n",
    "\n",
    "faultline_vectors_with_ones = faultline_vectors.map(add_column)"
   ]
  },
  {
   "cell_type": "code",
   "execution_count": 123,
   "id": "58201827-88f3-42d2-bdb0-eaa50f04956b",
   "metadata": {},
   "outputs": [],
   "source": [
    "faultline_im = (\n",
    "    faultline_vectors_with_ones.reduceToImage(\n",
    "        properties=[\"Value\"],\n",
    "        reducer=ee.Reducer.first()\n",
    "    )\n",
    "    .select([\"first\"], [\"FAULTLINE\"])\n",
    "    .unmask(0)\n",
    ")"
   ]
  },
  {
   "cell_type": "code",
   "execution_count": 129,
   "id": "842ce9dd-c337-4393-867d-4539a5eb1c9c",
   "metadata": {},
   "outputs": [],
   "source": [
    "task = ee.batch.Export.image.toAsset(\n",
    "    faultline_im,\n",
    "    description = \"Faultline_image\",\n",
    "    assetId=\"projects/esg-satelite/assets/mars/labels/faultlines_raster\",\n",
    "    region=GEOMETRY_WORLD,\n",
    "    scale=1000,\n",
    "    maxPixels=1e11\n",
    "    #Note that crs is a parameter here - look this up in future\n",
    ")"
   ]
  },
  {
   "cell_type": "code",
   "execution_count": 130,
   "id": "12ba6a7e-7a64-411f-b9f3-31dc06b38064",
   "metadata": {},
   "outputs": [],
   "source": [
    "task.start()"
   ]
  },
  {
   "cell_type": "markdown",
   "id": "b5331741-0875-4395-bf09-72fdd788f4a5",
   "metadata": {},
   "source": [
    "Stacking the mars image onto the faultlines raster"
   ]
  },
  {
   "cell_type": "code",
   "execution_count": 165,
   "id": "56b8cb98-7d2a-46f7-9450-ffa4ed31b7db",
   "metadata": {},
   "outputs": [],
   "source": [
    "faultlines_raster = ee.Image(\"projects/esg-satelite/assets/mars/labels/faultlines_raster\")\n",
    "#faultlines_raster = faultline_im\n",
    "# REMEMBER TO UNMASK AND RESAVE THE IMAGE!"
   ]
  },
  {
   "cell_type": "code",
   "execution_count": 132,
   "id": "40f2a38b-9355-4f06-9565-6856bb81e6ef",
   "metadata": {},
   "outputs": [],
   "source": [
    "# Make sure to save the mars mosaiced image so you can easily read it back in\n",
    "mars = mars_hrsc_filtered.mosaic()"
   ]
  },
  {
   "cell_type": "code",
   "execution_count": 134,
   "id": "79e86440-0b33-413d-b3bf-3c947b7a2083",
   "metadata": {},
   "outputs": [],
   "source": [
    "image_stack = ee.Image.cat(\n",
    "    [\n",
    "        faultlines_raster,\n",
    "        mars\n",
    "    ]\n",
    ")"
   ]
  },
  {
   "cell_type": "code",
   "execution_count": 135,
   "id": "93c9519e-5c81-4535-b8a4-99c4d8932a6d",
   "metadata": {},
   "outputs": [],
   "source": [
    "image_stack = image_stack.float()"
   ]
  },
  {
   "cell_type": "code",
   "execution_count": 144,
   "id": "422b2275-1c07-4d66-b385-09dbaaa28c00",
   "metadata": {},
   "outputs": [],
   "source": [
    "# Makes a 64x64 tensor of 1s\n",
    "ee_list = ee.List.repeat(1,KERNEL_SIZE)\n",
    "ee_lists = ee.List.repeat(ee_list,KERNEL_SIZE)\n",
    "kernel = ee.Kernel.fixed(KERNEL_SIZE, KERNEL_SIZE, ee_lists)"
   ]
  },
  {
   "cell_type": "code",
   "execution_count": 145,
   "id": "368503e4-033c-4ad0-ac54-17af431b0175",
   "metadata": {},
   "outputs": [],
   "source": [
    "# Adds image array of 64x64 around each pixel\n",
    "image_stack_neighbours = image_stack.neighborhoodToArray(kernel)"
   ]
  },
  {
   "cell_type": "code",
   "execution_count": 198,
   "id": "10db04f2-f6a3-4370-b04e-212796a7878a",
   "metadata": {},
   "outputs": [],
   "source": [
    "# Makes a feature collection of \"patches\" which are regions (geometries) of different sets of data\n",
    "PATCHES_JSON = {\n",
    "  \"type\": \"FeatureCollection\",\n",
    "  \"features\": [\n",
    "    {\n",
    "      \"type\":\"Feature\",\n",
    "      \"properties\": {},\n",
    "      \"geometry\": {\n",
    "        \"coordinates\": [\n",
    "          [\n",
    "            [\n",
    "              -75.69403257726853,\n",
    "              45.43314727092101\n",
    "            ],\n",
    "            [\n",
    "              -75.69403257726853,\n",
    "              41.20493154723766\n",
    "            ],\n",
    "            [\n",
    "              -69.91084889191063,\n",
    "              41.20493154723766\n",
    "            ],\n",
    "            [\n",
    "              -69.91084889191063,\n",
    "              45.43314727092101\n",
    "            ],\n",
    "            [\n",
    "              -75.69403257726853,\n",
    "              45.43314727092101\n",
    "            ]\n",
    "          ]\n",
    "        ],\n",
    "        \"type\": \"Polygon\"\n",
    "      }\n",
    "    }\n",
    "  ]\n",
    "}\n",
    "\n",
    "PATCHES = ee.FeatureCollection(PATCHES_JSON)"
   ]
  },
  {
   "cell_type": "code",
   "execution_count": 199,
   "id": "8a895893-2605-47d2-830c-3b4755c26d75",
   "metadata": {},
   "outputs": [],
   "source": [
    "patch_list = PATCHES.toList(PATCHES.size())\n",
    "task_list = []\n",
    "\n",
    "# Extracts feature from the feature collection, and gets the geom property\n",
    "for geometry_index in range(PATCHES.size().getInfo()):\n",
    "    image_stack_sample = image_stack_neighbours.sample(\n",
    "        region=ee.Feature(patch_list.get(geometry_index)).geometry(),\n",
    "        scale=1000,\n",
    "        numPixels=1000,\n",
    "        seed=123\n",
    "    )\n",
    "\n",
    "    desc = f\"Flood Data Geometry: {geometry_index}\"\n",
    "    task = ee.batch.Export.table.toCloudStorage(\n",
    "        collection=image_stack_sample,\n",
    "        description=f\"Flood Data Region {geometry_index}\",\n",
    "        bucket=\"esg-satelite-data-warehouse\",\n",
    "        fileNamePrefix=f\"natural-disaster-monitoring/modelling/train/training_data_{geometry_index}\",\n",
    "        fileFormat = \"TFRecord\"\n",
    "    )\n",
    "    task_list.append(task)"
   ]
  },
  {
   "cell_type": "code",
   "execution_count": 200,
   "id": "1307865d-dfc0-4d52-991e-d29aa5c162c3",
   "metadata": {},
   "outputs": [
    {
     "data": {
      "text/plain": [
       "[<Task EXPORT_FEATURES: Flood Data Region 0 (UNSUBMITTED)>]"
      ]
     },
     "execution_count": 200,
     "metadata": {},
     "output_type": "execute_result"
    }
   ],
   "source": [
    "task_list"
   ]
  },
  {
   "cell_type": "code",
   "execution_count": 202,
   "id": "2cb6922d-99d2-4a71-a0c7-cee3132685e5",
   "metadata": {},
   "outputs": [
    {
     "data": {
      "text/plain": [
       "238"
      ]
     },
     "execution_count": 202,
     "metadata": {},
     "output_type": "execute_result"
    }
   ],
   "source": [
    "image_stack_sample.size().getInfo()"
   ]
  },
  {
   "cell_type": "code",
   "execution_count": null,
   "id": "421f1474-9435-48a9-8be0-1df0902948d9",
   "metadata": {},
   "outputs": [],
   "source": []
  }
 ],
 "metadata": {
  "environment": {
   "kernel": "python3",
   "name": "common-cpu.m109",
   "type": "gcloud",
   "uri": "gcr.io/deeplearning-platform-release/base-cpu:m109"
  },
  "kernelspec": {
   "display_name": "Python 3",
   "language": "python",
   "name": "python3"
  },
  "language_info": {
   "codemirror_mode": {
    "name": "ipython",
    "version": 3
   },
   "file_extension": ".py",
   "mimetype": "text/x-python",
   "name": "python",
   "nbconvert_exporter": "python",
   "pygments_lexer": "ipython3",
   "version": "3.10.11"
  }
 },
 "nbformat": 4,
 "nbformat_minor": 5
}
