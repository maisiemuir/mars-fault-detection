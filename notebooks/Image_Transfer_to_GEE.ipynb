{
 "cells": [
  {
   "cell_type": "code",
   "execution_count": 3,
   "id": "ef63c5e5-3063-4832-986b-b72a828a07c7",
   "metadata": {},
   "outputs": [],
   "source": [
    "import ee\n",
    "import subprocess\n"
   ]
  },
  {
   "cell_type": "code",
   "execution_count": 7,
   "id": "7c424ae6-f53c-4d02-8450-6a3e7858085f",
   "metadata": {},
   "outputs": [],
   "source": [
    "ee_table_path = f\"projects/esg-satelite/assets/mars/elevation/elevation_data\"\n",
    "shapefile_post_path = \"gs://esg-satelite-data-warehouse/mars/planetarymaps.usgs.gov/mosaic/Mars/HRSC_MOLA_Blend/Mars_HRSC_MOLA_BlendDEM_Global_200mp_v2\"\n"
   ]
  },
  {
   "cell_type": "code",
   "execution_count": 8,
   "id": "ddbe9f3d-74a4-497c-aa82-0b61012757a5",
   "metadata": {},
   "outputs": [
    {
     "name": "stdout",
     "output_type": "stream",
     "text": [
      "Started upload task with ID: WQ5QQSCMUX4GA2AJGQG55FMY\n",
      "\n",
      "\n"
     ]
    }
   ],
   "source": [
    "result = subprocess.run(\n",
    "    [\n",
    "        \"earthengine\",\n",
    "        \"upload\",\n",
    "        \"image\", #Changed to image\n",
    "        f\"--asset_id={ee_table_path}\",\n",
    "        f\"{shapefile_post_path}.tif\"\n",
    "    ],\n",
    "    capture_output=True,\n",
    "    check=True,\n",
    ")\n",
    "print(result.stdout.decode())\n",
    "print(result.stderr.decode())"
   ]
  },
  {
   "cell_type": "code",
   "execution_count": null,
   "id": "a8d10401-d361-45b7-bf43-e0b98ed247c7",
   "metadata": {},
   "outputs": [],
   "source": []
  }
 ],
 "metadata": {
  "environment": {
   "kernel": "python3",
   "name": "common-cpu.m109",
   "type": "gcloud",
   "uri": "gcr.io/deeplearning-platform-release/base-cpu:m109"
  },
  "kernelspec": {
   "display_name": "Python 3",
   "language": "python",
   "name": "python3"
  },
  "language_info": {
   "codemirror_mode": {
    "name": "ipython",
    "version": 3
   },
   "file_extension": ".py",
   "mimetype": "text/x-python",
   "name": "python",
   "nbconvert_exporter": "python",
   "pygments_lexer": "ipython3",
   "version": "3.10.11"
  }
 },
 "nbformat": 4,
 "nbformat_minor": 5
}
