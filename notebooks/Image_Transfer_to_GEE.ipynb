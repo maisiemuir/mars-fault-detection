{
 "cells": [
  {
   "cell_type": "markdown",
   "id": "d33d72f3-3f01-40a1-ac3d-58ca3fcd48b7",
   "metadata": {},
   "source": [
    "# Config"
   ]
  },
  {
   "cell_type": "code",
   "execution_count": 3,
   "id": "ef63c5e5-3063-4832-986b-b72a828a07c7",
   "metadata": {},
   "outputs": [],
   "source": [
    "import ee\n",
    "import subprocess"
   ]
  },
  {
   "cell_type": "markdown",
   "id": "41fa978f-3a94-42cc-a52b-d2b5da5b5e84",
   "metadata": {},
   "source": [
    "# Transfer Mars DEM from GCP to EE"
   ]
  },
  {
   "cell_type": "code",
   "execution_count": 7,
   "id": "7c424ae6-f53c-4d02-8450-6a3e7858085f",
   "metadata": {},
   "outputs": [],
   "source": [
    "ee_table_path = f\"projects/esg-satelite/assets/mars/elevation/elevation_data\"\n",
    "shapefile_post_path = \"gs://esg-satelite-data-warehouse/mars/planetarymaps.usgs.gov/mosaic/Mars/HRSC_MOLA_Blend/Mars_HRSC_MOLA_BlendDEM_Global_200mp_v2\""
   ]
  },
  {
   "cell_type": "code",
   "execution_count": 8,
   "id": "ddbe9f3d-74a4-497c-aa82-0b61012757a5",
   "metadata": {},
   "outputs": [
    {
     "name": "stdout",
     "output_type": "stream",
     "text": [
      "Started upload task with ID: WQ5QQSCMUX4GA2AJGQG55FMY\n",
      "\n",
      "\n"
     ]
    }
   ],
   "source": [
    "result = subprocess.run(\n",
    "    [\n",
    "        \"earthengine\",\n",
    "        \"upload\",\n",
    "        \"image\", #Changed to image\n",
    "        f\"--asset_id={ee_table_path}\",\n",
    "        f\"{shapefile_post_path}.tif\"\n",
    "    ],\n",
    "    capture_output=True,\n",
    "    check=True,\n",
    ")\n",
    "print(result.stdout.decode())\n",
    "print(result.stderr.decode())"
   ]
  },
  {
   "cell_type": "markdown",
   "id": "6b4a5180-b1db-435f-b89e-94fba8fe2664",
   "metadata": {},
   "source": [
    "# Transfer Mars HRSC Sample from GCP to EE"
   ]
  },
  {
   "cell_type": "code",
   "execution_count": 18,
   "id": "373dc28a-a1ff-4fa2-8e5a-c13241f5e098",
   "metadata": {},
   "outputs": [],
   "source": [
    "ee_table_path = f\"projects/esg-satelite/assets/mars/mars_express_hrsc_example\"\n",
    "image_paths = [\n",
    "    \"gs://esg-satelite-data-warehouse/mars/mars_express_hrsc_example/h1462_nd3_Merc_clip.tif\",\n",
    "    \"gs://esg-satelite-data-warehouse/mars/mars_express_hrsc_example/h1495_nd3_Merc_clip.tif\",\n",
    "    \"gs://esg-satelite-data-warehouse/mars/mars_express_hrsc_example/h8304_nd3_Merc.tif\"\n",
    "]"
   ]
  },
  {
   "cell_type": "code",
   "execution_count": 20,
   "id": "2ad42137-eb0b-4ea7-8178-85cd65f89fd0",
   "metadata": {},
   "outputs": [
    {
     "name": "stdout",
     "output_type": "stream",
     "text": [
      "Started upload task with ID: VVEKOYHCL6CFMUBFURBG3I5Y\n",
      "\n",
      "\n",
      "Started upload task with ID: HM3G5SART6LVXGZDDYM75RQH\n",
      "\n",
      "\n",
      "Started upload task with ID: FPPCF6PFVUAEXOL3HJLHGQ6X\n",
      "\n",
      "\n"
     ]
    }
   ],
   "source": [
    "for count, path in enumerate(image_paths):\n",
    "    result = subprocess.run(\n",
    "        [\n",
    "            \"earthengine\",\n",
    "            \"upload\",\n",
    "            \"image\", #Changed to image\n",
    "            f\"--asset_id={ee_table_path}/image_{count}\",\n",
    "            path\n",
    "        ],\n",
    "        capture_output=True,\n",
    "        check=True,\n",
    "    )\n",
    "    print(result.stdout.decode())\n",
    "    print(result.stderr.decode())"
   ]
  }
 ],
 "metadata": {
  "environment": {
   "kernel": "python3",
   "name": "common-cpu.m109",
   "type": "gcloud",
   "uri": "gcr.io/deeplearning-platform-release/base-cpu:m109"
  },
  "kernelspec": {
   "display_name": "Python 3",
   "language": "python",
   "name": "python3"
  },
  "language_info": {
   "codemirror_mode": {
    "name": "ipython",
    "version": 3
   },
   "file_extension": ".py",
   "mimetype": "text/x-python",
   "name": "python",
   "nbconvert_exporter": "python",
   "pygments_lexer": "ipython3",
   "version": "3.10.11"
  }
 },
 "nbformat": 4,
 "nbformat_minor": 5
}
