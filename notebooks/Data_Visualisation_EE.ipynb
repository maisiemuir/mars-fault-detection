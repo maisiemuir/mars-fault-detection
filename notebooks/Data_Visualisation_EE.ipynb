{
 "cells": [
  {
   "cell_type": "markdown",
   "id": "80ffcb6c-6b70-4d43-95ad-1e87fb01a62a",
   "metadata": {},
   "source": [
    "# Data Visualisation"
   ]
  },
  {
   "cell_type": "markdown",
   "id": "8226d052-3fc2-4aec-aadd-b1ca670c757c",
   "metadata": {},
   "source": [
    "# 1. Config"
   ]
  },
  {
   "cell_type": "code",
   "execution_count": 2,
   "id": "af5feaec-7cc3-478b-95e3-09ee041c0c5d",
   "metadata": {},
   "outputs": [],
   "source": [
    "import ee\n",
    "import folium\n",
    "import geopandas as gpd"
   ]
  },
  {
   "cell_type": "code",
   "execution_count": null,
   "id": "ba5dd2b0-719d-449d-bc65-c3f5af5f2d43",
   "metadata": {},
   "outputs": [],
   "source": [
    "ee.Initialize()"
   ]
  },
  {
   "cell_type": "code",
   "execution_count": null,
   "id": "8bd82cba-7570-48dc-a619-9a964ddcbabe",
   "metadata": {},
   "outputs": [],
   "source": [
    "# Creating add_ee_layer function\n",
    "# This allows us to visualise EE objects on a Folium map\n",
    "def add_ee_layer(self, ee_image_object, vis_params, name):\n",
    "    map_id_dict = ee_image_object.getMapId(vis_params)\n",
    "    folium.raster_layers.TileLayer(\n",
    "        tiles = map_id_dict['tile_fetcher'].url_format,\n",
    "        attr = 'Map Data &copy; <a href=\"https://earthengine.google.com/\">Google Earth Engine</a>',\n",
    "        name = name,\n",
    "        overlay = True,\n",
    "        control = True\n",
    "    ).add_to(self)\n",
    "\n",
    "folium.Map.add_ee_layer = add_ee_layer"
   ]
  },
  {
   "cell_type": "markdown",
   "id": "9e827130-04fe-437e-8c84-ddc186901395",
   "metadata": {},
   "source": [
    "# 2. Visualising data from EE"
   ]
  },
  {
   "cell_type": "code",
   "execution_count": null,
   "id": "a7b0dc61-b01f-43f5-b6a1-b46bb7c8e865",
   "metadata": {},
   "outputs": [],
   "source": [
    "faultlines_raster = ee.Image(\"projects/esg-satelite/assets/mars/labels/faultlines_raster\")\n",
    "hrsc_sample = ee.Image(\"projects/esg-satelite/assets/mars/features/post/hrsc_sample\")"
   ]
  },
  {
   "cell_type": "code",
   "execution_count": null,
   "id": "2de18236-5641-49c0-8a1c-71df18b057c3",
   "metadata": {
    "tags": []
   },
   "outputs": [],
   "source": [
    "Map = folium.Map()\n",
    "\n",
    "Map.add_ee_layer(\n",
    "    hrsc_sample,\n",
    "    {\"min\": 0, \"max\": 1},\n",
    "    \"Fault Lines\"\n",
    ")\n",
    "\n",
    "_ = folium.LayerControl().add_to(Map)\n",
    "\n",
    "Map"
   ]
  }
 ],
 "metadata": {
  "environment": {
   "kernel": "python3",
   "name": "common-cpu.m109",
   "type": "gcloud",
   "uri": "gcr.io/deeplearning-platform-release/base-cpu:m109"
  },
  "kernelspec": {
   "display_name": "Python 3",
   "language": "python",
   "name": "python3"
  },
  "language_info": {
   "codemirror_mode": {
    "name": "ipython",
    "version": 3
   },
   "file_extension": ".py",
   "mimetype": "text/x-python",
   "name": "python",
   "nbconvert_exporter": "python",
   "pygments_lexer": "ipython3",
   "version": "3.10.11"
  }
 },
 "nbformat": 4,
 "nbformat_minor": 5
}
