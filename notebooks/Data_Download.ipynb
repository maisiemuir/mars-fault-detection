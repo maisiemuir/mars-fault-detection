{
 "cells": [
  {
   "cell_type": "code",
   "execution_count": 9,
   "id": "b82c922e-63ae-4de4-83f4-5b72647e5b9b",
   "metadata": {},
   "outputs": [],
   "source": [
    "import urllib\n",
    "from google.cloud import storage"
   ]
  },
  {
   "cell_type": "code",
   "execution_count": 10,
   "id": "46ba22ff-3c01-4006-9cb1-a2875b93c878",
   "metadata": {},
   "outputs": [],
   "source": [
    "def upload_to_bucket_via_url(url: str, file_name: str, bucket_name: str, bucket_path: str):\n",
    "    urllib.request.urlretrieve(url, file_name)\n",
    "    client = storage.Client()\n",
    "    bucket = client.get_bucket(bucket_name)\n",
    "    blob = bucket.blob(bucket_path)\n",
    "    blob.upload_from_filename(file_name)"
   ]
  },
  {
   "cell_type": "code",
   "execution_count": null,
   "id": "f25f560b-82b3-4edc-8385-2c7c98de3d5f",
   "metadata": {},
   "outputs": [],
   "source": [
    "upload_to_bucket_via_url(\n",
    "    \"https://planetarymaps.usgs.gov/mosaic/Mars/HRSC_MOLA_Blend/Mars_HRSC_MOLA_BlendDEM_Global_200mp_v2.tif\",\n",
    "    \"Mars_HRSC_MOLA_BlendDEM_Global_200mp_v2.tif\",\n",
    "    \"esg-satelite-data-warehouse\",\n",
    "    \"mars/features\"\n",
    ")"
   ]
  },
  {
   "cell_type": "code",
   "execution_count": null,
   "id": "b41896b8-eeee-4dd8-bf8f-045de3277562",
   "metadata": {},
   "outputs": [],
   "source": []
  }
 ],
 "metadata": {
  "environment": {
   "kernel": "python3",
   "name": "common-cpu.m109",
   "type": "gcloud",
   "uri": "gcr.io/deeplearning-platform-release/base-cpu:m109"
  },
  "kernelspec": {
   "display_name": "Python 3",
   "language": "python",
   "name": "python3"
  },
  "language_info": {
   "codemirror_mode": {
    "name": "ipython",
    "version": 3
   },
   "file_extension": ".py",
   "mimetype": "text/x-python",
   "name": "python",
   "nbconvert_exporter": "python",
   "pygments_lexer": "ipython3",
   "version": "3.10.11"
  }
 },
 "nbformat": 4,
 "nbformat_minor": 5
}
