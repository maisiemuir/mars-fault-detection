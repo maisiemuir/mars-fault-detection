{
 "cells": [
  {
   "cell_type": "code",
   "execution_count": 17,
   "id": "761a849d-abb7-452a-80fd-e5d700699618",
   "metadata": {},
   "outputs": [],
   "source": [
    "import subprocess\n",
    "import geopandas as gpd\n",
    "import os\n",
    "from google.cloud import storage\n",
    "import glob"
   ]
  },
  {
   "cell_type": "markdown",
   "id": "6c744bc4-9037-4bfe-b629-579eab00b672",
   "metadata": {},
   "source": [
    "# Transform to Earth coords"
   ]
  },
  {
   "cell_type": "code",
   "execution_count": null,
   "id": "2dceb6d6-e05f-4159-a1d9-7cd63a0cf83b",
   "metadata": {},
   "outputs": [],
   "source": []
  },
  {
   "cell_type": "code",
   "execution_count": 2,
   "id": "63c9fb08-0c1e-4eed-b2c5-34a6105d876c",
   "metadata": {},
   "outputs": [],
   "source": [
    "os.environ[\"PROJ_IGNORE_CELESTIAL_BODY\"] = \"YES\""
   ]
  },
  {
   "cell_type": "code",
   "execution_count": 3,
   "id": "711e6ec9-4aed-42ad-b6aa-fc488507bc25",
   "metadata": {},
   "outputs": [],
   "source": [
    "labels_mars = gpd.read_file(\"gs://esg-satelite-data-warehouse/mars/mars_labels/Orlov_TempeTerra_fault_catalogue.shp\")"
   ]
  },
  {
   "cell_type": "code",
   "execution_count": 4,
   "id": "28f7aaa6-18cb-4299-9afd-21d3c37812e5",
   "metadata": {},
   "outputs": [],
   "source": [
    "labels_earth = labels_mars.to_crs(\"epsg:4326\")"
   ]
  },
  {
   "cell_type": "code",
   "execution_count": null,
   "id": "d2c9e9e1-5002-448c-a58e-14a95c04bb6c",
   "metadata": {},
   "outputs": [],
   "source": [
    "# gs://esg-satelite-data-warehouse/mars/mars_labels_processed/faultlines.shp\""
   ]
  },
  {
   "cell_type": "code",
   "execution_count": 6,
   "id": "2004ff06-84dc-4ecf-9e86-a0e21961e43f",
   "metadata": {},
   "outputs": [],
   "source": [
    "labels_earth.to_file(\"out/faultlines.shp\")"
   ]
  },
  {
   "cell_type": "code",
   "execution_count": 19,
   "id": "71ba1d06-176d-435f-bad5-aed266d2687d",
   "metadata": {},
   "outputs": [],
   "source": [
    "for file in glob.glob(\"out/*\"):\n",
    "    extension = file.split(\".\")[-1]\n",
    "    client = storage.Client()\n",
    "    bucket = client.get_bucket(\"esg-satelite-data-warehouse\")\n",
    "    blob = bucket.blob(\"mars/mars_labels_processed/faultlines.\" + extension)\n",
    "    blob.upload_from_filename(f\"out/faultlines.{extension}\")"
   ]
  },
  {
   "cell_type": "markdown",
   "id": "95d39670-c471-4b35-a62f-a971ada4be52",
   "metadata": {},
   "source": [
    "# Save to GEE"
   ]
  },
  {
   "cell_type": "code",
   "execution_count": 22,
   "id": "be139eea-47ca-473a-b2c9-99fc9582147c",
   "metadata": {},
   "outputs": [],
   "source": [
    "ee_table_path = f\"projects/esg-satelite/assets/mars/labels/faultlines\"\n",
    "shapefile_post_path = \"gs://esg-satelite-data-warehouse/mars/mars_labels_processed/faultlines\"\n"
   ]
  },
  {
   "cell_type": "code",
   "execution_count": 23,
   "id": "3c9f1b07-56b5-41f3-ad26-0a6ff4a20fa2",
   "metadata": {},
   "outputs": [
    {
     "name": "stdout",
     "output_type": "stream",
     "text": [
      "Started upload task with ID: EMSK2PUHZ4VPSMMHT6GZI7YK\n",
      "\n",
      "\n"
     ]
    }
   ],
   "source": [
    "result = subprocess.run(\n",
    "    [\n",
    "        \"earthengine\",\n",
    "        \"upload\",\n",
    "        \"table\",\n",
    "        f\"--asset_id={ee_table_path}\",\n",
    "        f\"{shapefile_post_path}.shp\"\n",
    "    ],\n",
    "    capture_output=True,\n",
    "    check=True,\n",
    ")\n",
    "print(result.stdout.decode())\n",
    "print(result.stderr.decode())"
   ]
  },
  {
   "cell_type": "code",
   "execution_count": null,
   "id": "3751579f-0eff-487a-bdce-03568c147759",
   "metadata": {},
   "outputs": [],
   "source": []
  }
 ],
 "metadata": {
  "environment": {
   "kernel": "python3",
   "name": "common-cpu.m109",
   "type": "gcloud",
   "uri": "gcr.io/deeplearning-platform-release/base-cpu:m109"
  },
  "kernelspec": {
   "display_name": "Python 3",
   "language": "python",
   "name": "python3"
  },
  "language_info": {
   "codemirror_mode": {
    "name": "ipython",
    "version": 3
   },
   "file_extension": ".py",
   "mimetype": "text/x-python",
   "name": "python",
   "nbconvert_exporter": "python",
   "pygments_lexer": "ipython3",
   "version": "3.10.11"
  }
 },
 "nbformat": 4,
 "nbformat_minor": 5
}
