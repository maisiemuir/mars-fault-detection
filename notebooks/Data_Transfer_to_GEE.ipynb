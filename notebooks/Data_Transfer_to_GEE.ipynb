{
 "cells": [
  {
   "cell_type": "markdown",
   "id": "beaea2c6-ec97-4d33-9fd5-b554171d7936",
   "metadata": {},
   "source": [
    "# Config"
   ]
  },
  {
   "cell_type": "code",
   "execution_count": 53,
   "id": "761a849d-abb7-452a-80fd-e5d700699618",
   "metadata": {},
   "outputs": [],
   "source": [
    "import subprocess\n",
    "import geopandas as gpd\n",
    "import os\n",
    "from google.cloud import storage\n",
    "import glob\n",
    "import shutil\n",
    "import pathlib"
   ]
  },
  {
   "cell_type": "markdown",
   "id": "6c744bc4-9037-4bfe-b629-579eab00b672",
   "metadata": {},
   "source": [
    "# Transform To Earth Coordinates"
   ]
  },
  {
   "cell_type": "code",
   "execution_count": 49,
   "id": "63c9fb08-0c1e-4eed-b2c5-34a6105d876c",
   "metadata": {},
   "outputs": [],
   "source": [
    "os.environ[\"PROJ_IGNORE_CELESTIAL_BODY\"] = \"YES\""
   ]
  },
  {
   "cell_type": "code",
   "execution_count": 50,
   "id": "711e6ec9-4aed-42ad-b6aa-fc488507bc25",
   "metadata": {},
   "outputs": [],
   "source": [
    "labels_mars = gpd.read_file(\"gs://esg-satelite-data-warehouse/mars/mars_labels/Orlov_TempeTerra_fault_catalogue.shp\")"
   ]
  },
  {
   "cell_type": "code",
   "execution_count": 51,
   "id": "28f7aaa6-18cb-4299-9afd-21d3c37812e5",
   "metadata": {},
   "outputs": [],
   "source": [
    "labels_earth = labels_mars.to_crs(\"epsg:4326\")"
   ]
  },
  {
   "cell_type": "code",
   "execution_count": 54,
   "id": "27cd12fd-02a6-4184-a483-54cf0f9d4a24",
   "metadata": {},
   "outputs": [],
   "source": [
    "local_folder = pathlib.Path(\"out\")\n",
    "local_folder.mkdir(exist_ok=False)"
   ]
  },
  {
   "cell_type": "code",
   "execution_count": 55,
   "id": "2004ff06-84dc-4ecf-9e86-a0e21961e43f",
   "metadata": {},
   "outputs": [],
   "source": [
    "labels_earth.to_file(\"out/faultlines.shp\")"
   ]
  },
  {
   "cell_type": "code",
   "execution_count": 56,
   "id": "71ba1d06-176d-435f-bad5-aed266d2687d",
   "metadata": {},
   "outputs": [],
   "source": [
    "for file in glob.glob(\"out/*\"):\n",
    "    extension = file.split(\".\")[-1]\n",
    "    client = storage.Client()\n",
    "    bucket = client.get_bucket(\"esg-satelite-data-warehouse\")\n",
    "    blob = bucket.blob(\"mars/mars_labels_processed/faultlines.\" + extension)\n",
    "    blob.upload_from_filename(f\"out/faultlines.{extension}\")"
   ]
  },
  {
   "cell_type": "code",
   "execution_count": 57,
   "id": "cdec4eb6-3d9c-481c-a50f-57f4c55ee538",
   "metadata": {},
   "outputs": [],
   "source": [
    "shutil.rmtree(\"out\")"
   ]
  },
  {
   "cell_type": "markdown",
   "id": "95d39670-c471-4b35-a62f-a971ada4be52",
   "metadata": {},
   "source": [
    "# Transfer from GCP to EE"
   ]
  },
  {
   "cell_type": "code",
   "execution_count": 22,
   "id": "be139eea-47ca-473a-b2c9-99fc9582147c",
   "metadata": {},
   "outputs": [],
   "source": [
    "ee_table_path = f\"projects/esg-satelite/assets/mars/labels/faultlines\"\n",
    "shapefile_post_path = \"gs://esg-satelite-data-warehouse/mars/mars_labels_processed/faultlines\""
   ]
  },
  {
   "cell_type": "code",
   "execution_count": 23,
   "id": "3c9f1b07-56b5-41f3-ad26-0a6ff4a20fa2",
   "metadata": {},
   "outputs": [
    {
     "name": "stdout",
     "output_type": "stream",
     "text": [
      "Started upload task with ID: EMSK2PUHZ4VPSMMHT6GZI7YK\n",
      "\n",
      "\n"
     ]
    }
   ],
   "source": [
    "result = subprocess.run(\n",
    "    [\n",
    "        \"earthengine\",\n",
    "        \"upload\",\n",
    "        \"table\",\n",
    "        f\"--asset_id={ee_table_path}\",\n",
    "        f\"{shapefile_post_path}.shp\"\n",
    "    ],\n",
    "    capture_output=True,\n",
    "    check=True,\n",
    ")\n",
    "print(result.stdout.decode())\n",
    "print(result.stderr.decode())"
   ]
  }
 ],
 "metadata": {
  "environment": {
   "kernel": "python3",
   "name": "common-cpu.m109",
   "type": "gcloud",
   "uri": "gcr.io/deeplearning-platform-release/base-cpu:m109"
  },
  "kernelspec": {
   "display_name": "Python 3",
   "language": "python",
   "name": "python3"
  },
  "language_info": {
   "codemirror_mode": {
    "name": "ipython",
    "version": 3
   },
   "file_extension": ".py",
   "mimetype": "text/x-python",
   "name": "python",
   "nbconvert_exporter": "python",
   "pygments_lexer": "ipython3",
   "version": "3.10.11"
  }
 },
 "nbformat": 4,
 "nbformat_minor": 5
}
